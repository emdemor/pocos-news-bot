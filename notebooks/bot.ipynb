{
 "cells": [
  {
   "cell_type": "code",
   "execution_count": 1,
   "id": "9bc995b2-1bd2-459b-a6fa-039e7d515331",
   "metadata": {},
   "outputs": [],
   "source": [
    "%config IPCompleter.use_jedi=False"
   ]
  },
  {
   "cell_type": "code",
   "execution_count": 2,
   "id": "4fbd27ba-c8e6-4a7b-9a26-359e40c265fe",
   "metadata": {},
   "outputs": [],
   "source": [
    "%%capture\n",
    "!pip install openai\n",
    "!pip install tiktoken"
   ]
  },
  {
   "cell_type": "code",
   "execution_count": 2,
   "id": "1f12a2d7-3e1c-4d7e-b827-0927fd736f0c",
   "metadata": {},
   "outputs": [],
   "source": [
    "import os\n",
    "import traceback\n",
    "\n",
    "import pyodbc\n",
    "import backoff\n",
    "import chromadb\n",
    "import pandas as pd\n",
    "from loguru import logger\n",
    "\n",
    "from chromadb.config import Settings"
   ]
  },
  {
   "cell_type": "code",
   "execution_count": 3,
   "id": "da5d6c75-d86e-413c-9f9d-aedc57b3b08c",
   "metadata": {},
   "outputs": [],
   "source": [
    "from bot import NewsBot"
   ]
  },
  {
   "cell_type": "code",
   "execution_count": 4,
   "id": "ffdc3c24-13c4-4a2d-897b-02a755ded135",
   "metadata": {},
   "outputs": [
    {
     "name": "stderr",
     "output_type": "stream",
     "text": [
      "/opt/conda/lib/python3.11/site-packages/tqdm/auto.py:21: TqdmWarning: IProgress not found. Please update jupyter and ipywidgets. See https://ipywidgets.readthedocs.io/en/stable/user_install.html\n",
      "  from .autonotebook import tqdm as notebook_tqdm\n",
      "/opt/conda/lib/python3.11/site-packages/transformers/configuration_utils.py:387: UserWarning: Passing `gradient_checkpointing` to a config initialization is deprecated and will be removed in v5 Transformers. Using `model.gradient_checkpointing_enable()` instead, or if you are using the `Trainer` API, pass `gradient_checkpointing=True` in your `TrainingArguments`.\n",
      "  warnings.warn(\n"
     ]
    },
    {
     "ename": "Exception",
     "evalue": "{\"error\":\"ValueError('Collection pocos-news-embedding does not exist.')\"}",
     "output_type": "error",
     "traceback": [
      "\u001b[0;31m---------------------------------------------------------------------------\u001b[0m",
      "\u001b[0;31mHTTPError\u001b[0m                                 Traceback (most recent call last)",
      "File \u001b[0;32m/opt/conda/lib/python3.11/site-packages/chromadb/api/fastapi.py:650\u001b[0m, in \u001b[0;36mraise_chroma_error\u001b[0;34m(resp)\u001b[0m\n\u001b[1;32m    649\u001b[0m \u001b[38;5;28;01mtry\u001b[39;00m:\n\u001b[0;32m--> 650\u001b[0m     \u001b[43mresp\u001b[49m\u001b[38;5;241;43m.\u001b[39;49m\u001b[43mraise_for_status\u001b[49m\u001b[43m(\u001b[49m\u001b[43m)\u001b[49m\n\u001b[1;32m    651\u001b[0m \u001b[38;5;28;01mexcept\u001b[39;00m requests\u001b[38;5;241m.\u001b[39mHTTPError:\n",
      "File \u001b[0;32m/opt/conda/lib/python3.11/site-packages/requests/models.py:1021\u001b[0m, in \u001b[0;36mResponse.raise_for_status\u001b[0;34m(self)\u001b[0m\n\u001b[1;32m   1020\u001b[0m \u001b[38;5;28;01mif\u001b[39;00m http_error_msg:\n\u001b[0;32m-> 1021\u001b[0m     \u001b[38;5;28;01mraise\u001b[39;00m HTTPError(http_error_msg, response\u001b[38;5;241m=\u001b[39m\u001b[38;5;28mself\u001b[39m)\n",
      "\u001b[0;31mHTTPError\u001b[0m: 500 Server Error: Internal Server Error for url: http://chroma-server:8000/api/v1/collections/pocos-news-embedding?tenant=default_tenant&database=default_database",
      "\nDuring handling of the above exception, another exception occurred:\n",
      "\u001b[0;31mException\u001b[0m                                 Traceback (most recent call last)",
      "Cell \u001b[0;32mIn[4], line 1\u001b[0m\n\u001b[0;32m----> 1\u001b[0m news_bot \u001b[38;5;241m=\u001b[39m \u001b[43mNewsBot\u001b[49m\u001b[43m(\u001b[49m\u001b[43m)\u001b[49m\n",
      "File \u001b[0;32m/opt/conda/lib/python3.11/site-packages/bot/_newsbot.py:38\u001b[0m, in \u001b[0;36mNewsBot.__init__\u001b[0;34m(self)\u001b[0m\n\u001b[1;32m     35\u001b[0m \u001b[38;5;28mself\u001b[39m\u001b[38;5;241m.\u001b[39mprompt_greeting \u001b[38;5;241m=\u001b[39m load_prompt(\u001b[38;5;124m\"\u001b[39m\u001b[38;5;124mprompts/prompt_greeting.json\u001b[39m\u001b[38;5;124m\"\u001b[39m)\n\u001b[1;32m     36\u001b[0m \u001b[38;5;28mself\u001b[39m\u001b[38;5;241m.\u001b[39mprompt_query \u001b[38;5;241m=\u001b[39m load_prompt(\u001b[38;5;124m\"\u001b[39m\u001b[38;5;124mprompts/prompt_query.json\u001b[39m\u001b[38;5;124m\"\u001b[39m)\n\u001b[0;32m---> 38\u001b[0m \u001b[38;5;28mself\u001b[39m\u001b[38;5;241m.\u001b[39mcollection \u001b[38;5;241m=\u001b[39m \u001b[38;5;28;43mself\u001b[39;49m\u001b[38;5;241;43m.\u001b[39;49m\u001b[43mget_chroma_collection\u001b[49m\u001b[43m(\u001b[49m\u001b[43m)\u001b[49m\n",
      "File \u001b[0;32m/opt/conda/lib/python3.11/site-packages/bot/_newsbot.py:50\u001b[0m, in \u001b[0;36mNewsBot.get_chroma_collection\u001b[0;34m(self)\u001b[0m\n\u001b[1;32m     47\u001b[0m settings \u001b[38;5;241m=\u001b[39m Settings(allow_reset\u001b[38;5;241m=\u001b[39m\u001b[38;5;28;01mTrue\u001b[39;00m, anonymized_telemetry\u001b[38;5;241m=\u001b[39m\u001b[38;5;28;01mTrue\u001b[39;00m, persist_directory\u001b[38;5;241m=\u001b[39mpersist_directory)\n\u001b[1;32m     48\u001b[0m chroma_client \u001b[38;5;241m=\u001b[39m chromadb\u001b[38;5;241m.\u001b[39mHttpClient(host\u001b[38;5;241m=\u001b[39mhost_name, port \u001b[38;5;241m=\u001b[39m port, settings\u001b[38;5;241m=\u001b[39msettings)\n\u001b[0;32m---> 50\u001b[0m \u001b[38;5;28;01mreturn\u001b[39;00m \u001b[43mchroma_client\u001b[49m\u001b[38;5;241;43m.\u001b[39;49m\u001b[43mget_collection\u001b[49m\u001b[43m(\u001b[49m\u001b[43mcollection_name\u001b[49m\u001b[43m,\u001b[49m\u001b[43m \u001b[49m\u001b[43membedding_function\u001b[49m\u001b[38;5;241;43m=\u001b[39;49m\u001b[38;5;28;43mself\u001b[39;49m\u001b[38;5;241;43m.\u001b[39;49m\u001b[43membedder\u001b[49m\u001b[43m)\u001b[49m\n",
      "File \u001b[0;32m/opt/conda/lib/python3.11/site-packages/chromadb/api/client.py:218\u001b[0m, in \u001b[0;36mClient.get_collection\u001b[0;34m(self, name, id, embedding_function, data_loader)\u001b[0m\n\u001b[1;32m    208\u001b[0m \u001b[38;5;129m@override\u001b[39m\n\u001b[1;32m    209\u001b[0m \u001b[38;5;28;01mdef\u001b[39;00m \u001b[38;5;21mget_collection\u001b[39m(\n\u001b[1;32m    210\u001b[0m     \u001b[38;5;28mself\u001b[39m,\n\u001b[0;32m   (...)\u001b[0m\n\u001b[1;32m    216\u001b[0m     data_loader: Optional[DataLoader[Loadable]] \u001b[38;5;241m=\u001b[39m \u001b[38;5;28;01mNone\u001b[39;00m,\n\u001b[1;32m    217\u001b[0m ) \u001b[38;5;241m-\u001b[39m\u001b[38;5;241m>\u001b[39m Collection:\n\u001b[0;32m--> 218\u001b[0m     \u001b[38;5;28;01mreturn\u001b[39;00m \u001b[38;5;28;43mself\u001b[39;49m\u001b[38;5;241;43m.\u001b[39;49m\u001b[43m_server\u001b[49m\u001b[38;5;241;43m.\u001b[39;49m\u001b[43mget_collection\u001b[49m\u001b[43m(\u001b[49m\n\u001b[1;32m    219\u001b[0m \u001b[43m        \u001b[49m\u001b[38;5;28;43mid\u001b[39;49m\u001b[38;5;241;43m=\u001b[39;49m\u001b[38;5;28;43mid\u001b[39;49m\u001b[43m,\u001b[49m\n\u001b[1;32m    220\u001b[0m \u001b[43m        \u001b[49m\u001b[43mname\u001b[49m\u001b[38;5;241;43m=\u001b[39;49m\u001b[43mname\u001b[49m\u001b[43m,\u001b[49m\n\u001b[1;32m    221\u001b[0m \u001b[43m        \u001b[49m\u001b[43membedding_function\u001b[49m\u001b[38;5;241;43m=\u001b[39;49m\u001b[43membedding_function\u001b[49m\u001b[43m,\u001b[49m\n\u001b[1;32m    222\u001b[0m \u001b[43m        \u001b[49m\u001b[43mdata_loader\u001b[49m\u001b[38;5;241;43m=\u001b[39;49m\u001b[43mdata_loader\u001b[49m\u001b[43m,\u001b[49m\n\u001b[1;32m    223\u001b[0m \u001b[43m        \u001b[49m\u001b[43mtenant\u001b[49m\u001b[38;5;241;43m=\u001b[39;49m\u001b[38;5;28;43mself\u001b[39;49m\u001b[38;5;241;43m.\u001b[39;49m\u001b[43mtenant\u001b[49m\u001b[43m,\u001b[49m\n\u001b[1;32m    224\u001b[0m \u001b[43m        \u001b[49m\u001b[43mdatabase\u001b[49m\u001b[38;5;241;43m=\u001b[39;49m\u001b[38;5;28;43mself\u001b[39;49m\u001b[38;5;241;43m.\u001b[39;49m\u001b[43mdatabase\u001b[49m\u001b[43m,\u001b[49m\n\u001b[1;32m    225\u001b[0m \u001b[43m    \u001b[49m\u001b[43m)\u001b[49m\n",
      "File \u001b[0;32m/opt/conda/lib/python3.11/site-packages/chromadb/telemetry/opentelemetry/__init__.py:127\u001b[0m, in \u001b[0;36mtrace_method.<locals>.decorator.<locals>.wrapper\u001b[0;34m(*args, **kwargs)\u001b[0m\n\u001b[1;32m    125\u001b[0m \u001b[38;5;28;01mglobal\u001b[39;00m tracer, granularity\n\u001b[1;32m    126\u001b[0m \u001b[38;5;28;01mif\u001b[39;00m trace_granularity \u001b[38;5;241m<\u001b[39m granularity:\n\u001b[0;32m--> 127\u001b[0m     \u001b[38;5;28;01mreturn\u001b[39;00m \u001b[43mf\u001b[49m\u001b[43m(\u001b[49m\u001b[38;5;241;43m*\u001b[39;49m\u001b[43margs\u001b[49m\u001b[43m,\u001b[49m\u001b[43m \u001b[49m\u001b[38;5;241;43m*\u001b[39;49m\u001b[38;5;241;43m*\u001b[39;49m\u001b[43mkwargs\u001b[49m\u001b[43m)\u001b[49m\n\u001b[1;32m    128\u001b[0m \u001b[38;5;28;01mif\u001b[39;00m \u001b[38;5;129;01mnot\u001b[39;00m tracer:\n\u001b[1;32m    129\u001b[0m     \u001b[38;5;28;01mreturn\u001b[39;00m f(\u001b[38;5;241m*\u001b[39margs, \u001b[38;5;241m*\u001b[39m\u001b[38;5;241m*\u001b[39mkwargs)\n",
      "File \u001b[0;32m/opt/conda/lib/python3.11/site-packages/chromadb/api/fastapi.py:302\u001b[0m, in \u001b[0;36mFastAPI.get_collection\u001b[0;34m(self, name, id, embedding_function, data_loader, tenant, database)\u001b[0m\n\u001b[1;32m    298\u001b[0m     _params[\u001b[38;5;124m\"\u001b[39m\u001b[38;5;124mtype\u001b[39m\u001b[38;5;124m\"\u001b[39m] \u001b[38;5;241m=\u001b[39m \u001b[38;5;28mstr\u001b[39m(\u001b[38;5;28mid\u001b[39m)\n\u001b[1;32m    299\u001b[0m resp \u001b[38;5;241m=\u001b[39m \u001b[38;5;28mself\u001b[39m\u001b[38;5;241m.\u001b[39m_session\u001b[38;5;241m.\u001b[39mget(\n\u001b[1;32m    300\u001b[0m     \u001b[38;5;28mself\u001b[39m\u001b[38;5;241m.\u001b[39m_api_url \u001b[38;5;241m+\u001b[39m \u001b[38;5;124m\"\u001b[39m\u001b[38;5;124m/collections/\u001b[39m\u001b[38;5;124m\"\u001b[39m \u001b[38;5;241m+\u001b[39m name \u001b[38;5;28;01mif\u001b[39;00m name \u001b[38;5;28;01melse\u001b[39;00m \u001b[38;5;28mstr\u001b[39m(\u001b[38;5;28mid\u001b[39m), params\u001b[38;5;241m=\u001b[39m_params\n\u001b[1;32m    301\u001b[0m )\n\u001b[0;32m--> 302\u001b[0m \u001b[43mraise_chroma_error\u001b[49m\u001b[43m(\u001b[49m\u001b[43mresp\u001b[49m\u001b[43m)\u001b[49m\n\u001b[1;32m    303\u001b[0m resp_json \u001b[38;5;241m=\u001b[39m resp\u001b[38;5;241m.\u001b[39mjson()\n\u001b[1;32m    304\u001b[0m \u001b[38;5;28;01mreturn\u001b[39;00m Collection(\n\u001b[1;32m    305\u001b[0m     client\u001b[38;5;241m=\u001b[39m\u001b[38;5;28mself\u001b[39m,\n\u001b[1;32m    306\u001b[0m     name\u001b[38;5;241m=\u001b[39mresp_json[\u001b[38;5;124m\"\u001b[39m\u001b[38;5;124mname\u001b[39m\u001b[38;5;124m\"\u001b[39m],\n\u001b[0;32m   (...)\u001b[0m\n\u001b[1;32m    310\u001b[0m     metadata\u001b[38;5;241m=\u001b[39mresp_json[\u001b[38;5;124m\"\u001b[39m\u001b[38;5;124mmetadata\u001b[39m\u001b[38;5;124m\"\u001b[39m],\n\u001b[1;32m    311\u001b[0m )\n",
      "File \u001b[0;32m/opt/conda/lib/python3.11/site-packages/chromadb/api/fastapi.py:652\u001b[0m, in \u001b[0;36mraise_chroma_error\u001b[0;34m(resp)\u001b[0m\n\u001b[1;32m    650\u001b[0m     resp\u001b[38;5;241m.\u001b[39mraise_for_status()\n\u001b[1;32m    651\u001b[0m \u001b[38;5;28;01mexcept\u001b[39;00m requests\u001b[38;5;241m.\u001b[39mHTTPError:\n\u001b[0;32m--> 652\u001b[0m     \u001b[38;5;28;01mraise\u001b[39;00m (\u001b[38;5;167;01mException\u001b[39;00m(resp\u001b[38;5;241m.\u001b[39mtext))\n",
      "\u001b[0;31mException\u001b[0m: {\"error\":\"ValueError('Collection pocos-news-embedding does not exist.')\"}"
     ]
    }
   ],
   "source": [
    "news_bot = NewsBot()"
   ]
  },
  {
   "cell_type": "code",
   "execution_count": null,
   "id": "b9dd3751-d950-4b22-89ba-b67a562927d9",
   "metadata": {},
   "outputs": [],
   "source": []
  },
  {
   "cell_type": "markdown",
   "id": "4f6a3ba3-4005-44e9-be89-2afad30f17ea",
   "metadata": {},
   "source": [
    "# Functions"
   ]
  },
  {
   "cell_type": "code",
   "execution_count": 4,
   "id": "659dc5f8-1258-40fe-975a-641adfc9d6d6",
   "metadata": {},
   "outputs": [],
   "source": [
    "# class InvalidCredentialsError(Exception):\n",
    "#     def __init__(self):\n",
    "#         error_message = \"Invalid credentials.\"\n",
    "#         super().__init__(error_message)\n",
    "\n",
    "# @backoff.on_exception(\n",
    "#     backoff.expo,\n",
    "#     pyodbc.Error,\n",
    "#     max_tries=5,\n",
    "#     max_time=60,\n",
    "# )\n",
    "# def get_azure_sql_connection(connection_string: str, timeout: int):\n",
    "#     try:\n",
    "#         return pyodbc.connect(connection_string, timeout=timeout)\n",
    "#     except pyodbc.InterfaceError:\n",
    "#         raise InvalidCredentialsError()"
   ]
  },
  {
   "cell_type": "code",
   "execution_count": 5,
   "id": "fa456101-ccc5-4017-93ff-dbcdc8d9839e",
   "metadata": {},
   "outputs": [],
   "source": [
    "# # Parameters\n",
    "\n",
    "# timeout = 60\n",
    "\n",
    "# table_name = f'{os.environ[\"RAW_DATA_SCHEMA\"]}.{os.environ[\"RAW_DATA_TABLE\"]}'\n",
    "\n",
    "# connection_string = 'DRIVER={driver};SERVER={server};DATABASE={database};UID={username};PWD={password};Connection Timeout={timeout};'.format(\n",
    "#     server = os.environ[\"AZURE_SQL_SERVER\"],\n",
    "#     database = os.environ[\"AZURE_SQL_DATABASE\"],\n",
    "#     driver = os.environ[\"AZURE_SQL_DRIVER\"],\n",
    "#     username = os.environ[\"AZURE_SQL_USERNAME\"],\n",
    "#     password = os.environ[\"AZURE_SQL_PASSWORD\"],\n",
    "#     timeout = timeout,\n",
    "# )\n",
    "\n",
    "\n",
    "# conn = get_azure_sql_connection(connection_string, timeout)\n"
   ]
  },
  {
   "cell_type": "code",
   "execution_count": 6,
   "id": "4d716913-db1b-4b15-a8c6-9f0a6c30a50e",
   "metadata": {},
   "outputs": [],
   "source": [
    "def _set_local_context(content, meta):\n",
    "    return (\n",
    "        f\"<data>{meta['date']}</data>\\n\"\n",
    "        f\"<titulo>{meta['title']}</titulo>\\n\"\n",
    "        f\"<autor>{meta['author']}</autor>\\n\"\n",
    "        f\"<link>{meta['link']}</link>\\n\"\n",
    "        f\"<conteudo>{content}</conteudo>\\n\"\n",
    "    )\n",
    "\n",
    "def _set_query_content(documents, metadata):\n",
    "    return\"\\n\".join(\n",
    "        sorted(\n",
    "            [\n",
    "                _set_local_context(content, meta) for content, meta in zip(documents, metadata)\n",
    "            ]\n",
    "        )\n",
    "    )\n",
    "\n",
    "def get_content(collection, query, n_results=10, n_neighbors=1000):\n",
    "\n",
    "    result = predict(\n",
    "        collection,\n",
    "        query,\n",
    "        n_results=n_results,\n",
    "        n_neighbors=n_neighbors,\n",
    "    )\n",
    "    \n",
    "    return _set_query_content(result['documents'][0], result['metadatas'][0])\n",
    "\n",
    "def format_history_message(messages, human_prefix: str = 'Human', ai_prefix: str = 'AI'):\n",
    "    for message in messages:\n",
    "        if isinstance(message, langchain_core.messages.human.HumanMessage):\n",
    "            yield f\"{human_prefix}: {message.content}\\n\"\n",
    "        \n",
    "        elif isinstance(message, langchain_core.messages.ai.AIMessage):\n",
    "            yield f\"{ai_prefix}: {message.content}\\n\""
   ]
  },
  {
   "cell_type": "code",
   "execution_count": null,
   "id": "1d128ff1-d805-4a33-adfc-8c043f572e67",
   "metadata": {},
   "outputs": [],
   "source": []
  },
  {
   "cell_type": "code",
   "execution_count": null,
   "id": "4aae7429-6268-42eb-83ce-86364c6b0e7b",
   "metadata": {},
   "outputs": [],
   "source": []
  },
  {
   "cell_type": "code",
   "execution_count": null,
   "id": "15fea72e-25d1-4127-a6c0-83eb08daced2",
   "metadata": {},
   "outputs": [],
   "source": []
  },
  {
   "cell_type": "code",
   "execution_count": null,
   "id": "a0e67abf-f726-487f-936d-d1cf3ac23025",
   "metadata": {},
   "outputs": [],
   "source": []
  },
  {
   "cell_type": "code",
   "execution_count": null,
   "id": "f01f75f9-d778-4996-90fc-57d4bde1c9d6",
   "metadata": {},
   "outputs": [],
   "source": []
  },
  {
   "cell_type": "code",
   "execution_count": null,
   "id": "897ddf13-986b-480a-89ca-279b792ca529",
   "metadata": {},
   "outputs": [],
   "source": []
  },
  {
   "cell_type": "code",
   "execution_count": 7,
   "id": "3c05f0cd-a823-44c1-8d44-5075254232c4",
   "metadata": {},
   "outputs": [
    {
     "name": "stderr",
     "output_type": "stream",
     "text": [
      "/opt/conda/lib/python3.11/site-packages/tqdm/auto.py:21: TqdmWarning: IProgress not found. Please update jupyter and ipywidgets. See https://ipywidgets.readthedocs.io/en/stable/user_install.html\n",
      "  from .autonotebook import tqdm as notebook_tqdm\n",
      "/opt/conda/lib/python3.11/site-packages/transformers/configuration_utils.py:387: UserWarning: Passing `gradient_checkpointing` to a config initialization is deprecated and will be removed in v5 Transformers. Using `model.gradient_checkpointing_enable()` instead, or if you are using the `Trainer` API, pass `gradient_checkpointing=True` in your `TrainingArguments`.\n",
      "  warnings.warn(\n"
     ]
    }
   ],
   "source": [
    "from langchain.embeddings import HuggingFaceEmbeddings\n",
    "from chromadb.utils import embedding_functions\n",
    "\n",
    "\n",
    "embedding_model = \"clips/mfaq\"\n",
    "# embedding_model = \"rufimelo/Legal-BERTimbau-sts-large\"\n",
    "\n",
    "embeddings = HuggingFaceEmbeddings(model_name=embedding_model)\n",
    "\n",
    "embedder = embedding_functions.SentenceTransformerEmbeddingFunction(model_name=embedding_model)"
   ]
  },
  {
   "cell_type": "code",
   "execution_count": 8,
   "id": "2808f1e3-47ce-4ad3-91bb-5be45d25cf41",
   "metadata": {},
   "outputs": [],
   "source": [
    "import chromadb\n",
    "from chromadb.config import Settings\n",
    "from langchain.vectorstores import Chroma\n",
    "\n",
    "host_name = \"chroma-server\"\n",
    "port = 8000\n",
    "collection_name = 'pocos-news-embedding'\n",
    "persist_directory = \"chroma_db\"\n",
    "\n",
    "# --\n",
    "settings = Settings(allow_reset=True, anonymized_telemetry=True, persist_directory=persist_directory)\n",
    "chroma_client = chromadb.HttpClient(host=host_name, port = port, settings=settings)\n",
    "\n",
    "vdb = Chroma(\n",
    "    collection_name=collection_name,\n",
    "    embedding_function=embeddings,\n",
    "    persist_directory=persist_directory,\n",
    "    client_settings=settings,\n",
    "    client=chroma_client,\n",
    "    relevance_score_fn = lambda x, y: np.mean(x-y),\n",
    ")\n",
    "\n",
    "collection = chroma_client.get_collection(collection_name, embedding_function=embedder)"
   ]
  },
  {
   "cell_type": "code",
   "execution_count": 9,
   "id": "8bebb05a-b80a-413e-a8fb-9443c389a458",
   "metadata": {},
   "outputs": [],
   "source": [
    "# Obtendo os documentos\n",
    "docs = collection.get()"
   ]
  },
  {
   "cell_type": "code",
   "execution_count": 10,
   "id": "ea513170-fd84-4d6b-8275-17a56d97b17a",
   "metadata": {},
   "outputs": [
    {
     "name": "stdout",
     "output_type": "stream",
     "text": [
      "Exemplo de metadados:\n"
     ]
    },
    {
     "data": {
      "text/plain": [
       "{'author': 'ondapocos',\n",
       " 'categories': 'Destaques|Esporte|Notícias',\n",
       " 'date': '2021-08-08',\n",
       " 'id': '000b577c-3fc6-5889-b0c4-96f88ca370e0',\n",
       " 'link': 'https://ondapocos.com.br/olimpiadas-brasil-fica-em-melhor-posicao-da-historia-no-quadro-de-medalhas/',\n",
       " 'snippet': 'O Brasil fez história nos Jogos Olímpicos de Tóquio ao conquistar 21 medalhas, ficando na 12ª colocação no quadro de medalhas, a melhor posição do...',\n",
       " 'thumbnail_alt': 'OLIMPÍADAS | Brasil fica em melhor posição da história no quadro de medalhas',\n",
       " 'thumbnail_link': 'https://i2.wp.com/ondapocos.com.br/wp-content/uploads/2021/08/ouro.jpg?resize=350%2C250&ssl=1',\n",
       " 'title': 'OLIMPÍADAS | Brasil fica em melhor posição da história no quadro de medalhas'}"
      ]
     },
     "execution_count": 10,
     "metadata": {},
     "output_type": "execute_result"
    }
   ],
   "source": [
    "print(\"Exemplo de metadados:\")\n",
    "docs['metadatas'][0]"
   ]
  },
  {
   "cell_type": "code",
   "execution_count": 11,
   "id": "229d8010-1194-425b-a6f2-1d69569b2772",
   "metadata": {},
   "outputs": [],
   "source": [
    "def predict(collection, query, n_neighbors: int = 1000, n_results: int = 10, **kwargs):\n",
    "\n",
    "    def f(key, value, k):\n",
    "        # print(key, value)\n",
    "        def limit(x):\n",
    "            if isinstance(x, list):\n",
    "                return x[:k]\n",
    "            return x\n",
    "        if isinstance(value, list):\n",
    "            return (key, [limit(x) for x in value])\n",
    "        return (key, None)\n",
    "    \n",
    "    \n",
    "    res = collection.query(\n",
    "        query_texts=query,\n",
    "        n_results=n_neighbors,\n",
    "        **kwargs\n",
    "        # where={\"metadata_field\": \"is_equal_to_this\"},\n",
    "        # where_document={\"$contains\":\"search_string\"}\n",
    "    )\n",
    "      \n",
    "    return  dict([f(key, value, n_results)  for key, value in res.items()])\n",
    "\n"
   ]
  },
  {
   "cell_type": "code",
   "execution_count": 12,
   "id": "780f9eb2-ac71-4ce5-bbe4-ae247ca16dc4",
   "metadata": {},
   "outputs": [
    {
     "data": {
      "text/plain": [
       "{'ids': [['314e354f-6d50-5634-a4ec-617efeb6e70d',\n",
       "   '229b7783-948a-5340-b873-d573104a6683']],\n",
       " 'distances': [[19.551469802856445, 19.70377540588379]],\n",
       " 'embeddings': None,\n",
       " 'metadatas': [[{'author': 'Aline Rodrigues',\n",
       "    'categories': 'Destaques|Notícias|Policial',\n",
       "    'date': '2022-10-05',\n",
       "    'id': '314e354f-6d50-5634-a4ec-617efeb6e70d',\n",
       "    'link': 'https://ondapocos.com.br/pai-acusado-de-estuprar-a-propria-filha-e-condenado-a-40-anos-de-prisao-no-sul-de-minas/',\n",
       "    'snippet': 'A Justiça condenou a 40 anos e um mês de prisão, o homem acusado de estuprar a própria filha de 12 anos. A Ação Penal...',\n",
       "    'thumbnail_alt': 'Pai acusado de estuprar a própria filha é condenado a 40 anos de prisão no Sul de Minas',\n",
       "    'thumbnail_link': 'https://i0.wp.com/ondapocos.com.br/wp-content/uploads/2022/10/WhatsApp-Image-2022-10-05-at-09.06.12.jpeg?resize=350%2C250&ssl=1',\n",
       "    'title': 'Pai acusado de estuprar a própria filha é condenado a 40 anos de prisão no Sul de Minas'},\n",
       "   {'author': 'Aline Rodrigues',\n",
       "    'categories': 'Destaques|Notícias|Policial',\n",
       "    'date': '2023-04-18',\n",
       "    'id': '229b7783-948a-5340-b873-d573104a6683',\n",
       "    'link': 'https://ondapocos.com.br/policia-civil-de-pocos-prende-traficante-que-ostentava-armas-drogas-e-dinheiro-nas-redes-sociais/',\n",
       "    'snippet': 'A Polícia Civil de Poços de Caldas deu cumprimento a mandados de busca e apreensão nos bairros São José e Cascatinha, além de uma prisão...',\n",
       "    'thumbnail_alt': 'Polícia Civil de Poços prende traficante que ostentava armas, drogas e dinheiro nas redes sociais',\n",
       "    'thumbnail_link': 'https://i1.wp.com/ondapocos.com.br/wp-content/uploads/2023/04/WhatsApp-Image-2023-04-18-at-12.32.13-1.jpeg?resize=350%2C250&ssl=1',\n",
       "    'title': 'Polícia Civil de Poços prende traficante que ostentava armas, drogas e dinheiro nas redes sociais'}]],\n",
       " 'documents': [['A Justiça condenou a 40 anos e um mês de prisão, o homem acusado de estuprar a própria filha de 12 anos. A Ação Penal foi proposta pelo Ministério Público de Minas Gerais, por meio da Promotoria de Justiça de Elói Mendes, onde ocorreu o caso. Segundo o Ministério Público, o réu já estava em prisão preventiva, no presídio local, e não poderá recorrer da sentença em liberdade. Conforme a sentença, o réu foi condenado pela prática, por 7 vezes, do crime de estupro de vulnerável, com aplicação das sanções do art. 217-A c/c art. 226, II, na forma do art. 71, todos do Código Penal. De acordo com a Ação Penal, proposta pelo promotor de Justiça Henrique Carlini Pereira, o homem praticava os abusos quando a mãe da vítima não estava em casa, e ameaçava bater na filha e “sumir com ela”, caso fosse denunciado. Um dos abusos teria sido presenciado por uma irmã da vítima. Os crimes ocorreram entre outubro de 2021 e fevereiro de 2022 e foram descobertos pela tia e pela avó paternas, que perceberam o comportamento estranho da jovem e convenceram-na a conversar. Conforme a sentença, a defesa alegou inocência do réu, mas a vítima, em seus relatos à psicóloga e assistente social, narrou os fatos de maneira coerente, sem contradições relevantes, evidenciando a credibilidade de sua versão. A mãe do réu, em seu depoimento, salientou que, mesmo sendo algo doloroso, denunciou o acusado, pois a vítima não tinha o costume de mentir. “Assegurou que, depois dos fatos, não teve coragem de falar com o acusado ”, diz a sentença. A sentença foi proferida pelo juiz da Vara da Comarca de Elói Mendes no dia 28 de setembro e está sujeita a recurso. ',\n",
       "   'A Polícia Civil de Poços de Caldas deu cumprimento a mandados de busca e apreensão nos bairros São José e Cascatinha, além de uma prisão temporária em desfavor de um homem de 21 anos, nesta terça-feira,18. Conforme investigação da Agência de Inteligência Policial, o autor, de 21 anos e com extenso histórico de ocorrências relacionadas ao tráfico de drogas, estava utilizando de redes sociais para postagens de entorpecentes e armas de fogo. Foi representado por mandado de prisão temporária de 30 dias, além das buscas domiciliares. Ainda segundo a Polícia Civil, em um dos alvos de buscas, no Bairro Cascatinha, além da inscrição dos números em referência à Organização Criminosa PCC – Primeiro Comando da Capital no portão da casa, observou-se o investimento para fortificar o local, dificultando sobremaneira o acesso à casa, sendo necessárias duas equipes para controlar o ambiente e diminuir a possibilidade de fuga. No endereço do Bairro São José, não havia moradores no local, porém, vizinhos informaram que o casal estaria residindo nas proximidades. Após diligências, os policiais identificaram a residência e conseguiu capturá-lo no interior da casa. Ainda segundo a Polícia Civil, em suas declarações, o suspeito confirmou as postagens relacionadas ao tráfico de drogas e às armas de fogo. O autor foi encaminhado ao Presídio de Poços de Caldas.']],\n",
       " 'uris': None,\n",
       " 'data': None}"
      ]
     },
     "execution_count": 12,
     "metadata": {},
     "output_type": "execute_result"
    }
   ],
   "source": [
    "predict(\n",
    "    collection,\n",
    "    \"Mandado de prisão\",\n",
    "    n_results=2,\n",
    "    n_neighbors=1000,\n",
    ")"
   ]
  },
  {
   "cell_type": "code",
   "execution_count": 13,
   "id": "932a7614-56d6-4a1b-bf48-06ea6937d19c",
   "metadata": {},
   "outputs": [],
   "source": [
    "%config IPCompleter.use_jedi=False"
   ]
  },
  {
   "cell_type": "code",
   "execution_count": 14,
   "id": "68f07f95-a04d-4310-9200-067a4539055e",
   "metadata": {},
   "outputs": [],
   "source": [
    "from langchain.prompts import PromptTemplate\n",
    "\n",
    "prompt_consulta_text = \"\"\"\n",
    "Voce e um chatbot que responde sobre noticias da cidade de Pocos de Caldas.\n",
    "\n",
    "Sua tarefa e responder a mensagem do usuário em HUMAN INPUT utilizando o CONTEXTO providenciado. Considere o CHAT HISTORY.\n",
    "\n",
    "Nao responda nada que nao esteja no contexto. Se o contexto nao tiver informacoes relevantes a pergunta do usuario, responda \"nao sei\".\n",
    "\n",
    "Nao considere nenhuma noticia que nao seja de poços de caldas.\n",
    "\n",
    "Formate sua resposta como um JSON conforme indicado abaxo:\n",
    "{{\n",
    "    \"resposta\": \"sua resposta aqui\",\n",
    "    \"link\": \"link da noticia que voce usou para elaborar sua resposta\n",
    "}}\n",
    "Nao responda nada alem do JSON.\n",
    "\n",
    "## CONTEXTO\n",
    "{context}\n",
    "\n",
    "## CHAT HISTORY\n",
    "{history}\n",
    "\n",
    "## HUMAN INPUT\n",
    "{human_input}\n",
    "\n",
    "IA:\n",
    "\"\"\"\n",
    "\n",
    "prompt = PromptTemplate(input_variables=[\"context\", \"history\", \"human_input\"], template=prompt_consulta_text)"
   ]
  },
  {
   "cell_type": "code",
   "execution_count": null,
   "id": "92bf0be8-e8d1-4952-aef0-8a1727217df2",
   "metadata": {},
   "outputs": [],
   "source": []
  },
  {
   "cell_type": "code",
   "execution_count": 17,
   "id": "a080b8a3-5e85-44a8-8a8c-303758c92756",
   "metadata": {},
   "outputs": [],
   "source": [
    "import langchain_core\n",
    "from langchain.chains import LLMChain\n",
    "from langchain.chat_models import ChatOpenAI\n",
    "from langchain.memory import ConversationSummaryBufferMemory, ChatMessageHistory\n",
    "from langchain.llms import OpenAI\n",
    "\n",
    "model_name: str = 'gpt-3.5-turbo'\n",
    "temperature: float = 0.0\n",
    "\n",
    "human_prefix: str = 'Human'\n",
    "ai_prefix: str = 'AI'\n",
    "\n",
    "llm = ChatOpenAI(model_name=model_name, temperature=temperature)\n",
    "\n",
    "memory = ConversationSummaryBufferMemory(llm=OpenAI(temperature=0), return_messages=True, memory_key=\"chat_history\", input_key=\"human_input\", human_prefix=human_prefix, ai_prefix=ai_prefix)\n",
    "\n",
    "chain = LLMChain(llm=llm, prompt=prompt, memory=memory, verbose=True)"
   ]
  },
  {
   "cell_type": "code",
   "execution_count": 19,
   "id": "f71ead35-7170-4ebc-a189-f89cb715ca45",
   "metadata": {},
   "outputs": [
    {
     "name": "stdout",
     "output_type": "stream",
     "text": [
      "\n",
      "\n",
      "\u001b[1m> Entering new LLMChain chain...\u001b[0m\n",
      "Prompt after formatting:\n",
      "\u001b[32;1m\u001b[1;3m\n",
      "Voce e um chatbot que responde sobre noticias da cidade de Pocos de Caldas.\n",
      "\n",
      "Sua tarefa e responder a mensagem do usuário em HUMAN INPUT utilizando o CONTEXTO providenciado. Considere o CHAT HISTORY.\n",
      "\n",
      "Nao responda nada que nao esteja no contexto. Se o contexto nao tiver informacoes relevantes a pergunta do usuario, responda \"nao sei\".\n",
      "\n",
      "Nao considere nenhuma noticia que nao seja de poços de caldas.\n",
      "\n",
      "Formate sua resposta como um JSON conforme indicado abaxo:\n",
      "{\n",
      "    \"resposta\": \"sua resposta aqui\",\n",
      "    \"link\": \"link da noticia que voce usou para elaborar sua resposta\n",
      "}\n",
      "Nao responda nada alem do JSON.\n",
      "\n",
      "## CONTEXTO\n",
      "<data>2020-04-02</data>\n",
      "<titulo>Boletim sobre Covid-19 aponta que Poços continua com 178 casos suspeitos</titulo>\n",
      "<autor>ondapocos</autor>\n",
      "<link>https://ondapocos.com.br/boletim-sobre-covid-19-aponta-que-pocos-continua-com-178-casos-suspeitos/</link>\n",
      "<conteudo>O Informe Epidemiológico divulgado pela Secretaria de Estado da Saúde de Minas Gerais, com detalhamento por municípios, não trouxe atualizações para Poços de Caldas, nesta quinta-feira, 02. Sendo assim, em âmbito local, os números permanecem os mesmos divulgados na quarta, 1: 182 notificações do Novo Coronavírus – Covid 19. Destas, 178 são casos suspeitos, 2, descartados e 2 confirmados. Embora os números locais não tenham sofrido mudanças, no link https://www.saude.mg.gov.br/component/gmg/story/12399-informe-epidemiologico-coronavirus-02-04-2020 , está disponível um outro informe divulgado pela Secretaria de Estado de Saúde, atualizado na tarde desta quinta, 2. O texto traz a informação de 39.084 casos suspeitos em Minas, 370 confirmados, 55 óbitos em investigação e 4 óbitos confirmados. A página traz ainda uma tabela com a distribuição de casos confirmados pelos municípios mineiros, onde Poços permanece com dois casos.</conteudo>\n",
      "\n",
      "<data>2020-07-06</data>\n",
      "<titulo>Painel lançado em Poços traz mais transparência sobre notificações de Covid-19</titulo>\n",
      "<autor>ondapocos</autor>\n",
      "<link>https://ondapocos.com.br/painel-lancado-em-pocos-traz-mais-transparencia-sobre-notificacoes-de-covid-19/</link>\n",
      "<conteudo>Pensando em dar mais transparência à população, além do boletim diário, a prefeitura de Poços de Caldas lançou o Painel Coronavírus. O Painel destaca 7 gráficos informativos. O primeiro descreve a situação dos casos em Acompanhamento. O segundo mostra a evolução dos casos confirmados por data e temos a representação da curva de março até o dia corrente. No próximo gráfico, o terceiro dessa nova leva de informações, a pessoa tem um panorama sobre a ocupação dos leitos de UTI. Aqui delimita-se casos confirmados e não confirmados. O quarto gráfico mostra o total de casos por sexo, o quinto por faixa etária e o sexto constata o número de óbitos por faixa etária e se a pessoa tinha comorbidade ou não. O último gráfico identifica o número de casos por região. “Desde o início da pandemia a secretaria de Saúde faz um excelente trabalho na apuração desses dados. E a população quer mais do que boletins diários, ela quer acompanhar o andamento da doença como um todo. Criamos o Painel justamente para garantir essa transparência quanto à prevenção, combate e tratamento da Covid-19”, explicou Paulo Ney, coordenador da secretaria de Comunicação. ? </conteudo>\n",
      "\n",
      "<data>2021-06-07</data>\n",
      "<titulo>Sul de Minas | mais 140 mortes e 7 mil casos confirmados</titulo>\n",
      "<autor>ondapocos</autor>\n",
      "<link>https://ondapocos.com.br/sul-de-minas-mais-140-mortes-e-7-mil-casos-confirmados/</link>\n",
      "<conteudo>A Secretaria Estadual de Saúde de Minas Gerais divulgou novo boletim nesta segunda-feira (7), informando mais 140 mortes e 7.627 casos de Covid-19. Os dados são referentes aos últimos cinco dias, já que por causa do feriado de Corpus Christi, Minas não divulgava atualização desde quarta passada. O Sul de Minas chegou a marca de 224.086 casos com 5.310 mortes. Estes dados são referentes ao balanço publicado pela Secretaria de Saúde de Minas Gerais e podem apresentar divergências com os já divulgados por prefeituras, devido a períodos diferentes de fechamento. </conteudo>\n",
      "\n",
      "<data>2023-03-07</data>\n",
      "<titulo>Painel Covid-19 de Poços será desativado; dados serão atualizados na página da SES</titulo>\n",
      "<autor>Pedro Magalhães</autor>\n",
      "<link>https://ondapocos.com.br/painel-covid-19-de-pocos-sera-desativado-dados-serao-atualizados-na-pagina-da-ses/</link>\n",
      "<conteudo>A Prefeitura de Poços de Caldas informou na tarde desta terça-feira (7), que a forma de divulgação dos dados da Covid-19 na cidade passará por uma alteração. Seguindo norma técnica da Secretaria de Estado de Saúde, os dados locais sobre a covid-19 agora podem ser acessados na página do órgão estadual https://coronavirus.saude.mg.gov.br/boletim. Os dados serão atualizados semanalmente toda quarta-feira. Basta procurar o município de Poços de Caldas. Além disso, o painel de monitoramento de casos, também atualizado às quartas, pode ser acessado no link http://info.saude.mg.gov.br/. Com isso, o Painel Covid-19 da Prefeitura de Poços que era atualizado diariamente, será desativado. Ao longo da pandemia, o município teve 614 óbitos decorrentes da doença, 34.352 casos confirmados e aplicação de 445.074 doses da vacina contra a covid-19 até ontem (6). Dúvidas ou outras informações pelo telefone 3697-5973.</conteudo>\n",
      "\n",
      "\n",
      "## CHAT HISTORY\n",
      "\n",
      "\n",
      "## HUMAN INPUT\n",
      "Quais são as notícias mais recentes?\n",
      "\n",
      "IA:\n",
      "\u001b[0m\n",
      "\n",
      "\u001b[1m> Finished chain.\u001b[0m\n"
     ]
    }
   ],
   "source": [
    "query = \"Quais são as notícias mais recentes?\"\n",
    "\n",
    "context = get_content(collection, query, n_results=4, n_neighbors=1000)\n",
    "\n",
    "_messages = memory.chat_memory.messages\n",
    "\n",
    "history = \"\".join(format_history_message(_messages))\n",
    "\n",
    "llm_response = chain.run(dict(context=context, history=history, human_input=query))"
   ]
  },
  {
   "cell_type": "code",
   "execution_count": 26,
   "id": "c5a62b78-3946-426b-91cc-74a5cb607e4a",
   "metadata": {},
   "outputs": [
    {
     "name": "stdout",
     "output_type": "stream",
     "text": [
      "As notícias mais recentes são sobre a desativação do Painel Covid-19 de Poços de Caldas e a alteração na forma de divulgação dos dados da Covid-19 na cidade. Agora, os dados podem ser acessados na página da Secretaria de Estado de Saúde de Minas Gerais. O painel era atualizado diariamente, mas agora os dados serão atualizados semanalmente às quartas-feiras.\n",
      "https://ondapocos.com.br/painel-covid-19-de-pocos-sera-desativado-dados-serao-atualizados-na-pagina-da-ses/\n"
     ]
    }
   ],
   "source": [
    "import ast\n",
    "\n",
    "resp = ast.literal_eval(llm_response)\n",
    "\n",
    "print(resp[\"resposta\"])\n",
    "print(resp[\"link\"])"
   ]
  },
  {
   "cell_type": "code",
   "execution_count": 47,
   "id": "600ff7c2-3368-4df5-be94-7aa74c3cfb5a",
   "metadata": {},
   "outputs": [],
   "source": [
    "template_standalone_question = \"\"\"\n",
    "Voce vai receber uma pergunta de follow up da usuario que pode nao ter muitos detalhes.\n",
    "Usuario quer realizar consultas na base de dados que contem noticias de Pocos de Caldas e regiao.\n",
    "Reescreva a frase do HUMAN INPUT para que ele possa ser considerada uma pergunta independente.\n",
    "Considere o CHAT HISTORY para manter o contexto.\n",
    "Não responde o usuário. Apenas reescreva a pergunta dele.\n",
    "\n",
    "## CHAT HISTORY\n",
    "{history}\n",
    "\n",
    "## HUMAN INPUT\n",
    "{human_input}\n",
    "\n",
    "IA:\n",
    "\"\"\"\n",
    "\n",
    "prompt_standalone_question = PromptTemplate(input_variables=[\"history\", \"human_input\"], template=template_standalone_question)\n",
    "\n",
    "\n",
    "\n",
    "chain_standalone_question = LLMChain(llm=llm, prompt=prompt_standalone_question, verbose=True)\n"
   ]
  },
  {
   "cell_type": "code",
   "execution_count": 49,
   "id": "9d8d3153-1650-42ec-8ca4-856729b8a964",
   "metadata": {},
   "outputs": [
    {
     "name": "stdout",
     "output_type": "stream",
     "text": [
      "\n",
      "\n",
      "\u001b[1m> Entering new LLMChain chain...\u001b[0m\n",
      "Prompt after formatting:\n",
      "\u001b[32;1m\u001b[1;3m\n",
      "Voce vai receber uma pergunta de follow up da usuario que pode nao ter muitos detalhes.\n",
      "Usuario quer realizar consultas na base de dados que contem noticias de Pocos de Caldas e regiao.\n",
      "Reescreva a frase do HUMAN INPUT para que ele possa ser considerada uma pergunta independente.\n",
      "Considere o CHAT HISTORY para manter o contexto.\n",
      "Não responde o usuário. Apenas reescreva a pergunta dele.\n",
      "\n",
      "## CHAT HISTORY\n",
      "Human: Quais são as notícias mais recentes?\n",
      "AI: {\n",
      "    \"resposta\": \"As notícias mais recentes são sobre a desativação do Painel Covid-19 de Poços de Caldas e a alteração na forma de divulgação dos dados da Covid-19 na cidade. Agora, os dados podem ser acessados na página da Secretaria de Estado de Saúde de Minas Gerais. O painel era atualizado diariamente, mas agora os dados serão atualizados semanalmente às quartas-feiras.\",\n",
      "    \"link\": \"https://ondapocos.com.br/painel-covid-19-de-pocos-sera-desativado-dados-serao-atualizados-na-pagina-da-ses/\"\n",
      "}\n",
      "\n",
      "\n",
      "## HUMAN INPUT\n",
      "Quero mais detalhes sobre isso\n",
      "\n",
      "IA:\n",
      "\u001b[0m\n",
      "\n",
      "\u001b[1m> Finished chain.\u001b[0m\n"
     ]
    },
    {
     "data": {
      "text/plain": [
       "'Quais são os detalhes adicionais sobre a desativação do Painel Covid-19 de Poços de Caldas e a alteração na forma de divulgação dos dados da Covid-19 na cidade?'"
      ]
     },
     "execution_count": 49,
     "metadata": {},
     "output_type": "execute_result"
    }
   ],
   "source": [
    "query = \"Quero mais detalhes sobre isso\"\n",
    "chain_standalone_question.run(dict(history=history, human_input=query))"
   ]
  },
  {
   "cell_type": "code",
   "execution_count": null,
   "id": "19e379b9-b018-4a18-931b-b191432d139a",
   "metadata": {},
   "outputs": [],
   "source": []
  },
  {
   "cell_type": "code",
   "execution_count": null,
   "id": "e91e4ec0-2c92-43de-ab6f-ffb067ce8da4",
   "metadata": {},
   "outputs": [],
   "source": []
  },
  {
   "cell_type": "code",
   "execution_count": null,
   "id": "d94a56f4-f41e-4bb7-82f2-9d65c94b2cff",
   "metadata": {},
   "outputs": [],
   "source": []
  },
  {
   "cell_type": "code",
   "execution_count": null,
   "id": "22215e8d-91a0-4749-8607-393b29e3d64e",
   "metadata": {},
   "outputs": [],
   "source": [
    "query = \"E as mais antigas\""
   ]
  },
  {
   "cell_type": "code",
   "execution_count": 89,
   "id": "8fa16401-deb8-482f-907f-e4cb7d48ddea",
   "metadata": {},
   "outputs": [
    {
     "data": {
      "text/plain": [
       "langchain_core.messages.ai.AIMessage"
      ]
     },
     "execution_count": 89,
     "metadata": {},
     "output_type": "execute_result"
    }
   ],
   "source": [
    "\n",
    "\n",
    "type(_messages[1])"
   ]
  },
  {
   "cell_type": "code",
   "execution_count": 91,
   "id": "cb14119d-8b04-416c-8c6e-4f5131bbefce",
   "metadata": {},
   "outputs": [
    {
     "data": {
      "text/plain": [
       "HumanMessage(content='Quais são as notícias mais recentes?')"
      ]
     },
     "execution_count": 91,
     "metadata": {},
     "output_type": "execute_result"
    }
   ],
   "source": [
    "_messages[0]"
   ]
  },
  {
   "cell_type": "code",
   "execution_count": null,
   "id": "45fde7be-846a-4df8-8f89-bbc9241227f9",
   "metadata": {},
   "outputs": [],
   "source": [
    "\n"
   ]
  },
  {
   "cell_type": "code",
   "execution_count": 51,
   "id": "8cad3165-86cf-4aff-a60b-b2ad3d7d1ec7",
   "metadata": {},
   "outputs": [],
   "source": [
    "class Bot():\n",
    "\n",
    "    def __init__(self):\n",
    "\n",
    "        self.standalone_question = StandaloneBot()\n",
    "        \n",
    "        pass\n",
    "\n",
    "    def perguntar(self, pergunta):\n",
    "\n",
    "        pergunta_melhorada = self.standalone_question.improve()\n",
    "        \n",
    "        pass\n",
    "\n",
    "    def responder(self):\n",
    "        pass\n",
    "\n",
    "\n",
    "bot = Bot()"
   ]
  },
  {
   "cell_type": "code",
   "execution_count": 54,
   "id": "2f18c3ee-4a46-44a5-b344-22d44b43ec7c",
   "metadata": {},
   "outputs": [],
   "source": [
    "bot.perguntar(\"Quais são as notícias mais recentes?\")"
   ]
  },
  {
   "cell_type": "code",
   "execution_count": null,
   "id": "7b438cf8-f3a4-4b76-bb15-445dbfeafec8",
   "metadata": {},
   "outputs": [],
   "source": []
  },
  {
   "cell_type": "code",
   "execution_count": null,
   "id": "b4586462-cb08-4a18-b7ac-41368534f4ae",
   "metadata": {},
   "outputs": [],
   "source": []
  },
  {
   "cell_type": "code",
   "execution_count": 76,
   "id": "0648ff0a-68d6-4fa8-b0fd-1ef162d5fd60",
   "metadata": {},
   "outputs": [],
   "source": [
    "import os\n",
    "import ast\n",
    "import traceback\n",
    "import pyodbc\n",
    "import backoff\n",
    "import pandas as pd\n",
    "import json\n",
    "\n",
    "import chromadb\n",
    "from chromadb.config import Settings\n",
    "from chromadb.utils import embedding_functions\n",
    "import langchain_core\n",
    "from langchain.chains import LLMChain\n",
    "from langchain.chat_models import ChatOpenAI\n",
    "from langchain.embeddings import HuggingFaceEmbeddings\n",
    "from langchain.memory import ConversationSummaryBufferMemory, ChatMessageHistory\n",
    "from langchain.llms import OpenAI\n",
    "from langchain.prompts import load_prompt\n",
    "from loguru import logger\n",
    "import tiktoken\n",
    "\n",
    "\n",
    "class NewsBot():\n",
    "\n",
    "    def __init__(self):\n",
    "\n",
    "        self.llm = ChatOpenAI(model_name=\"gpt-3.5-turbo\", temperature=0)\n",
    "        self.llm_chat = ChatOpenAI(model_name=\"gpt-3.5-turbo\", temperature=0, model_kwargs={\"stop\": [\"HUMAN_INPUT\", \"IA:\"]})\n",
    "\n",
    "        self.embeddings = HuggingFaceEmbeddings(model_name=\"clips/mfaq\")\n",
    "        self.embedder = embedding_functions.SentenceTransformerEmbeddingFunction(model_name=\"clips/mfaq\")\n",
    "\n",
    "        self.verbose_chains = True\n",
    "        \n",
    "        # Load utilitary prompts and chains\n",
    "        self.prompt_intention = load_prompt(\"prompts/prompt_user_intention.json\")\n",
    "        self.prompt_standalone_question = load_prompt(\"prompts/prompt_standalone_question.json\")\n",
    "        \n",
    "        # Load chat prompts and chains\n",
    "        self.prompt_greeting = load_prompt(\"prompts/prompt_greeting.json\")\n",
    "        self.prompt_query = load_prompt(\"prompts/prompt_query.json\")\n",
    "\n",
    "        self.collection = self.get_chroma_collection()\n",
    "\n",
    "    def get_chroma_collection(self):\n",
    "\n",
    "        host_name = \"chroma-server\"\n",
    "        port = 8000\n",
    "        collection_name = 'pocos-news-embedding'\n",
    "        persist_directory = \"chroma_db\"\n",
    "        \n",
    "        settings = Settings(allow_reset=True, anonymized_telemetry=True, persist_directory=persist_directory)\n",
    "        chroma_client = chromadb.HttpClient(host=host_name, port = port, settings=settings)\n",
    "        \n",
    "        # vdb = Chroma(\n",
    "        #     collection_name=collection_name,\n",
    "        #     embedding_function=self.embeddings,\n",
    "        #     persist_directory=persist_directory,\n",
    "        #     client_settings=settings,\n",
    "        #     client=chroma_client,\n",
    "        #     relevance_score_fn = lambda x, y: np.mean(x-y),\n",
    "        # )\n",
    "        \n",
    "        return chroma_client.get_collection(collection_name, embedding_function=self.embedder)\n",
    "    \n",
    "    def predict(self, collection, query, n_neighbors: int = 1000, n_results: int = 10, **kwargs):\n",
    "\n",
    "        def f(key, value, k):\n",
    "            # print(key, value)\n",
    "            def limit(x):\n",
    "                if isinstance(x, list):\n",
    "                    return x[:k]\n",
    "                return x\n",
    "            if isinstance(value, list):\n",
    "                return (key, [limit(x) for x in value])\n",
    "            return (key, None)\n",
    "        \n",
    "        \n",
    "        res = collection.query(\n",
    "            query_texts=query,\n",
    "            n_results=n_neighbors,\n",
    "            **kwargs\n",
    "            # where={\"metadata_field\": \"is_equal_to_this\"},\n",
    "            # where_document={\"$contains\":\"search_string\"}\n",
    "        )\n",
    "      \n",
    "        return  dict([f(key, value, n_results)  for key, value in res.items()])\n",
    "    \n",
    "    def _set_local_context(self, content, meta):\n",
    "        return (\n",
    "            f\"<data>{meta['date']}</data>\\n\"\n",
    "            f\"<titulo>{meta['title']}</titulo>\\n\"\n",
    "            f\"<autor>{meta['author']}</autor>\\n\"\n",
    "            f\"<link>{meta['link']}</link>\\n\"\n",
    "            f\"<conteudo>{content}</conteudo>\\n\"\n",
    "        )\n",
    "    \n",
    "    def count_tokens(self, context: str) -> int:\n",
    "        encoding = tiktoken.encoding_for_model(\"gpt-3.5-turbo\")\n",
    "        num_tokens = len(encoding.encode(context))\n",
    "        \n",
    "        return num_tokens\n",
    "    \n",
    "    def _set_query_content(self, documents, metadata):\n",
    "        context_list = [self._set_local_context(content, meta) for content, meta in zip(documents, metadata)]\n",
    "\n",
    "        tokens = 4000\n",
    "        max_tokens = 3600\n",
    "        while tokens > max_tokens:\n",
    "            tokens = self.count_tokens(\"\\n\".join(context_list))\n",
    "            if tokens >= max_tokens:\n",
    "                context_list.pop()\n",
    "        \n",
    "        return \"\\n\".join(sorted(context_list))\n",
    "    \n",
    "    def get_content(self, query, n_results=10, n_neighbors=1000):\n",
    "\n",
    "        result = self.predict(\n",
    "            self.collection,\n",
    "            query,\n",
    "            n_results=n_results,\n",
    "            n_neighbors=n_neighbors,\n",
    "        )\n",
    "    \n",
    "        return self._set_query_content(result['documents'][0], result['metadatas'][0])\n",
    "\n",
    "    def format_history_message(self, messages, human_prefix: str = 'Human', ai_prefix: str = 'AI'):\n",
    "        for message in messages:\n",
    "            if isinstance(message, langchain_core.messages.human.HumanMessage):\n",
    "                yield f\"{human_prefix}: {message.content}\\n\"\n",
    "            \n",
    "            elif isinstance(message, langchain_core.messages.ai.AIMessage):\n",
    "                yield f\"{ai_prefix}: {message.content}\\n\"\n",
    "\n",
    "    def get_standalone_question(self, message: str, *args, **kwargs) -> str:\n",
    "\n",
    "        self.chain_standalone_question = LLMChain(\n",
    "            llm=self.llm, prompt=self.prompt_standalone_question, verbose=self.verbose_chains\n",
    "        )\n",
    "\n",
    "        return self.chain_standalone_question.predict(history=kwargs[\"history\"], human_input=message)\n",
    "    \n",
    "    def get_user_intention(self, message: str, *args, **kwargs) -> str:\n",
    "\n",
    "        self.chain_intention = LLMChain(\n",
    "            llm=self.llm, prompt=self.prompt_intention, verbose=self.verbose_chains\n",
    "        )\n",
    "\n",
    "        return self.chain_intention.predict(history=kwargs[\"history\"], human_input=message)\n",
    "    \n",
    "    def handler_start_conversation(self, message: str, *args, **kwargs) -> str:\n",
    "\n",
    "        self.chain_greeting = LLMChain(\n",
    "            llm=self.llm_chat, prompt=self.prompt_greeting, verbose=self.verbose_chains, memory=kwargs[\"memory\"]\n",
    "        )\n",
    "\n",
    "        return self.chain_greeting.predict(history=kwargs[\"history\"], human_input=message)\n",
    "\n",
    "    def handler_query(self, message: str, *args, **kwargs) -> str:\n",
    "\n",
    "        self.chain_query = LLMChain(\n",
    "            llm=self.llm_chat, prompt=self.prompt_query, verbose=self.verbose_chains, memory=kwargs[\"memory\"]\n",
    "        )\n",
    "\n",
    "        context = self.get_content(query=message)\n",
    "\n",
    "        response = self.chain_query.predict(history=kwargs[\"history\"], human_input=message, context=context)\n",
    "        resp_dict = ast.literal_eval(response)\n",
    "\n",
    "        return f'{resp_dict[\"resposta\"]}\\n\\nNotícia: {resp_dict[\"link\"]}'\n",
    "\n",
    "    def handler_fallback(self, *args, **kwargs) -> str:\n",
    "\n",
    "        return (\n",
    "            \"Desculpe, mas não posso responder a essa pergunta. \"\n",
    "            \"Algo em que possa ajudar sobre notícias de Poços de Caldas e região?\"\n",
    "        )\n",
    "\n",
    "    def execute(self, message: str):\n",
    "\n",
    "        memory = ConversationSummaryBufferMemory(\n",
    "            llm=OpenAI(temperature=0),\n",
    "            chat_history=ChatMessageHistory(),\n",
    "            return_messages=True,\n",
    "            memory_key=\"chat_history\",\n",
    "            input_key=\"human_input\",\n",
    "            human_prefix=\"Human\",\n",
    "            ai_prefix=\"AI\"\n",
    "        )\n",
    "        chat_history = \"\".join(self.format_history_message(memory.chat_memory.messages))\n",
    "        \n",
    "        standalone_question = self.get_standalone_question(message=message, history=chat_history)\n",
    "        print(f\"Pergunta original: {message}\")\n",
    "        print(f\"Pergunta melhorada: {standalone_question}\")\n",
    "        \n",
    "        intention = self.get_user_intention(message=standalone_question, history=chat_history)\n",
    "        print(f\"Intenção: {intention}\")\n",
    "        \n",
    "        handlers = {\n",
    "            \"inicio de conversa\": self.handler_start_conversation,\n",
    "            \"consulta de conteudo\": self.handler_query,\n",
    "            \"\": self.handler_fallback\n",
    "        }\n",
    "\n",
    "        response = None\n",
    "        for category, handler in handlers.items():\n",
    "            if category in intention.lower().replace(\"ú\", \"u\").replace(\"í\", \"i\"):\n",
    "                response = handler(\n",
    "                    message=message,\n",
    "                    memory=memory,\n",
    "                    history=chat_history\n",
    "                )\n",
    "                break\n",
    "\n",
    "        print(f\">>> Resposta: {response}\")\n",
    "        \n",
    "        return response\n"
   ]
  },
  {
   "cell_type": "code",
   "execution_count": 77,
   "id": "d8d93155-d3f0-4a8d-b6ff-d11fc43b1cbf",
   "metadata": {},
   "outputs": [
    {
     "name": "stderr",
     "output_type": "stream",
     "text": [
      "/opt/conda/lib/python3.11/site-packages/transformers/configuration_utils.py:387: UserWarning: Passing `gradient_checkpointing` to a config initialization is deprecated and will be removed in v5 Transformers. Using `model.gradient_checkpointing_enable()` instead, or if you are using the `Trainer` API, pass `gradient_checkpointing=True` in your `TrainingArguments`.\n",
      "  warnings.warn(\n"
     ]
    }
   ],
   "source": [
    "bot = NewsBot()"
   ]
  },
  {
   "cell_type": "code",
   "execution_count": 78,
   "id": "1a5c6267-0ecc-4aac-9311-394970c67ab5",
   "metadata": {},
   "outputs": [
    {
     "name": "stdout",
     "output_type": "stream",
     "text": [
      "\n",
      "\n",
      "\u001b[1m> Entering new LLMChain chain...\u001b[0m\n",
      "Prompt after formatting:\n",
      "\u001b[32;1m\u001b[1;3mVoce vai receber uma pergunta de follow up do usuario, que pode nao ter muitos detalhes.\n",
      "O usuario quer realizar consultas na base de dados que contem noticias de Pocos de Caldas e regiao.\n",
      "REESCREVA a frase do HUMAN INPUT para que ela possa ser considerada uma pergunta independente.\n",
      "Considere o CHAT HISTORY para manter o contexto.\n",
      "NAO RESPONDA AO USUARIO, APENAS REESCREVA A PERGUNTA.\n",
      "Sua resposta deve conter apenas a pergunta reescrita.\n",
      "\n",
      "## CHAT HISTORY\n",
      "\n",
      "\n",
      "## HUMAN INPUT\n",
      "olá\n",
      "\n",
      "IA:\u001b[0m\n",
      "\n",
      "\u001b[1m> Finished chain.\u001b[0m\n",
      "Pergunta original: olá\n",
      "Pergunta melhorada: Olá! Como posso ajudar você hoje?\n",
      "\n",
      "\n",
      "\u001b[1m> Entering new LLMChain chain...\u001b[0m\n",
      "Prompt after formatting:\n",
      "\u001b[32;1m\u001b[1;3mAnalise a mensagem do usuario em \"HUMAN INPUT\" e o \"CHAT HISTORY\" e classifique a intencao de acordo com as seguintes categorias:\n",
      "\n",
      "- \"Inicio de conversa\": Saudacoes e cumprimentos do usuario, reconheca frases como \"oi\", \"ola\", \"bom dia\", \"tudo bem:\", etc.\n",
      "- \"Consulta de conteudo\": Perguntas sobre noticias da base de dados, reconheca trechos como \"quais sao as ultimas noticias\", \"o que foi reportado no bairro\", etc.\n",
      "- \"\": QUALQUER PERGUNTA QUE NAO SE ENCAIXE NAS CATEGORIAS ACIMA, ou que nao possa ser respondida com o contexto disponivel na base de dados, a qual contem noticias de Pocos de Caldas e regiao.\n",
      "\n",
      "Escolha apenas uma das opcoes. Sua resposta deve conter APENAS a categoria.\n",
      "\n",
      "## CHAT HISTORY\n",
      "\n",
      "\n",
      "## HUMAN INPUT\n",
      "Olá! Como posso ajudar você hoje?\n",
      "\n",
      "IA:\u001b[0m\n",
      "\n",
      "\u001b[1m> Finished chain.\u001b[0m\n",
      "Intenção: Inicio de conversa\n",
      "\n",
      "\n",
      "\u001b[1m> Entering new LLMChain chain...\u001b[0m\n",
      "Prompt after formatting:\n",
      "\u001b[32;1m\u001b[1;3mVoce e um chatbot que possui conhecimento das noticias de Pocos de Caldas e regiao.\n",
      "Responda a mensagem do usuario em HUMAN INPUT de maneira cordial e simpatica..\n",
      "\n",
      "## CHAT HISTORY\n",
      "\n",
      "\n",
      "## HUMAN INPUT\n",
      "olá\n",
      "\n",
      "IA:\u001b[0m\n",
      "\n",
      "\u001b[1m> Finished chain.\u001b[0m\n",
      ">>> Resposta: Olá! Como posso ajudar você hoje?\n"
     ]
    },
    {
     "data": {
      "text/plain": [
       "'Olá! Como posso ajudar você hoje?'"
      ]
     },
     "execution_count": 78,
     "metadata": {},
     "output_type": "execute_result"
    }
   ],
   "source": [
    "bot.execute(\"olá\")"
   ]
  },
  {
   "cell_type": "code",
   "execution_count": 79,
   "id": "36f3e96c-7e00-40d0-ba5c-74a180a5b5c5",
   "metadata": {},
   "outputs": [
    {
     "name": "stdout",
     "output_type": "stream",
     "text": [
      "\n",
      "\n",
      "\u001b[1m> Entering new LLMChain chain...\u001b[0m\n",
      "Prompt after formatting:\n",
      "\u001b[32;1m\u001b[1;3mVoce vai receber uma pergunta de follow up do usuario, que pode nao ter muitos detalhes.\n",
      "O usuario quer realizar consultas na base de dados que contem noticias de Pocos de Caldas e regiao.\n",
      "REESCREVA a frase do HUMAN INPUT para que ela possa ser considerada uma pergunta independente.\n",
      "Considere o CHAT HISTORY para manter o contexto.\n",
      "NAO RESPONDA AO USUARIO, APENAS REESCREVA A PERGUNTA.\n",
      "Sua resposta deve conter apenas a pergunta reescrita.\n",
      "\n",
      "## CHAT HISTORY\n",
      "\n",
      "\n",
      "## HUMAN INPUT\n",
      "Quais são as notícias mais recentes?\n",
      "\n",
      "IA:\u001b[0m\n",
      "\n",
      "\u001b[1m> Finished chain.\u001b[0m\n",
      "Pergunta original: Quais são as notícias mais recentes?\n",
      "Pergunta melhorada: Quais são as notícias mais recentes sobre Pocos de Caldas e região?\n",
      "\n",
      "\n",
      "\u001b[1m> Entering new LLMChain chain...\u001b[0m\n",
      "Prompt after formatting:\n",
      "\u001b[32;1m\u001b[1;3mAnalise a mensagem do usuario em \"HUMAN INPUT\" e o \"CHAT HISTORY\" e classifique a intencao de acordo com as seguintes categorias:\n",
      "\n",
      "- \"Inicio de conversa\": Saudacoes e cumprimentos do usuario, reconheca frases como \"oi\", \"ola\", \"bom dia\", \"tudo bem:\", etc.\n",
      "- \"Consulta de conteudo\": Perguntas sobre noticias da base de dados, reconheca trechos como \"quais sao as ultimas noticias\", \"o que foi reportado no bairro\", etc.\n",
      "- \"\": QUALQUER PERGUNTA QUE NAO SE ENCAIXE NAS CATEGORIAS ACIMA, ou que nao possa ser respondida com o contexto disponivel na base de dados, a qual contem noticias de Pocos de Caldas e regiao.\n",
      "\n",
      "Escolha apenas uma das opcoes. Sua resposta deve conter APENAS a categoria.\n",
      "\n",
      "## CHAT HISTORY\n",
      "\n",
      "\n",
      "## HUMAN INPUT\n",
      "Quais são as notícias mais recentes sobre Pocos de Caldas e região?\n",
      "\n",
      "IA:\u001b[0m\n",
      "\n",
      "\u001b[1m> Finished chain.\u001b[0m\n",
      "Intenção: Consulta de conteúdo\n",
      "\n",
      "\n",
      "\u001b[1m> Entering new LLMChain chain...\u001b[0m\n",
      "Prompt after formatting:\n",
      "\u001b[32;1m\u001b[1;3mVoce e um chatbot que responde sobre noticias da cidade de Pocos de Caldas.\n",
      "\n",
      "Sua tarefa e responder a mensagem do usuário em HUMAN INPUT utilizando o CONTEXTO providenciado.\n",
      "Considere o CHAT HISTORY.\n",
      "Nao responda nada que nao esteja no contexto. Se o contexto nao tiver informacoes relevantes a pergunta do usuario, responda \"nao sei\".\n",
      "Nao considere nenhuma noticia que nao seja de Pocos de Caldas.\n",
      "\n",
      "Formate sua resposta como um JSON conforme indicado abaxo:\n",
      "{\n",
      "    \"resposta\": \"sua resposta aqui\",\n",
      "    \"link\": \"link da noticia que voce usou para elaborar sua resposta\"\n",
      "}\n",
      "Nao responda nada alem do JSON.\n",
      "\n",
      "## CONTEXTO\n",
      "<data>2020-04-02</data>\n",
      "<titulo>Boletim sobre Covid-19 aponta que Poços continua com 178 casos suspeitos</titulo>\n",
      "<autor>ondapocos</autor>\n",
      "<link>https://ondapocos.com.br/boletim-sobre-covid-19-aponta-que-pocos-continua-com-178-casos-suspeitos/</link>\n",
      "<conteudo>O Informe Epidemiológico divulgado pela Secretaria de Estado da Saúde de Minas Gerais, com detalhamento por municípios, não trouxe atualizações para Poços de Caldas, nesta quinta-feira, 02. Sendo assim, em âmbito local, os números permanecem os mesmos divulgados na quarta, 1: 182 notificações do Novo Coronavírus – Covid 19. Destas, 178 são casos suspeitos, 2, descartados e 2 confirmados. Embora os números locais não tenham sofrido mudanças, no link https://www.saude.mg.gov.br/component/gmg/story/12399-informe-epidemiologico-coronavirus-02-04-2020 , está disponível um outro informe divulgado pela Secretaria de Estado de Saúde, atualizado na tarde desta quinta, 2. O texto traz a informação de 39.084 casos suspeitos em Minas, 370 confirmados, 55 óbitos em investigação e 4 óbitos confirmados. A página traz ainda uma tabela com a distribuição de casos confirmados pelos municípios mineiros, onde Poços permanece com dois casos.</conteudo>\n",
      "\n",
      "<data>2020-04-17</data>\n",
      "<titulo>Novo boletim da SMS aponta dois pacientes curados e oito confirmados em Poços</titulo>\n",
      "<autor>ondapocos</autor>\n",
      "<link>https://ondapocos.com.br/novo-boletim-da-sms-aponta-dois-pacientes-curados-e-oito-confirmados-em-pocos/</link>\n",
      "<conteudo>A Secretaria Municipal de Saúde, de Poços de Caldas, iniciou nesta sexta-feira, 17, um novo jeito de divulgar as notificações do coronavirus. A partir de hoje, nas informações divulgadas no boletim epidemiológico, constarão números de casos curados, suspeitos, confirmados e internados. Em novo layout, a divulgação traz mais detalhes, com o objetivo de facilitar a compreensão e proporcionar maior entendimento da situação epidemiológica da Covid-19 no município. “Desde o início da pandemia, sempre foi uma preocupação nossa fornecer dados precisos para a população. Nesta semana tivemos um dinamismo epidemiológico que reforçou a necessidade deste maior detalhamento”, comentou Juliana Loro, coordenadora da Vigilância Epidemiológica. A finalidade da mudança é responder de forma direta, aos questionamentos da população. “A cada boletim divulgado, sempre éramos questionados, como profissionais de saúde, a responder questões que não ficavam tão claras para a população. Com este formato, pensado e repensado, buscamos responder a todas estas dúvidas”,complementou Camila Bacelar, coordenadora da Divisão de Atenção Básica. Antes desta mudança, a Secretaria de Saúde utilizava o modelo baseado na comunicação da Secretaria Estadual de Saúde de Minas Gerais, em que eram informados apenas: total de notificações, casos suspeitos, confirmados, descartados e óbitos. “Sem dúvidas, esta riqueza de detalhes trazida pelo novo boletim vai contemplar a maior parte das perguntas apresentadas pela imprensa e pela população em geral. Poços passa a ter um modelo original de comunicação para a Covid-19, baseado sim em pesquisas e modelos de outros municípios, mas aprimorado para atender as demandas da nossa cidade”, disse Aline Fallaci, gerente de Controle de Qualidade de Atendimento. Além destes três setores da Secretaria Municipal de Saúde, a Secretaria de Comunicação Social também participou da elaboração deste novo boletim, com o desenvolvimento de layout exclusivo parao informe municipal. “Todas as nossas ações são pautadas em diretrizes do Ministério da Saúde e da Secretaria Estadual de Saúde, e dentro destes princípios, dentro da transparência, a comunicação clara e precisa é fundamental neste enfrentamento da pandemia. Toda a equipe envolvida está de parabéns pelo trabalho”, declarou Carlos Mosconi, secretário de Saúde. Mais Informações O novo boletim traz o número total de suspeitos notificados e as informações referentes a: investigação concluída, casos suspeitos em investigação e casos confirmados. O detalhamento inclui: casos descartados por exame laboratorial, alta por critério clínico, casos suspeitos em isolamento domiciliar, internações em ala/UTI, curados, óbitos confirmados e óbitos em investigação. Situação em Poços Quatro casos confirmados foram incluídos na atualização desta sexta-feira, 17. Eles são referentes a uma família que testou positivo para a Covid-19. A mulher de 40 anos esteve em São Paulo, voltou com os sintomas e foi diagnosticada. O marido, de 44 anos, chegou a ser hospitalizado. Os dois filhos do casal também ficaram sintomáticos leves. A família segue em isolamento domiciliar, acompanhada pela Secretaria Municipal de Saúde. Agora são oito casos confirmados no município e 27 descartados. Esta semana, dois óbitos foram registrados na cidade: o de um homem de 74 anos, na última segunda, 13. O paciente apresentou sintomas gripais após voltar de um cruzeiro pelo Caribe. O exame analisado pela Funed, a Fundação Ezequiel Dias, em Belo Horizonte, testou negativo para Covid-19. No entanto, um teste rápido feito pela Secretaria Municipal de Saúde de Poços, teve resultado positivo para Covid – 19. O serviço funerário e a família foram orientados a proceder com o velório e o sepultamento, adotando os cuidados recomendados para a Covid – 19. O caso foi informado à Secretaria Estadual de Saúde de Minas Gerais que por enquanto o classifica como um óbito em investigação. O segundo óbito foi o de um paciente de 67 anos queapresentou sintomas gripais: febre, tosse, coriza e dificuldade para respirar, após chegar de uma viagem ao Caribe, no mês passado e testou positivo para Covid-19. Este é o primeiro óbito confirmado mas que ainda não aparece nos dados da Secretaria Estadual de Saúde de Minas Gerais. Informe Epidemiológico Segundo o Informe Epidemiológico divulgado pela Secretaria de Estado da Saúde de Minas Gerais, nesta sexta-feira, 17 e apresentado no site www.saude.mg.gov.br/coronavirus – “Distribuição dos casos de COVID-19 em Minas Gerais”, no Estado são 76.494 notificações;72.860 casos suspeitos; 1.021 confirmados,2.578 descartados e 35 óbitos por Covid-19 confirmados no Estado.     Confira abaixo os números na íntegra.</conteudo>\n",
      "\n",
      "<data>2020-07-06</data>\n",
      "<titulo>Painel lançado em Poços traz mais transparência sobre notificações de Covid-19</titulo>\n",
      "<autor>ondapocos</autor>\n",
      "<link>https://ondapocos.com.br/painel-lancado-em-pocos-traz-mais-transparencia-sobre-notificacoes-de-covid-19/</link>\n",
      "<conteudo>Pensando em dar mais transparência à população, além do boletim diário, a prefeitura de Poços de Caldas lançou o Painel Coronavírus. O Painel destaca 7 gráficos informativos. O primeiro descreve a situação dos casos em Acompanhamento. O segundo mostra a evolução dos casos confirmados por data e temos a representação da curva de março até o dia corrente. No próximo gráfico, o terceiro dessa nova leva de informações, a pessoa tem um panorama sobre a ocupação dos leitos de UTI. Aqui delimita-se casos confirmados e não confirmados. O quarto gráfico mostra o total de casos por sexo, o quinto por faixa etária e o sexto constata o número de óbitos por faixa etária e se a pessoa tinha comorbidade ou não. O último gráfico identifica o número de casos por região. “Desde o início da pandemia a secretaria de Saúde faz um excelente trabalho na apuração desses dados. E a população quer mais do que boletins diários, ela quer acompanhar o andamento da doença como um todo. Criamos o Painel justamente para garantir essa transparência quanto à prevenção, combate e tratamento da Covid-19”, explicou Paulo Ney, coordenador da secretaria de Comunicação. ? </conteudo>\n",
      "\n",
      "<data>2021-06-07</data>\n",
      "<titulo>Sul de Minas | mais 140 mortes e 7 mil casos confirmados</titulo>\n",
      "<autor>ondapocos</autor>\n",
      "<link>https://ondapocos.com.br/sul-de-minas-mais-140-mortes-e-7-mil-casos-confirmados/</link>\n",
      "<conteudo>A Secretaria Estadual de Saúde de Minas Gerais divulgou novo boletim nesta segunda-feira (7), informando mais 140 mortes e 7.627 casos de Covid-19. Os dados são referentes aos últimos cinco dias, já que por causa do feriado de Corpus Christi, Minas não divulgava atualização desde quarta passada. O Sul de Minas chegou a marca de 224.086 casos com 5.310 mortes. Estes dados são referentes ao balanço publicado pela Secretaria de Saúde de Minas Gerais e podem apresentar divergências com os já divulgados por prefeituras, devido a períodos diferentes de fechamento. </conteudo>\n",
      "\n",
      "<data>2021-08-30</data>\n",
      "<titulo>Sul de Minas registra mais 24 mortes, aponta boletim estadual</titulo>\n",
      "<autor>ondapocos</autor>\n",
      "<link>https://ondapocos.com.br/sul-de-minas-registra-mais-24-mortes-aponta-boletim-estadual/</link>\n",
      "<conteudo>A Secretaria Estadual de Saúde divulgou atualizações nesta segunda-feira (30) de casos e mortes por Covid-19 em Minas Gerais. Na região sul, são 24 óbitos e 655 novos casos confirmados. A cidade que mais teve mortes no período da última atualização é Poços de Caldas. Mortes São 6 óbitos em Poços e 2 em São Sebastião do Paraíso e Varginha. Tem uma morte confirmada: Alpinópolis, Boa Esperança, Bom Repouso, Camanducaia, Carvalhos, Conceição da Barra de Minas, Itajubá, Liberdade, Passos, Pouso Alegre, Santo Antônio do Amparo, Senador José Bento, Toledo e Três Pontas. Os dados apresentados pela SES-MG podem apresentar divergências com os já divulgados por prefeituras, devido a períodos diferentes de fechamento. Com essa atualização, o Sul de Minas chega a 305.472 casos confirmados, com 7.382 mortes. Estado  Em toda Minas Gerais, são 2.063.829 casos confirmados, sendo 1.969.870 recuperados. O estado tem 52.967 óbitos e 181.172 pacientes internados. </conteudo>\n",
      "\n",
      "<data>2023-03-07</data>\n",
      "<titulo>Painel Covid-19 de Poços será desativado; dados serão atualizados na página da SES</titulo>\n",
      "<autor>Pedro Magalhães</autor>\n",
      "<link>https://ondapocos.com.br/painel-covid-19-de-pocos-sera-desativado-dados-serao-atualizados-na-pagina-da-ses/</link>\n",
      "<conteudo>A Prefeitura de Poços de Caldas informou na tarde desta terça-feira (7), que a forma de divulgação dos dados da Covid-19 na cidade passará por uma alteração. Seguindo norma técnica da Secretaria de Estado de Saúde, os dados locais sobre a covid-19 agora podem ser acessados na página do órgão estadual https://coronavirus.saude.mg.gov.br/boletim. Os dados serão atualizados semanalmente toda quarta-feira. Basta procurar o município de Poços de Caldas. Além disso, o painel de monitoramento de casos, também atualizado às quartas, pode ser acessado no link http://info.saude.mg.gov.br/. Com isso, o Painel Covid-19 da Prefeitura de Poços que era atualizado diariamente, será desativado. Ao longo da pandemia, o município teve 614 óbitos decorrentes da doença, 34.352 casos confirmados e aplicação de 445.074 doses da vacina contra a covid-19 até ontem (6). Dúvidas ou outras informações pelo telefone 3697-5973.</conteudo>\n",
      "\n",
      "\n",
      "## CHAT HISTORY\n",
      "\n",
      "\n",
      "## HUMAN INPUT\n",
      "Quais são as notícias mais recentes?\n",
      "\n",
      "IA:\u001b[0m\n",
      "\n",
      "\u001b[1m> Finished chain.\u001b[0m\n",
      ">>> Resposta: As notícias mais recentes são sobre a desativação do Painel Covid-19 de Poços de Caldas e a alteração na forma de divulgação dos dados da Covid-19 na cidade. Agora, os dados podem ser acessados na página da Secretaria de Estado de Saúde de Minas Gerais. O painel de monitoramento de casos também pode ser acessado no link fornecido. O boletim será atualizado semanalmente às quartas-feiras.\n",
      "\n",
      "Notícia: https://ondapocos.com.br/painel-covid-19-de-pocos-sera-desativado-dados-serao-atualizados-na-pagina-da-ses/\n"
     ]
    },
    {
     "data": {
      "text/plain": [
       "'As notícias mais recentes são sobre a desativação do Painel Covid-19 de Poços de Caldas e a alteração na forma de divulgação dos dados da Covid-19 na cidade. Agora, os dados podem ser acessados na página da Secretaria de Estado de Saúde de Minas Gerais. O painel de monitoramento de casos também pode ser acessado no link fornecido. O boletim será atualizado semanalmente às quartas-feiras.\\n\\nNotícia: https://ondapocos.com.br/painel-covid-19-de-pocos-sera-desativado-dados-serao-atualizados-na-pagina-da-ses/'"
      ]
     },
     "execution_count": 79,
     "metadata": {},
     "output_type": "execute_result"
    }
   ],
   "source": [
    "bot.execute(\"Quais são as notícias mais recentes?\")"
   ]
  },
  {
   "cell_type": "code",
   "execution_count": null,
   "id": "22d48a53-c684-40dc-961f-b0dd466ee8e1",
   "metadata": {},
   "outputs": [],
   "source": []
  },
  {
   "cell_type": "code",
   "execution_count": null,
   "id": "499296b9-7c74-4e68-847c-096e10a33f6e",
   "metadata": {},
   "outputs": [],
   "source": []
  },
  {
   "cell_type": "code",
   "execution_count": null,
   "id": "b7b4e5bf-73c1-4aab-915a-b681f61cf0f0",
   "metadata": {},
   "outputs": [],
   "source": []
  },
  {
   "cell_type": "code",
   "execution_count": null,
   "id": "b28a0d1b-4fcf-43a4-97ba-5af7a38c2a3e",
   "metadata": {},
   "outputs": [],
   "source": []
  },
  {
   "cell_type": "code",
   "execution_count": null,
   "id": "6578ddb7-bf58-4879-9ded-f586d61fdcbd",
   "metadata": {},
   "outputs": [],
   "source": []
  },
  {
   "cell_type": "code",
   "execution_count": null,
   "id": "0ec32f74-0974-4a68-a8e9-556245e5ef4d",
   "metadata": {},
   "outputs": [],
   "source": []
  },
  {
   "cell_type": "code",
   "execution_count": null,
   "id": "8368e747-5f24-4a2a-8075-ced1cb0ccd33",
   "metadata": {},
   "outputs": [],
   "source": []
  },
  {
   "cell_type": "code",
   "execution_count": 102,
   "id": "34b86bf1-d0a5-4ac9-90e5-be085434fb9c",
   "metadata": {},
   "outputs": [
    {
     "name": "stdout",
     "output_type": "stream",
     "text": [
      "\n"
     ]
    }
   ],
   "source": [
    "\n",
    "\n",
    "print()\n"
   ]
  },
  {
   "cell_type": "code",
   "execution_count": 73,
   "id": "72ca998a-3857-44db-9eeb-42dfae5332fb",
   "metadata": {},
   "outputs": [
    {
     "ename": "ValueError",
     "evalue": "One input key expected got ['text_one', 'text_two']",
     "output_type": "error",
     "traceback": [
      "\u001b[0;31m---------------------------------------------------------------------------\u001b[0m",
      "\u001b[0;31mValueError\u001b[0m                                Traceback (most recent call last)",
      "Cell \u001b[0;32mIn[73], line 45\u001b[0m\n\u001b[1;32m     14\u001b[0m prompt \u001b[38;5;241m=\u001b[39m PromptTemplate(\n\u001b[1;32m     15\u001b[0m     input_variables\u001b[38;5;241m=\u001b[39m[\n\u001b[1;32m     16\u001b[0m         \u001b[38;5;124m\"\u001b[39m\u001b[38;5;124mtext_one\u001b[39m\u001b[38;5;124m\"\u001b[39m,\n\u001b[0;32m   (...)\u001b[0m\n\u001b[1;32m     34\u001b[0m     )\n\u001b[1;32m     35\u001b[0m )\n\u001b[1;32m     37\u001b[0m chain \u001b[38;5;241m=\u001b[39m LLMChain(\n\u001b[1;32m     38\u001b[0m     llm\u001b[38;5;241m=\u001b[39mllm,\n\u001b[1;32m     39\u001b[0m     prompt\u001b[38;5;241m=\u001b[39mprompt,\n\u001b[1;32m     40\u001b[0m     memory\u001b[38;5;241m=\u001b[39mmemory,\n\u001b[1;32m     41\u001b[0m     verbose\u001b[38;5;241m=\u001b[39m\u001b[38;5;28;01mFalse\u001b[39;00m\n\u001b[1;32m     42\u001b[0m )\n\u001b[0;32m---> 45\u001b[0m output \u001b[38;5;241m=\u001b[39m \u001b[43mchain\u001b[49m\u001b[38;5;241;43m.\u001b[39;49m\u001b[43mpredict\u001b[49m\u001b[43m(\u001b[49m\n\u001b[1;32m     46\u001b[0m \u001b[43m    \u001b[49m\u001b[43mtext_one\u001b[49m\u001b[38;5;241;43m=\u001b[39;49m\u001b[38;5;124;43m\"\u001b[39;49m\u001b[38;5;124;43mHello\u001b[39;49m\u001b[38;5;124;43m\"\u001b[39;49m\u001b[43m,\u001b[49m\n\u001b[1;32m     47\u001b[0m \u001b[43m    \u001b[49m\u001b[43mtext_two\u001b[49m\u001b[38;5;241;43m=\u001b[39;49m\u001b[38;5;124;43m\"\u001b[39;49m\u001b[38;5;124;43mWorld\u001b[39;49m\u001b[38;5;124;43m\"\u001b[39;49m\n\u001b[1;32m     48\u001b[0m \u001b[43m)\u001b[49m\n",
      "File \u001b[0;32m/opt/conda/lib/python3.11/site-packages/langchain/chains/llm.py:293\u001b[0m, in \u001b[0;36mLLMChain.predict\u001b[0;34m(self, callbacks, **kwargs)\u001b[0m\n\u001b[1;32m    278\u001b[0m \u001b[38;5;28;01mdef\u001b[39;00m \u001b[38;5;21mpredict\u001b[39m(\u001b[38;5;28mself\u001b[39m, callbacks: Callbacks \u001b[38;5;241m=\u001b[39m \u001b[38;5;28;01mNone\u001b[39;00m, \u001b[38;5;241m*\u001b[39m\u001b[38;5;241m*\u001b[39mkwargs: Any) \u001b[38;5;241m-\u001b[39m\u001b[38;5;241m>\u001b[39m \u001b[38;5;28mstr\u001b[39m:\n\u001b[1;32m    279\u001b[0m \u001b[38;5;250m    \u001b[39m\u001b[38;5;124;03m\"\"\"Format prompt with kwargs and pass to LLM.\u001b[39;00m\n\u001b[1;32m    280\u001b[0m \n\u001b[1;32m    281\u001b[0m \u001b[38;5;124;03m    Args:\u001b[39;00m\n\u001b[0;32m   (...)\u001b[0m\n\u001b[1;32m    291\u001b[0m \u001b[38;5;124;03m            completion = llm.predict(adjective=\"funny\")\u001b[39;00m\n\u001b[1;32m    292\u001b[0m \u001b[38;5;124;03m    \"\"\"\u001b[39;00m\n\u001b[0;32m--> 293\u001b[0m     \u001b[38;5;28;01mreturn\u001b[39;00m \u001b[38;5;28;43mself\u001b[39;49m\u001b[43m(\u001b[49m\u001b[43mkwargs\u001b[49m\u001b[43m,\u001b[49m\u001b[43m \u001b[49m\u001b[43mcallbacks\u001b[49m\u001b[38;5;241;43m=\u001b[39;49m\u001b[43mcallbacks\u001b[49m\u001b[43m)\u001b[49m[\u001b[38;5;28mself\u001b[39m\u001b[38;5;241m.\u001b[39moutput_key]\n",
      "File \u001b[0;32m/opt/conda/lib/python3.11/site-packages/langchain/chains/base.py:314\u001b[0m, in \u001b[0;36mChain.__call__\u001b[0;34m(self, inputs, return_only_outputs, callbacks, tags, metadata, run_name, include_run_info)\u001b[0m\n\u001b[1;32m    312\u001b[0m     \u001b[38;5;28;01mraise\u001b[39;00m e\n\u001b[1;32m    313\u001b[0m run_manager\u001b[38;5;241m.\u001b[39mon_chain_end(outputs)\n\u001b[0;32m--> 314\u001b[0m final_outputs: Dict[\u001b[38;5;28mstr\u001b[39m, Any] \u001b[38;5;241m=\u001b[39m \u001b[38;5;28;43mself\u001b[39;49m\u001b[38;5;241;43m.\u001b[39;49m\u001b[43mprep_outputs\u001b[49m\u001b[43m(\u001b[49m\n\u001b[1;32m    315\u001b[0m \u001b[43m    \u001b[49m\u001b[43minputs\u001b[49m\u001b[43m,\u001b[49m\u001b[43m \u001b[49m\u001b[43moutputs\u001b[49m\u001b[43m,\u001b[49m\u001b[43m \u001b[49m\u001b[43mreturn_only_outputs\u001b[49m\n\u001b[1;32m    316\u001b[0m \u001b[43m\u001b[49m\u001b[43m)\u001b[49m\n\u001b[1;32m    317\u001b[0m \u001b[38;5;28;01mif\u001b[39;00m include_run_info:\n\u001b[1;32m    318\u001b[0m     final_outputs[RUN_KEY] \u001b[38;5;241m=\u001b[39m RunInfo(run_id\u001b[38;5;241m=\u001b[39mrun_manager\u001b[38;5;241m.\u001b[39mrun_id)\n",
      "File \u001b[0;32m/opt/conda/lib/python3.11/site-packages/langchain/chains/base.py:410\u001b[0m, in \u001b[0;36mChain.prep_outputs\u001b[0;34m(self, inputs, outputs, return_only_outputs)\u001b[0m\n\u001b[1;32m    408\u001b[0m \u001b[38;5;28mself\u001b[39m\u001b[38;5;241m.\u001b[39m_validate_outputs(outputs)\n\u001b[1;32m    409\u001b[0m \u001b[38;5;28;01mif\u001b[39;00m \u001b[38;5;28mself\u001b[39m\u001b[38;5;241m.\u001b[39mmemory \u001b[38;5;129;01mis\u001b[39;00m \u001b[38;5;129;01mnot\u001b[39;00m \u001b[38;5;28;01mNone\u001b[39;00m:\n\u001b[0;32m--> 410\u001b[0m     \u001b[38;5;28;43mself\u001b[39;49m\u001b[38;5;241;43m.\u001b[39;49m\u001b[43mmemory\u001b[49m\u001b[38;5;241;43m.\u001b[39;49m\u001b[43msave_context\u001b[49m\u001b[43m(\u001b[49m\u001b[43minputs\u001b[49m\u001b[43m,\u001b[49m\u001b[43m \u001b[49m\u001b[43moutputs\u001b[49m\u001b[43m)\u001b[49m\n\u001b[1;32m    411\u001b[0m \u001b[38;5;28;01mif\u001b[39;00m return_only_outputs:\n\u001b[1;32m    412\u001b[0m     \u001b[38;5;28;01mreturn\u001b[39;00m outputs\n",
      "File \u001b[0;32m/opt/conda/lib/python3.11/site-packages/langchain/memory/chat_memory.py:37\u001b[0m, in \u001b[0;36mBaseChatMemory.save_context\u001b[0;34m(self, inputs, outputs)\u001b[0m\n\u001b[1;32m     35\u001b[0m \u001b[38;5;28;01mdef\u001b[39;00m \u001b[38;5;21msave_context\u001b[39m(\u001b[38;5;28mself\u001b[39m, inputs: Dict[\u001b[38;5;28mstr\u001b[39m, Any], outputs: Dict[\u001b[38;5;28mstr\u001b[39m, \u001b[38;5;28mstr\u001b[39m]) \u001b[38;5;241m-\u001b[39m\u001b[38;5;241m>\u001b[39m \u001b[38;5;28;01mNone\u001b[39;00m:\n\u001b[1;32m     36\u001b[0m \u001b[38;5;250m    \u001b[39m\u001b[38;5;124;03m\"\"\"Save context from this conversation to buffer.\"\"\"\u001b[39;00m\n\u001b[0;32m---> 37\u001b[0m     input_str, output_str \u001b[38;5;241m=\u001b[39m \u001b[38;5;28;43mself\u001b[39;49m\u001b[38;5;241;43m.\u001b[39;49m\u001b[43m_get_input_output\u001b[49m\u001b[43m(\u001b[49m\u001b[43minputs\u001b[49m\u001b[43m,\u001b[49m\u001b[43m \u001b[49m\u001b[43moutputs\u001b[49m\u001b[43m)\u001b[49m\n\u001b[1;32m     38\u001b[0m     \u001b[38;5;28mself\u001b[39m\u001b[38;5;241m.\u001b[39mchat_memory\u001b[38;5;241m.\u001b[39madd_user_message(input_str)\n\u001b[1;32m     39\u001b[0m     \u001b[38;5;28mself\u001b[39m\u001b[38;5;241m.\u001b[39mchat_memory\u001b[38;5;241m.\u001b[39madd_ai_message(output_str)\n",
      "File \u001b[0;32m/opt/conda/lib/python3.11/site-packages/langchain/memory/chat_memory.py:24\u001b[0m, in \u001b[0;36mBaseChatMemory._get_input_output\u001b[0;34m(self, inputs, outputs)\u001b[0m\n\u001b[1;32m     20\u001b[0m \u001b[38;5;28;01mdef\u001b[39;00m \u001b[38;5;21m_get_input_output\u001b[39m(\n\u001b[1;32m     21\u001b[0m     \u001b[38;5;28mself\u001b[39m, inputs: Dict[\u001b[38;5;28mstr\u001b[39m, Any], outputs: Dict[\u001b[38;5;28mstr\u001b[39m, \u001b[38;5;28mstr\u001b[39m]\n\u001b[1;32m     22\u001b[0m ) \u001b[38;5;241m-\u001b[39m\u001b[38;5;241m>\u001b[39m Tuple[\u001b[38;5;28mstr\u001b[39m, \u001b[38;5;28mstr\u001b[39m]:\n\u001b[1;32m     23\u001b[0m     \u001b[38;5;28;01mif\u001b[39;00m \u001b[38;5;28mself\u001b[39m\u001b[38;5;241m.\u001b[39minput_key \u001b[38;5;129;01mis\u001b[39;00m \u001b[38;5;28;01mNone\u001b[39;00m:\n\u001b[0;32m---> 24\u001b[0m         prompt_input_key \u001b[38;5;241m=\u001b[39m \u001b[43mget_prompt_input_key\u001b[49m\u001b[43m(\u001b[49m\u001b[43minputs\u001b[49m\u001b[43m,\u001b[49m\u001b[43m \u001b[49m\u001b[38;5;28;43mself\u001b[39;49m\u001b[38;5;241;43m.\u001b[39;49m\u001b[43mmemory_variables\u001b[49m\u001b[43m)\u001b[49m\n\u001b[1;32m     25\u001b[0m     \u001b[38;5;28;01melse\u001b[39;00m:\n\u001b[1;32m     26\u001b[0m         prompt_input_key \u001b[38;5;241m=\u001b[39m \u001b[38;5;28mself\u001b[39m\u001b[38;5;241m.\u001b[39minput_key\n",
      "File \u001b[0;32m/opt/conda/lib/python3.11/site-packages/langchain/memory/utils.py:19\u001b[0m, in \u001b[0;36mget_prompt_input_key\u001b[0;34m(inputs, memory_variables)\u001b[0m\n\u001b[1;32m     17\u001b[0m prompt_input_keys \u001b[38;5;241m=\u001b[39m \u001b[38;5;28mlist\u001b[39m(\u001b[38;5;28mset\u001b[39m(inputs)\u001b[38;5;241m.\u001b[39mdifference(memory_variables \u001b[38;5;241m+\u001b[39m [\u001b[38;5;124m\"\u001b[39m\u001b[38;5;124mstop\u001b[39m\u001b[38;5;124m\"\u001b[39m]))\n\u001b[1;32m     18\u001b[0m \u001b[38;5;28;01mif\u001b[39;00m \u001b[38;5;28mlen\u001b[39m(prompt_input_keys) \u001b[38;5;241m!=\u001b[39m \u001b[38;5;241m1\u001b[39m:\n\u001b[0;32m---> 19\u001b[0m     \u001b[38;5;28;01mraise\u001b[39;00m \u001b[38;5;167;01mValueError\u001b[39;00m(\u001b[38;5;124mf\u001b[39m\u001b[38;5;124m\"\u001b[39m\u001b[38;5;124mOne input key expected got \u001b[39m\u001b[38;5;132;01m{\u001b[39;00mprompt_input_keys\u001b[38;5;132;01m}\u001b[39;00m\u001b[38;5;124m\"\u001b[39m)\n\u001b[1;32m     20\u001b[0m \u001b[38;5;28;01mreturn\u001b[39;00m prompt_input_keys[\u001b[38;5;241m0\u001b[39m]\n",
      "\u001b[0;31mValueError\u001b[0m: One input key expected got ['text_one', 'text_two']"
     ]
    }
   ],
   "source": [
    "from langchain.llms import OpenAI\n",
    "from langchain.chains import LLMChain\n",
    "from langchain.prompts import PromptTemplate\n",
    "from langchain.memory import ConversationBufferMemory\n",
    "\n",
    "llm = OpenAI(\n",
    "    model=\"text-davinci-003\",\n",
    "    temperature=0.9,\n",
    "    client=\"\",\n",
    ")\n",
    "\n",
    "memory = ConversationBufferMemory(memory_key=\"chat_history\")\n",
    "\n",
    "prompt = PromptTemplate(\n",
    "    input_variables=[\n",
    "        \"text_one\",\n",
    "        \"text_two\",\n",
    "        \"chat_history\"\n",
    "    ],\n",
    "    template=(\n",
    "        \"\"\"You are an AI talking to a huamn. Here is the chat\n",
    "        history so far:\n",
    "\n",
    "        {chat_history}\n",
    "\n",
    "        Here is some more text:\n",
    "\n",
    "        {text_one}\n",
    "\n",
    "        and here is a even more text:\n",
    "\n",
    "        {text_two}\n",
    "        \"\"\"\n",
    "    )\n",
    ")\n",
    "\n",
    "chain = LLMChain(\n",
    "    llm=llm,\n",
    "    prompt=prompt,\n",
    "    memory=memory,\n",
    "    verbose=False\n",
    ")\n",
    "\n",
    "\n",
    "output = chain.predict(\n",
    "    text_one=\"Hello\",\n",
    "    text_two=\"World\"\n",
    ")"
   ]
  },
  {
   "cell_type": "code",
   "execution_count": 69,
   "id": "b5c24bb5-f81f-4271-99c6-5c7403cfebc1",
   "metadata": {},
   "outputs": [
    {
     "data": {
      "text/plain": [
       "['A Justiça condenou a 40 anos e um mês de prisão, o homem acusado de estuprar a própria filha de 12 anos. A Ação Penal foi proposta pelo Ministério Público de Minas Gerais, por meio da Promotoria de Justiça de Elói Mendes, onde ocorreu o caso. Segundo o Ministério Público, o réu já estava em prisão preventiva, no presídio local, e não poderá recorrer da sentença em liberdade. Conforme a sentença, o réu foi condenado pela prática, por 7 vezes, do crime de estupro de vulnerável, com aplicação das sanções do art. 217-A c/c art. 226, II, na forma do art. 71, todos do Código Penal. De acordo com a Ação Penal, proposta pelo promotor de Justiça Henrique Carlini Pereira, o homem praticava os abusos quando a mãe da vítima não estava em casa, e ameaçava bater na filha e “sumir com ela”, caso fosse denunciado. Um dos abusos teria sido presenciado por uma irmã da vítima. Os crimes ocorreram entre outubro de 2021 e fevereiro de 2022 e foram descobertos pela tia e pela avó paternas, que perceberam o comportamento estranho da jovem e convenceram-na a conversar. Conforme a sentença, a defesa alegou inocência do réu, mas a vítima, em seus relatos à psicóloga e assistente social, narrou os fatos de maneira coerente, sem contradições relevantes, evidenciando a credibilidade de sua versão. A mãe do réu, em seu depoimento, salientou que, mesmo sendo algo doloroso, denunciou o acusado, pois a vítima não tinha o costume de mentir. “Assegurou que, depois dos fatos, não teve coragem de falar com o acusado ”, diz a sentença. A sentença foi proferida pelo juiz da Vara da Comarca de Elói Mendes no dia 28 de setembro e está sujeita a recurso. ',\n",
       " 'A Polícia Civil de Poços de Caldas deu cumprimento a mandados de busca e apreensão nos bairros São José e Cascatinha, além de uma prisão temporária em desfavor de um homem de 21 anos, nesta terça-feira,18. Conforme investigação da Agência de Inteligência Policial, o autor, de 21 anos e com extenso histórico de ocorrências relacionadas ao tráfico de drogas, estava utilizando de redes sociais para postagens de entorpecentes e armas de fogo. Foi representado por mandado de prisão temporária de 30 dias, além das buscas domiciliares. Ainda segundo a Polícia Civil, em um dos alvos de buscas, no Bairro Cascatinha, além da inscrição dos números em referência à Organização Criminosa PCC – Primeiro Comando da Capital no portão da casa, observou-se o investimento para fortificar o local, dificultando sobremaneira o acesso à casa, sendo necessárias duas equipes para controlar o ambiente e diminuir a possibilidade de fuga. No endereço do Bairro São José, não havia moradores no local, porém, vizinhos informaram que o casal estaria residindo nas proximidades. Após diligências, os policiais identificaram a residência e conseguiu capturá-lo no interior da casa. Ainda segundo a Polícia Civil, em suas declarações, o suspeito confirmou as postagens relacionadas ao tráfico de drogas e às armas de fogo. O autor foi encaminhado ao Presídio de Poços de Caldas.']"
      ]
     },
     "execution_count": 69,
     "metadata": {},
     "output_type": "execute_result"
    }
   ],
   "source": [
    "\n",
    "\n",
    "result['documents'][0]"
   ]
  },
  {
   "cell_type": "code",
   "execution_count": 32,
   "id": "2980f869-6080-4666-bceb-d6f7b384975a",
   "metadata": {},
   "outputs": [
    {
     "data": {
      "text/plain": [
       "{'ids': [['f57a2ac5-b14c-5f48-aa37-eba1039f4c35',\n",
       "   'c8bd4ff5-56d9-5e8c-9442-a4553895ee23']],\n",
       " 'distances': [[24.520042419433594, 32.876625061035156]],\n",
       " 'embeddings': None,\n",
       " 'metadatas': [[{'author': 'ondapocos',\n",
       "    'categories': 'Policial',\n",
       "    'date': '2020-08-28',\n",
       "    'id': 'f57a2ac5-b14c-5f48-aa37-eba1039f4c35',\n",
       "    'link': 'https://ondapocos.com.br/dupla-e-detida-com-drogas-e-radio-na-frequencia-da-pm/',\n",
       "    'snippet': 'Um homem foi preso e um adolescente apreendido por tráfico de drogas, nesta quinta-feira,27. A dupla foi detida nesta quinta-feira,27, no bairro Jardim Country em...',\n",
       "    'thumbnail_alt': 'Dupla é detida com drogas e rádio na frequência da PM',\n",
       "    'thumbnail_link': 'https://i2.wp.com/ondapocos.com.br/wp-content/uploads/2020/08/tráfico-country-e-ottoni.jpg?resize=350%2C250&ssl=1',\n",
       "    'title': 'Dupla é detida com drogas e rádio na frequência da PM'},\n",
       "   {'author': 'andrevince',\n",
       "    'categories': 'Policial',\n",
       "    'date': '2022-02-21',\n",
       "    'id': 'c8bd4ff5-56d9-5e8c-9442-a4553895ee23',\n",
       "    'link': 'https://ondapocos.com.br/pm-apreende-suspeito-de-fabricar-de-armas-artesanais-em-baependi/',\n",
       "    'snippet': 'Na sexta-feira, 18, a Polícia Militar apreendeu um jovem de 22 anos suspeito de fabricar armas artesanais na cidade de Baependi. Após ser ouvido pela...',\n",
       "    'thumbnail_alt': 'PM apreende suspeito de fabricar de armas artesanais em Baependi',\n",
       "    'thumbnail_link': 'https://i0.wp.com/ondapocos.com.br/wp-content/uploads/2022/02/baependi.jpg?resize=350%2C250&ssl=1',\n",
       "    'title': 'PM apreende suspeito de fabricar de armas artesanais em Baependi'}]],\n",
       " 'documents': [['Um homem foi preso e um adolescente apreendido por tráfico de drogas, nesta quinta-feira,27. A dupla foi detida nesta quinta-feira,27, no bairro Jardim Country em Poços de Caldas. De acordo com a Polícia Militar, durante uma operação policial em uma área de mata que liga os bairros Jardim Country Club e Jardim Doutor Ottoni, os dois suspeitos foram vistos sentados próximos a uma árvore, ao notarem a presença dos militares, saíram correndo, mas foram alcançados. Durante a busca pessoal foram encontrados R$160,00, um celular e quatro pinos com cocaína. O cão de faro também foi utilizado próximo ao local e foram encontrados uma embalagem plástica contendo 22 buchas de maconha, um rádio HT na frequência da Polícia Militar e um saco plástico com nove pinos com cocaína. Os dois envolvidos foram detidos e encaminhados à Delegacia com o material apreendido. ? ',\n",
       "   'Na sexta-feira, 18, a Polícia Militar apreendeu um jovem de 22 anos suspeito de fabricar armas artesanais na cidade de Baependi. Após ser ouvido pela polícia, ele foi liberado. Segundo a PM, militares cumpriram um mandado de busca e apreensão na casa do suspeito, onde foram encontradas duas bestas, duas lunetas de mira, um pedaço de molde de maneira para coronha, uma coronha de maneira artesanal e dois frascos de chumbo. Além dos equipamentos, a polícia apreendeu dois celulares, um notebook, dois cadernos com desenhos e rascunhos de armas e mecanismos e R$ 702. O suspeito foi encaminhado à Delegacia da Polícia Civil, onde foi ouvido e liberado. As investigações sobre a fabricação de armas artesanais já duram cerca de um mês e, de acordo com a polícia, terão prosseguimento. ']],\n",
       " 'uris': None,\n",
       " 'data': None}"
      ]
     },
     "execution_count": 32,
     "metadata": {},
     "output_type": "execute_result"
    }
   ],
   "source": [
    "predict(\n",
    "    collection,\n",
    "    \"Tráfico de drogas no bairro Nova Aurora\",\n",
    "    n_results=2,\n",
    "    n_neighbors=1000,\n",
    "    where={\"categories\": \"Policial\"},\n",
    "    # where_document={\"$contains\":\"search_string\"},\n",
    ")"
   ]
  },
  {
   "cell_type": "code",
   "execution_count": null,
   "id": "289b670f-c755-42a9-936f-a0dc4e9a040d",
   "metadata": {},
   "outputs": [],
   "source": []
  },
  {
   "cell_type": "code",
   "execution_count": 46,
   "id": "26e1a0f3-bc15-48cc-970e-90f42a4f6384",
   "metadata": {},
   "outputs": [
    {
     "data": {
      "text/plain": [
       "{'ids': [['00f25c5b-d824-54bd-8f28-a75c441bb796',\n",
       "   '5ad81b66-aaa6-59e4-be73-57a477a39f7e',\n",
       "   'd8937373-e227-5590-8c61-ddde003027db',\n",
       "   '8d6fdbb9-9c80-560b-95dd-268679e57eb9',\n",
       "   'f765c1d8-ac9d-5aa8-b3e5-7e5d6d26bb8a',\n",
       "   '2ed146e6-e581-53d1-abb1-a10ed6603a3a',\n",
       "   'ba0e1d16-3ac6-5986-aaab-cacdcfdc6c08',\n",
       "   'c47656d5-4e5f-5253-8c96-f33b336e4dec',\n",
       "   '5d51ba1c-66b0-5f95-9ea4-852b9b9a17e7',\n",
       "   '25923b51-37cd-5b8d-8949-9c6d452a7e05']],\n",
       " 'distances': [[27.759767532348633,\n",
       "   29.31196403503418,\n",
       "   29.640850067138672,\n",
       "   29.723114013671875,\n",
       "   29.862071990966797,\n",
       "   30.115741729736328,\n",
       "   30.52475929260254,\n",
       "   31.70189094543457,\n",
       "   31.853361129760742,\n",
       "   32.88178253173828]],\n",
       " 'embeddings': None,\n",
       " 'metadatas': [[{'author': 'ondapocos',\n",
       "    'categories': 'Notícias',\n",
       "    'date': '2020-10-09',\n",
       "    'id': '00f25c5b-d824-54bd-8f28-a75c441bb796',\n",
       "    'link': 'https://ondapocos.com.br/utilidade-publica-voce-viu-a-juju-ela-esta-desaparecida-em-pocos-de-caldas/',\n",
       "    'snippet': 'A Calopsita da foto é a Juju. Ela voou da sua casinha quarta-feira, 7, no bairro Jardim Formosa, zona leste de Poços de Caldas. Caso...',\n",
       "    'thumbnail_alt': 'Utilidade pública: Você viu a Juju? ela está desaparecida em Poços de Caldas',\n",
       "    'thumbnail_link': 'https://i0.wp.com/ondapocos.com.br/wp-content/uploads/2020/10/juju.jpg?resize=350%2C250&ssl=1',\n",
       "    'title': 'Utilidade pública: Você viu a Juju? ela está desaparecida em Poços de Caldas'},\n",
       "   {'author': 'Matheus Luis',\n",
       "    'categories': 'Destaques|Notícias',\n",
       "    'date': '2021-10-05',\n",
       "    'id': '5ad81b66-aaa6-59e4-be73-57a477a39f7e',\n",
       "    'link': 'https://ondapocos.com.br/inscricoes-para-curso-gratuito-de-pedreiro-basico-seguem-ate-sexta-8/',\n",
       "    'snippet': 'Estão abertas até 8 de outubro, próxima sexta-feira, as inscrições para o curso gratuito de Pedreiro Básico. As matrículas devem ser realizadas presencialmente, na\\xa0Secretaria do...',\n",
       "    'thumbnail_alt': 'Inscrições para curso gratuito de Pedreiro Básico seguem até sexta (8)',\n",
       "    'thumbnail_link': 'https://i0.wp.com/ondapocos.com.br/wp-content/uploads/2021/10/emprego-pedreiro-construcao-civil-030720.jpg?resize=350%2C250&ssl=1',\n",
       "    'title': 'Inscrições para curso gratuito de Pedreiro Básico seguem até sexta (8)'},\n",
       "   {'author': 'Aline Rodrigues',\n",
       "    'categories': 'Geral|Notícias',\n",
       "    'date': '2021-09-30',\n",
       "    'id': 'd8937373-e227-5590-8c61-ddde003027db',\n",
       "    'link': 'https://ondapocos.com.br/senai-e-autarquia-municipal-de-ensino-oferecem-curso-de-pedreiro-basico/',\n",
       "    'snippet': 'O Serviço Nacional de Aprendizagem Industrial (SENAI) e a Autarquia Municipal de Ensino de Poços de Caldas oferecem oito vagas para o curso gratuito de...',\n",
       "    'thumbnail_alt': 'SENAI e Autarquia Municipal de Ensino oferecem curso de pedreiro básico',\n",
       "    'thumbnail_link': 'https://i2.wp.com/ondapocos.com.br/wp-content/uploads/2021/09/pedreiro-01.jpg?resize=350%2C250&ssl=1',\n",
       "    'title': 'SENAI e Autarquia Municipal de Ensino oferecem curso de pedreiro básico'},\n",
       "   {'author': 'Aline Rodrigues',\n",
       "    'categories': 'Destaques|Geral|Notícias',\n",
       "    'date': '2022-09-09',\n",
       "    'id': '8d6fdbb9-9c80-560b-95dd-268679e57eb9',\n",
       "    'link': 'https://ondapocos.com.br/vacinacao-antirrabica-de-caes-e-gatos-comeca-neste-sabado-na-zona-urbana-de-pocos/',\n",
       "    'snippet': 'A 35ª Campanha de Vacinação Antirrábica de cães e gatos começa neste sábado,10, na zona urbana de Poços de Caldas. Neste sábado a região leste...',\n",
       "    'thumbnail_alt': 'Professora de Medicina Veterinária comenta a importância da vacinação antirrábica',\n",
       "    'thumbnail_link': 'https://i2.wp.com/ondapocos.com.br/wp-content/uploads/2022/08/WhatsApp-Image-2022-08-23-at-13.17.51.jpeg?resize=350%2C250&ssl=1',\n",
       "    'title': 'Vacinação antirrábica de cães e gatos começa neste sábado na zona urbana de Poços'},\n",
       "   {'author': 'Aline Rodrigues',\n",
       "    'categories': 'Geral|Notícias',\n",
       "    'date': '2021-09-08',\n",
       "    'id': 'f765c1d8-ac9d-5aa8-b3e5-7e5d6d26bb8a',\n",
       "    'link': 'https://ondapocos.com.br/vacinacao-antirrabica-de-caes-e-gatos-comeca-na-proxima-semana/',\n",
       "    'snippet': 'A 34ª Campanha de Vacinação Antirrábica de cães e gatos começa na terça-feira,13 de setembro, em Poços de Caldas. Todos os animais a partir dos...',\n",
       "    'thumbnail_alt': 'Vacinação Antirrábica de cães e gatos começa na próxima semana',\n",
       "    'thumbnail_link': 'https://i1.wp.com/ondapocos.com.br/wp-content/uploads/2021/09/depositphotos_46690649-stock-photo-veterinary-treatment-vaccinating-the-yorkshire.jpg?resize=350%2C250&ssl=1',\n",
       "    'title': 'Vacinação Antirrábica de cães e gatos começa na próxima semana'},\n",
       "   {'author': 'Matheus Luis',\n",
       "    'categories': 'Notícias',\n",
       "    'date': '2021-11-02',\n",
       "    'id': '2ed146e6-e581-53d1-abb1-a10ed6603a3a',\n",
       "    'link': 'https://ondapocos.com.br/inscricao-para-curso-gratuito-de-pintor-de-obras-comeca-nesta-quarta-feira/',\n",
       "    'snippet': 'O Serviço Nacional de Aprendizagem Industrial (SENAI), a Prefeitura e a Autarquia Municipal de Ensino oferecem 20 vagas para o curso gratuito de Pintor de...',\n",
       "    'thumbnail_alt': 'Inscrição para curso gratuito de pintor de obras começa nesta quarta-feira',\n",
       "    'thumbnail_link': 'https://i0.wp.com/ondapocos.com.br/wp-content/uploads/2021/11/images.jpeg.jpg?resize=350%2C250&ssl=1',\n",
       "    'title': 'Inscrição para curso gratuito de pintor de obras começa nesta quarta-feira'},\n",
       "   {'author': 'Aline Rodrigues',\n",
       "    'categories': 'Destaques|Geral|Notícias',\n",
       "    'date': '2022-08-23',\n",
       "    'id': 'ba0e1d16-3ac6-5986-aaab-cacdcfdc6c08',\n",
       "    'link': 'https://ondapocos.com.br/professora-de-medicina-veterinaria-comenta-a-importancia-da-vacinacao-antirrabica/',\n",
       "    'snippet': 'Começou nesta segunda-feira,22, em Poços de Caldas a Campanha de Vacinação Antirrábica de cães e gatos. \\xa0A 35ª Campanha segue até o dia 24 de...',\n",
       "    'thumbnail_alt': 'Professora de Medicina Veterinária comenta a importância da vacinação antirrábica',\n",
       "    'thumbnail_link': 'https://i2.wp.com/ondapocos.com.br/wp-content/uploads/2022/08/WhatsApp-Image-2022-08-23-at-13.17.51.jpeg?resize=350%2C250&ssl=1',\n",
       "    'title': 'Professora de Medicina Veterinária comenta a importância da vacinação antirrábica'},\n",
       "   {'author': 'Matheus Luis',\n",
       "    'categories': 'Destaques|Notícias',\n",
       "    'date': '2022-08-27',\n",
       "    'id': 'c47656d5-4e5f-5253-8c96-f33b336e4dec',\n",
       "    'link': 'https://ondapocos.com.br/campanha-de-vacinacao-antirrabica-continua-na-proxima-semana/',\n",
       "    'snippet': 'Continua na próxima semana, a 35ª Campanha de Vacinação Antirrábica. Nesta segunda semana as\\xa0equipes da Vigilância Ambiental, setor da Secretaria Municipal de Saúde, percorrerão as\\xa0chácaras,...',\n",
       "    'thumbnail_alt': 'Campanha de Vacinação Antirrábica continua na próxima semana',\n",
       "    'thumbnail_link': 'https://i2.wp.com/ondapocos.com.br/wp-content/uploads/2022/08/01-7-768x576-1.jpg?resize=350%2C250&ssl=1',\n",
       "    'title': 'Campanha de Vacinação Antirrábica continua na próxima semana'},\n",
       "   {'author': 'Matheus Luis',\n",
       "    'categories': 'Destaques|Notícias',\n",
       "    'date': '2022-08-18',\n",
       "    'id': '5d51ba1c-66b0-5f95-9ea4-852b9b9a17e7',\n",
       "    'link': 'https://ondapocos.com.br/vacinacao-antirrabica-comeca-na-proxima-semana-em-pocos-de-caldas/',\n",
       "    'snippet': 'Começa na próxima segunda-feira (22) e vai até\\xa024 de\\xa0setembro a 35ª Campanha de Vacinação Antirrábica de Cães e Gatos em Poços. Animais a partir dos...',\n",
       "    'thumbnail_alt': 'Vacinação Antirrábica começa na próxima semana em Poços de Caldas',\n",
       "    'thumbnail_link': 'https://i1.wp.com/ondapocos.com.br/wp-content/uploads/2022/08/VACINA-1-1.jpg?resize=350%2C250&ssl=1',\n",
       "    'title': 'Vacinação Antirrábica começa na próxima semana em Poços de Caldas'},\n",
       "   {'author': 'Aline Rodrigues',\n",
       "    'categories': 'Geral|Notícias',\n",
       "    'date': '2023-07-29',\n",
       "    'id': '25923b51-37cd-5b8d-8949-9c6d452a7e05',\n",
       "    'link': 'https://ondapocos.com.br/36a-campanha-de-vacinacao-antirrabica-comeca-nesta-semana-em-pocos/',\n",
       "    'snippet': 'Começa no mês de agosto a 36ª Campanha de Vacinação Antirrábica de Cães e Gatos em Poços. Animais a partir dos três meses de vida...',\n",
       "    'thumbnail_alt': 'Confira os locais de vacinação antirrábica neste sábado em Poços\\xa0',\n",
       "    'thumbnail_link': 'https://i2.wp.com/ondapocos.com.br/wp-content/uploads/2022/09/VACINAÇÃO-ANTIRRÁBICA-CÓRREGO-DANTAS-1-768x554-1.jpg?resize=350%2C250&ssl=1',\n",
       "    'title': '36ª Campanha de Vacinação Antirrábica começa nesta semana em Poços\\xa0'}]],\n",
       " 'documents': [['A Calopsita da foto é a Juju. Ela voou da sua casinha quarta-feira, 7, no bairro Jardim Formosa, zona leste de Poços de Caldas. Caso alguém encontre a ave, pode entrar em contato pelo WhatsApp 35 9.9110-5561.',\n",
       "   'Estão abertas até 8 de outubro, próxima sexta-feira, as inscrições para o curso gratuito de Pedreiro Básico. As matrículas devem ser realizadas presencialmente, na\\xa0Secretaria do SENAI, na Rua Pedro Barbosa, 600\\xa0– Jardim Formosa, das 8h às 19h. Os interessados devem levar a cópia dos seguintes documentos: RG, CPF, Comprovante de Residência, Comprovante de Escolaridade ou declaração de próprio punho informando a escolaridade. Mais informações podem ser obtidas pelo telefone\\xa03714-3004. São oito vagas ofertadas pelo Serviço Nacional de Aprendizagem Industrial (SENAI), em parceria com a Autarquia Municipal de Ensino (AME). O curso será realizado de 13 a 27 de outubro, presencialmente, das 13h30min às 17h30min, na sede do SENAI. A capacitação com certificação tem carga horária de 40 horas e é voltado para pessoas a partir de 18 anos e Ensino Fundamental Incompleto. O instrutor de formação profissional é Diego Henrique Vicente. O objetivo é preparar profissionais para executar o assentamento de elementos de alvenarias, revestimentos em argamassa e cerâmico de acordo com as normas técnicas vigentes e procedimentos específicos, assegurando o desenvolvimento do processo com qualidade, higiene, segurança e respeito ao meio ambiente. ',\n",
       "   'O Serviço Nacional de Aprendizagem Industrial (SENAI) e a Autarquia Municipal de Ensino de Poços de Caldas oferecem oito vagas para o curso gratuito de pedreiro básico. As matrículas devem ser realizadas presencialmente, na Secretaria do SENAI, na Rua Pedro Barbosa, 600 – Jardim Formosa, de 5 a 8 de outubro, das 8h às 19h. Os interessados devem levar a cópia dos seguintes documentos: RG, CPF, Comprovante de Residência, Comprovante de Escolaridade ou declaração de próprio punho informando a escolaridade. Mais informações podem ser obtidas pelo telefone 3714-3004. O curso será realizado de 13 a 27 de outubro, presencialmente, das 13h30min às 17h30min, na sede do SENAI. A capacitação com certificação tem carga horária de 40 horas e é voltado para pessoas a partir de 18 anos e Ensino Fundamental Incompleto. O instrutor de formação profissional é Diego Henrique Vicente. O objetivo é preparar profissionais para executar o assentamento de elementos de alvenarias, revestimentos em argamassa e cerâmico de acordo com as normas técnicas vigentes e procedimentos específicos, assegurando o desenvolvimento do processo com qualidade, higiene, segurança e respeito ao meio ambiente. “Dando continuidade ao nosso trabalho educacional, especialmente na capacitação para o mundo do trabalho, a Autarquia Municipal de Ensino promove, em parceria com o SENAI, o curso de Pedreiro Básico. Nosso objetivo é oferecer oportunidades de qualificação profissional em diversas áreas”, destaca o diretor da AME, professor Carlos Roberto de Oliveira Costa. No curso, os alunos vão aprender a utilizar instrumentos de medida adequados às tarefas, calcular o material que será utilizado na elaboração do trabalho proposto, selecionar os diferentes materiais conforme o projeto, utilizar instrumentos de medição e nivelamento, identificar os tipos de argamassas e o traço adequado, utilizar os fundamentos básicos como nível, prumo, alinhamento e esquadro, executar os diversos tipos de tipos de assentamentos cerâmicos, executar revestimentos em argamassa e cerâmico, além de ética, organização, atenção, disciplina, zelo e comprometimento no ambiente de trabalho. Para receber o certificado, é preciso obter aproveitamento de 60% e frequência de 80%. ',\n",
       "   'A 35ª Campanha de Vacinação Antirrábica de cães e gatos começa neste sábado,10, na zona urbana de Poços de Caldas. Neste sábado a região leste da cidade é contemplada com a campanha. A vacinação teve início no dia 22 de agosto e segue até o dia 24 de setembro com o objetivo de imunizar 25.461 animais, sendo 20.656 cães e 4.805 gatos. Confira os dias e locais de vacinação neste final de semana REGIÃO LESTE (10/09) – Sábado Escola Dona Vicentina Massa -Av. João Romeu Tramonte, 82 – Chácara Poços de Caldas – 8h às 11h30 / 13h às 16h30 PSF – Parque Pinheiros– Rua Victor Emanoel Imesi, s/ nº – Parque Pinheiros – 8h às 11h30 / 13h às 16h30 UBS – Jardim Itamaraty– Av.: Maria Rita Lopes Pontes (Irmã Dulce), 360 – Itamaraty III – 8h às 11h30 / 13h às 16h30 E.M. José Raphael dos Santos Netto- Rua Eugênio Bernardes Ferreira – Jardim Philadélphia – 8h às 11h30 / 13h às 16h30 UBS Regional leste- Rua Cecília Fishela, s/nº – Chácara Alvorada- 8h às 11h30 / 13h às 16h30 PSF Dom Bosco -Rua Francisco Cantos Davo, s/nº – Jardim Formosa – 8h às 11h30 / 13h às 16h30 PSF Santo André II -Rua Vereador Eduardo de Paiva , 41 –Vila Menezes –8h às 11h30 / 13h às 16h30 Rua Rouxinol /Rua Canário- Morada dos Pássaros – 08h às 11h30 Praça ao lado da Quadra de Esportes – Campos Elíseos – 13h às 16h30 \\xa0REGIÃO LESTE (11/09) – Domingo PSF Nova Aurora -Rua Benedita Lucas da Silva, 60 – Jardim Ipê – 8h às 11h30 / 13h às 16h30 CEI Angelina Leandro Eiras- Rua Dr Nelson de Paiva – Nova Aparecida – 8h às 11h30 / 13h às 16h30 PSF Jardim São Paulo -Rua Jaguari,15 – Jardim São Paulo – 8h às 11h30 / 13h às 16h30 PSF Santa Rosália- Rua Dr. Antenor Damini, 233 – Santa Rosália – 8h às 11h30 / 13h às 16h30 PSF Vila Nova- Praça em frente ao Parquinho –Vila Nova – 8h às 11h30 / 13h às 16h30 PSF Caio Junqueira – Rua Mangueira, 262 – Caio Junqueira – 8h às 11h30 / 13h às 16h30 Pátio da Paróquia São Judas Tadeu – A.: Justino Ribeiro, 13 – Jardim dos Estados – 8h às 11h30 CEI Municipal Manoel Alfaya – Rua Joaquim de Parolis, 250 – Parque Primavera – 13h às 16h30 Praça bairro Dom Bosco – Rua Dom Bosco, S/N, (Próximo ao Lar dos Velhinhos de São Vicente de Paula) – 8h às 11h30 PSF das Flores – Rua Nilton José Faccion, 332 – Jardim das Hortências – 13h às 16h30. ',\n",
       "   'A 34ª Campanha de Vacinação Antirrábica de cães e gatos começa na terça-feira,13 de setembro, em Poços de Caldas. Todos os animais a partir dos três meses de vida, devem ser vacinados. Segundo o coordenador da vigilância ambiental, Jorge Miguel Ferreira do Lago, o objetivo da campanha, é vacinar o maior número de cães e gatos. ” Pois fazendo uma boa cobertura vacinal a gente impede a circulação do vírus rábico no município, e com isso impede que a doença chegue até a população. É uma doença infecciosa transmissível, todos os mamíferos são suscetíveis a doença. A forma de transmissão é através de arranhadura, mordedura e lambedura”, explica. Para este ano, a meta é vacinar 23.398 animais, sendo 20.489 cães e 2.909 gatos. No ano passado\\xa0foram imunizados 17.838 animais, sendo 14.929 cães e 2.909 gatos. VACINAÇÃO ZONA RURAL A Campanha pela zona rural, acontecerá a partir do 13 até o dia 02 de outubro, sendo de segunda a sexta-feira, das 08h às 15h, com as equipes da Vigilância Ambiental, setor da Secretaria Municipal de Saúde, percorrendo chácaras, sítios e fazendas. As equipes trabalham uniformizadas, com crachá e vão em carros identificados. A Secretaria de Saúde solicita que a população fique atenta aos dias que as equipes farão as visitas. Cronograma: –13 a 17 de setembro – 08h às 15h -20 a 24\\xa0de setembro – 08h às 15h -27 a 1º de outubro – 08h às 15h VACINAÇÃO ZONA URBANA A Campanha na zona urbana será realizada com pontos itinerantes em todas as regiões da cidade, começando no final de semana dos dias 18 e 19/09 pela zona leste, conforme descrito abaixo. A programação das próximas regiões a serem atendidas, será divulgada por etapas, nos próximos dias. Confira abaixo: REGIÃO LESTE\\xa0(18/09)\\xa0– Sábado Escola Dona Vicentina Massa -Av. João Romeu Tramonte, 82 – Chácara Poços de Caldas – 8h\\xa0às 11h30 / 13h\\xa0às 16h30 PSF – Parque Pinheiros– Rua Victor Emanoel Imesi, s/ nº – Parque Pinheiros – 8h\\xa0às 11h30 / 13h\\xa0às 16h30 UBS – Jardim Itamaraty– Av.: Maria Rita Lopes Pontes (Irmã Dulce), 360 – Itamaraty III- 8h\\xa0às 11h30 / 13h\\xa0às 16h30 E.M. José Raphael dos Santos Netto- Rua Eugênio Bernardes Ferreira – Jardim Philadélphia –\\xa08h\\xa0às 11h30 / 13h\\xa0às 16h30 PSF Chácara Alvorada- Rua Cecília Fishela, s/nº – Chácara Alvorada- 8h\\xa0às 11h30 / 13h\\xa0às 16h30 PSF Dom Bosco -Rua Francisco Cantos Davo, s/nº – Jardim Formosa- 8h\\xa0às 11h30 / 13h\\xa0às 16h30 PSF Santo André II -Rua Vereador Eduardo de Paiva , 41 –Vila Menezes- 8h\\xa0às 11h30 / 13h\\xa0às 16h30 Rua Rouxinol /Rua Canário- Morada dos Pássaros –\\xa08h às 11h30 Praça ao lado da Quadra de Esportes – Campos Elíseos – 13h às 16h30 REGIÃO LESTE\\xa0(19/09)\\xa0– DOMINGO PSF Nova Aurora -Rua Benedita Lucas da Silva, 60 – Jardim Ipê –\\xa08h\\xa0às 11h30 / 13h\\xa0às 16h30 CEI Angelina Leandro Eiras- Rua Dr Nelson de Paiva – Nova Aparecida –\\xa08h\\xa0às 11h30 / 13h\\xa0às 16h30 PSF Jardim São Paulo -Rua Jaguari,15 – Jardim São Paulo –\\xa08h\\xa0às 11h30 / 13h\\xa0às 16h30 PSF Santa Rosália- Rua Dr. Antenor Damini, 233 – Santa Rosália –\\xa08h\\xa0às 11h30 / 13h\\xa0às 16h30 PSF Vila Nova- Praça em frente ao Parquinho –Vila Nova –\\xa08h\\xa0às 11h30 / 13h\\xa0às 16h30 PSF Caio Junqueira – Rua Mangueira, 262 – Caio Junqueira –\\xa08h\\xa0às 11h30 / 13h\\xa0às 16h30 Pátio da Paróquia São Judas Tadeu – A.: Justino Ribeiro, 13 – Jardim dos Estados – 8h às 11h30 CEI Municipal Manoel Alfaya – Rua Joaquim de Parolis, 250 – Parque Primavera – 13h às 16h30 Praça bairro Dom Bosco – Rua Dom Bosco, S/N, (Próximo ao Lar dos Velhinhos de São Vicente de Paula) – 8h às 11h30 PSF das Flores – Rua Nilton José Faccion, 332 – Jardim das Hortências – 13h às 16h30 REGIÃO SUL\\xa0(25/09)\\xa0– SÁBADO CEI Parque das Nações- Av.: Portugal, 970 –Parque das Nações –\\xa08h\\xa0às 11h30 / 13h\\xa0às 16h30 UBS Regional Sul- rua Antônio Marinoni, 125 – Bairro São Sebastião –\\xa08h\\xa0às 11h30 / 13h\\xa0às 16h30 Hospital Margarita Morales- Praça do Hospital Margarita Morales –Conjunto Habitacional –\\xa08h\\xa0às 11h30 / 13h\\xa0às 16h30 PSF Kennedy II- Rua Estanho, 151 – Jardim Kennedy II –\\xa08h\\xa0às 11h30 / 13h\\xa0às 16h30 UBS Kennedy I- Rua Pirita, 116– Jardim Kennedy I –\\xa08h\\xa0às 11h30 / 13h\\xa0às 16h30 PSF Esperança- Rua Lázaro de Lima, 280 –Parque Esperança II-\\xa08h\\xa0às 11h30 / 13h\\xa0às 16h30 Praça (pista de skate) localizada ao lado da agência da Caixa Econômica Federal – Cohab –\\xa08h\\xa0às 11h30 / 13h\\xa0às 16h30 CEI Conceição Aparecida Miguel – Rua João Cioffi, 60 – Vila Matilde –\\xa08h\\xa0às 11h30 / 13h\\xa0às 16h30 Av. Dr. Rowilson Flora Filho, esquina com Av. Francisco Gilberto Blasi – Bairro Tiradentes. – 13h às 16h30 PSF São Bento – Rua Benedicto Lopes Buono, 375 – Jardim São Bento –\\xa08h\\xa0às 11h30 Rua Leonel Justiniano de Bem / Rua Ana Ferreira Berno – Jardim Contorno – 13h às 16h30 REGIÃO OESTE\\xa0(26/09)\\xa0– DOMINGO E.M. Sérgio de Freitas Pacheco- Praça Tupy, s/nº -Vila Togni –\\xa08h\\xa0às 11h30 / 13h\\xa0às 16h30 PSF Country Club- Rua José Mendonça, 131 – Jardim Country Club –\\xa08h\\xa0às 11h30 / 13h\\xa0às 16h30 E.M. João Pinheiro- Rua José Bernardo, 280 –Jardim Country Club –\\xa08h\\xa0às 11h30 / 13h\\xa0às 16h30 PSF Maria Imaculada- Av.: Mãe dos Homens, 782 –Maria Imaculada –\\xa08h\\xa0às 11h30 / 13h\\xa0às 16h30 CEI Aureliano Miranda de Carvalho- Rua José Mamud Assan, 185 –São Jorge –\\xa08h\\xa0às 11h30 / 13h\\xa0às 16h30 E. M. José Mamud Assan – Rua Vila Rica, 432 – Vila Rica –\\xa08h\\xa0às 11h30 / 13h\\xa0às 16h30 PSF Marco Divisório -Rua Vicente Miranda, 229 – Marco Divisório –\\xa08h\\xa0às 11h30 PSF Bortolan- Rua Salvador Flores / Caminho 4 -Bortolan –\\xa013h\\xa0às 16h30 PSF Vale das Antas- Fazenda Osório, 5 –Vale das Antas –\\xa08h\\xa0às 11h30 Avenida João Ferrari / Rua Henrique Benedetti – Véu das Noivas\\xa013h\\xa0às 16h30 Colégio Municipal Dr. José Vargas de Souza- Av.: Champagnat, 668 –Jardim Ginásio –\\xa08h\\xa0às 11h30 Rua 25 de Dezembro / Rua 20 de Janeiro – Jardim América –\\xa013h\\xa0às 16h30 REGIÃO CENTRO\\xa0(02/10) –\\xa0SÁBADO Ginásio Poliesportivo Moleque César – Rua Vivaldi Leite Ribeiro, s/nº – Bairro Cascatinha – –\\xa08h\\xa0às 11h30 / 13h\\xa0às 16h30 PSF Quisisana- Rua Geni Vilas Boas Tardeli, 50 –Bairro São José –\\xa08h\\xa0às 11h30 / 13h\\xa0às 16h30 PSF São José- Rua Profª Lourdes Mourão, s/nº -Jardim Centenário –\\xa08h\\xa0às 11h30 / 13h\\xa0às 16h30 PSF Santa Ângela- Rua Manuel Luís Zuanella, 30 – Santa Ângela – –\\xa08h\\xa0às 11h30 / 13h\\xa0às 16h30 Secretaria Municipal de Saúde – Rua Pará, 284 -Centro (entrada pela rua Rio Grande do Sul) – –\\xa08h\\xa0às 11h30 / 13h\\xa0às 16h30 UBS Santa Augusta– Rua Professora Nicolina Bernardo, S/N – Santa Augusta –\\xa08h\\xa0às 11h30 / 13h\\xa0às 16h30 E.M. Alvino Hosken de Oliveira- Rua Humberto de Campos, 146 -Cascatinha –\\xa08h\\xa0às 11h30 / 13h\\xa0às 16h30 Praça das Américas – Jardim Quisisana (Rodelão) –\\xa08h\\xa0às 11h30 Rua Ítalo Zingoni / Rua Benedito Froes de Carvalho – Vitória I –\\xa013h\\xa0às 16h30 DRIVE THRU Neste ano a realização da vacinação em modalidade\\xa0drive thru\\xa0continuará.\\xa0Algumas recomendações importantes para a vacinação em drive são: transportar os animais observando as normas de segurança estabelecidas; levar outra pessoa para auxiliar no transporte e manejo dos animais na hora da vacinação; no caso de animais mais agressivos, colocar a focinheira para evitar acidentes. Além disso, nos drives, serão vacinados exclusivamente animais que estejam sendo transportados em veículos, como forma de organizar a ação. SEXTA-FEIRA\\xa0(17/09)\\xa0–\\xa008h às 12h Mini Terminal de Linhas Urbanas da Zona Leste (Próximo ao Bretas da Zona Leste) QUINTA-FEIRA(23/09) – 08h às 12h Espaço de Eventos Tatersal – Zona Sul SEXTA-FEIRA\\xa0(24/09) – 08h às 12h \\xa0Estacionamento do Estádio Ronaldão – Zona Oeste SÁBADO\\xa0(25/09) 08h às 11h30 Espaço de eventos Tatersal – Zona Sul SEXTA-FEIRA\\xa0(01/10) – 08h às 12h \\xa0Parque José Afonso Junqueira – Atrás do Palace Hotel – Centro Para mais informações ligue: \\xa03697-5987/ 3697-5977 ',\n",
       "   'O Serviço Nacional de Aprendizagem Industrial (SENAI), a Prefeitura e a Autarquia Municipal de Ensino oferecem 20 vagas para o curso gratuito de Pintor de Obras, sendo 8 destinadas para a comunidade em geral e 12 para os servidores públicos municipais. As inscrições devem ser realizadas nos dias 3, 4 e 5 de novembro, presencialmente, das 8h às 19h, na Secretaria do SENAI (Rua Pedro Barbosa, 600 – Jardim Formosa). Os interessados devem levar a cópia dos seguintes documentos: RG, CPF, Comprovante de Residência, Comprovante de Escolaridade ou declaração de próprio punho informando a escolaridade. Mais informações podem ser obtidas pelo telefone 3714-3004. O curso, que terá início no dia 8 de novembro, será realizado presencialmente, das 13h30min às 17h30min, na sede do SENAI. A capacitação com certificação tem carga horária de 40 horas e é voltada para pessoas a partir de 18 anos e Ensino Fundamental Incompleto. O objetivo do curso de Pintor de Obras é qualificar o aluno para analisar, planejar e realizar serviços de pintura de edificações, atendendo aos projetos e ordens de serviço de acordo com procedimentos de execução, normas específicas de segurança do trabalho, meio ambiente e saúde, respeitando os critérios de qualidade. “O curso de Pintor de Obras é mais uma capacitação profissional desenvolvida em parceria pela Autarquia Municipal de Ensino que visa, ao mesmo tempo, garantir a formação continuada dos servidores públicos municipais, impactando na qualidade do serviço prestado à população, e proporcionar oportunidade de qualificação para o mundo do trabalho à comunidade em geral”, ressalta o diretor da Autarquia Municipal de Ensino, Profº Me. Carlos Roberto de Oliveira Costa. Serviço Curso de Pintor de Obras Gratuito Inscrições: dias 3, 4 e 5 de novembro, das 8h às 19h, na Secretaria do SENAI (Rua Pedro Barbosa, 600 – Jardim Formosa) Mais informações: 3714-3004.',\n",
       "   'Começou nesta segunda-feira,22, em Poços de Caldas a Campanha de Vacinação Antirrábica de cães e gatos. \\xa0A 35ª Campanha segue até o dia 24 de setembro. Animais a partir dos três meses de vida devem ser vacinados. Para este ano, a meta é vacinar 25.461 animais, sendo 20.656 cães e 4.805 gatos. O jornalismo da Onda Poços conversou com a professora do curso de Medicina Veterinária da PUC Minas Poços de Caldas sobre este assunto. Margaret Yuriko Saiki explica que a raiva é uma doença grave que atinge o Sistema Nervoso Central de mamíferos, que não tem cura nos animais e é fatal em quase 100% dos casos no homem. “ Por ser uma zoonose, os cuidados são redobrados na prevenção da doença. A vacinação anual dos animais com vacina antirrábica é a principal forma de prevenção da doença, tanto no homem como nos animais, portanto, é importante que os tutores vacinem seus cães e gatos. Campanhas de vacinação antirrábica de cães e gatos são feitas todos os anos com o objetivo de prevenir a doença nos municípios”, finaliza. Saiba os dias e horários para imunizar o seu animalzinho. VACINAÇÃO ZONA RURAL A Campanha pela zona rural, acontecerá do dia 22/08 a 02/09, de segunda a sexta-feira, das 08h às 17h, com as equipes da Vigilância Ambiental, setor da Secretaria Municipal de Saúde, percorrendo chácaras, sítios e fazendas. As equipes trabalham uniformizadas, com crachá e vão em carros identificados também. A Secretaria de Saúde solicita que a população fique atenta aos dias que as equipes farão as visitas. Cronograma: –22 a 26 de agosto – 08h às 17h -29 a 02 de setembro – 08h às 17h VACINAÇÃO ZONA URBANA A Campanha na zona urbana será realizada com pontos itinerantes em todas as regiões da cidade, começando 10/09 e seguindo até 24/09. Confira a programação: REGIÃO LESTE (10/09) – Sábado Escola Dona Vicentina Massa -Av. João Romeu Tramonte, 82 – Chácara Poços de Caldas –\\xa08h\\xa0às 11h30 / 13h\\xa0às 16h30 PSF – Parque Pinheiros– Rua Victor Emanoel Imesi, s/ nº – Parque Pinheiros –\\xa08h\\xa0às 11h30 / 13h\\xa0às 16h30 UBS – Jardim Itamaraty– Av.: Maria Rita Lopes Pontes (Irmã Dulce), 360 – Itamaraty III –\\xa08h\\xa0às 11h30 / 13h\\xa0às 16h30 E.M. José Raphael dos Santos Netto- Rua Eugênio Bernardes Ferreira – Jardim Philadélphia –\\xa08h\\xa0às 11h30 / 13h\\xa0às 16h30 UBS Regional leste- Rua Cecília Fishela, s/nº – Chácara Alvorada-\\xa08h\\xa0às 11h30 / 13h\\xa0às 16h30 PSF Dom Bosco -Rua Francisco Cantos Davo, s/nº – Jardim Formosa –\\xa08h\\xa0às 11h30 / 13h\\xa0às 16h30 PSF Santo André II -Rua Vereador Eduardo de Paiva , 41 –Vila Menezes –8h\\xa0às 11h30 / 13h\\xa0às 16h30 Rua Rouxinol /Rua Canário- Morada dos Pássaros – 08h às 11h30 Praça ao lado da Quadra de Esportes – Campos Elíseos – 13h às 16h30 REGIÃO LESTE (11/09) – Domingo PSF Nova Aurora -Rua Benedita Lucas da Silva, 60 – Jardim Ipê –\\xa08h\\xa0às 11h30 / 13h\\xa0às 16h30 CEI Angelina Leandro Eiras- Rua Dr Nelson de Paiva – Nova Aparecida –\\xa08h\\xa0às 11h30 / 13h\\xa0às 16h30 PSF Jardim São Paulo -Rua Jaguari,15 – Jardim São Paulo –\\xa08h\\xa0às 11h30 / 13h\\xa0às 16h30 PSF Santa Rosália- Rua Dr. Antenor Damini, 233 – Santa Rosália –\\xa08h\\xa0às 11h30 / 13h\\xa0às 16h30 PSF Vila Nova- Praça em frente ao Parquinho –Vila Nova –\\xa08h\\xa0às 11h30 / 13h\\xa0às 16h30 PSF Caio Junqueira – Rua Mangueira, 262 – Caio Junqueira –\\xa08h\\xa0às 11h30 / 13h\\xa0às 16h30 Pátio da Paróquia São Judas Tadeu – A.: Justino Ribeiro, 13 – Jardim dos Estados – 8h às 11h30 CEI Municipal Manoel Alfaya – Rua Joaquim de Parolis, 250 – Parque Primavera – 13h às 16h30 Praça bairro Dom Bosco – Rua Dom Bosco, S/N, (Próximo ao Lar dos Velhinhos de São Vicente de Paula) – 8h às 11h30 PSF das Flores – Rua Nilton José Faccion, 332 – Jardim das Hortências – 13h às 16h30 \\xa0 REGIÃO SUL (17/09) – Sábado CEI Parque das Nações- Av.: Portugal, 970 –Parque das Nações –\\xa08h\\xa0às 11h30 / 13h\\xa0às 16h30 UBS Regional Sul- rua Antônio Marinoni, 125 – Bairro São Sebastião –\\xa08h\\xa0às 11h30 / 13h\\xa0às 16h30 CEI Santa Terezinha – AV. Yolanda Junqueira de Melo,800 – Conjunto Habitacional – 8h\\xa0às 11h30 / 13h\\xa0às 16h30 PSF Kennedy II- Rua Estanho, 151 – Jardim Kennedy II –\\xa08h\\xa0às 11h30 / 13h\\xa0às 16h30 UBS Kennedy I- Rua Pirita, 116– Jardim Kennedy I –\\xa08h\\xa0às 11h30 / 13h\\xa0às 16h30 PSF Esperança- Rua Lázaro de Lima, 280 –Parque Esperança II-\\xa08h\\xa0às 11h30 / 13h\\xa0às 16h30 Praça (pista de skate) localizada ao lado da agência da Caixa Econômica Federal – Cohab –\\xa08h\\xa0às 11h30 / 13h\\xa0às 16h30 PSF São Bento – Rua Benedicto Lopes Buono, 375 – Jardim São Bento –\\xa08h\\xa0às 11h30\\xa0Av. CEI Conceição Aparecida Miguel – Rua João Cioffi, 60 – Vila Matilde –\\xa08h\\xa0às 11h30 Rua Leonel Justiniano de Bem / Rua Ana Ferreira Berno – Jardim Contorno – 13h às 16h30 REGIÃO OESTE (18/09) – Domingo E.M. Sérgio de Freitas Pacheco- Praça Tupy, s/nº -Vila Togni –\\xa08h\\xa0às 11h30 / 13h\\xa0às 16h30 PSF Country Club- Rua José Mendonça, 131 – Jardim Country Club –\\xa08h\\xa0às 11h30 / 13h\\xa0às 16h30 E.M. João Pinheiro- Rua José Bernardo, 280 –Jardim Country Club –\\xa08h\\xa0às 11h30 / 13h\\xa0às 16h30 PSF Maria Imaculada- Av.: Mãe dos Homens, 782 –Maria Imaculada –\\xa08h\\xa0às 11h30 / 13h\\xa0às 16h30 CEI Aureliano Miranda de Carvalho- Rua José Mamud Assan, 185 –São Jorge –\\xa08h\\xa0às 11h30 / 13h\\xa0às 16h30 PSF Marco Divisório -Rua Vicente Miranda, 229 – Marco Divisório –\\xa08h\\xa0às 11h30 PSF Bortolan- Rua Salvador Flores / Caminho 4 -Bortolan –\\xa013h\\xa0às 16h30 PSF Vale das Antas- Fazenda Osório, 5 –Vale das Antas –\\xa08h\\xa0às 11h30 Avenida João Ferrari / Rua Henrique Benedetti – Véu das Noivas\\xa013h\\xa0às 16h30 Colégio Municipal Dr. José Vargas de Souza- Av.: Champagnat, 668 –Jardim Ginásio –\\xa08h\\xa0às 11h30 Rua 25 de Dezembro / Rua 20 de Janeiro – Jardim América –\\xa013h\\xa0às 16h30 Pracinha da Vila Cruz – Rua Nico Duarte, S/N – Vila Cruz – 08h às 11h30 E.M. Tarso de Coimbra – Rua Mário Xandó de Oliveira, 2 – São Geraldo – 13h às 16h30 REGIÃO CENTRO\\xa0(24/09) –\\xa0SÁBADO Praça Nino Trindade (Praçinha do Zumbi) – Jardim Cascatinha –\\xa0\\xa08h\\xa0às 11h30 / 13h\\xa0às 16h30 PSF Quisisana- Rua Geni Vilas Boas Tardeli, 50 –Bairro São José –\\xa08h\\xa0às 11h30 / 13h\\xa0às 16h30 PSF São José- Rua Profª Lourdes Mourão, s/nº -Jardim Centenário –\\xa08h\\xa0às 11h30 / 13h\\xa0às 16h30 PSF Santa Ângela- Rua Manuel Luís Zuanella, 30 – Santa Ângela – –\\xa08h\\xa0às 11h30 / 13h\\xa0às 16h30 Secretaria Municipal de Saúde – Rua Pará, 284 -Centro (entrada pela rua Rio Grande do Sul) – \\xa08h\\xa0às 11h30 / 13h\\xa0às 16h30 UBS Santa Augusta– Rua Professora Nicolina Bernardo, S/N – Santa Augusta –\\xa08h\\xa0às 11h30 / 13h\\xa0às 16h30 E.M. Alvino Hosken de Oliveira- Rua Humberto de Campos, 146 -Cascatinha –\\xa08h\\xa0às 11h30 / 13h\\xa0às 16h30 Praça das Américas – Jardim Quisisana (Rodelão) –\\xa08h\\xa0às 11h30 Rua Ítalo Zingoni / Rua Benedito Froes de Carvalho – Vitória I –\\xa013h\\xa0às 16h30 \\xa0 DRIVE THRU A modalidade vacinação em drive thru seguirá neste ano. A secretaria de Saúde faz a recomendações importantes para a vacinação nesta modalidade: transportar os animais observando as normas de segurança estabelecidas; levar outra pessoa para auxiliar no transporte e manejo dos animais na hora da vacinação; no caso de animais mais agressivos, colocar a focinheira para evitar acidentes. Além disso, nos drives, serão vacinados exclusivamente animais que estejam sendo transportados em veículos, como forma de organizar a ação. Sexta-feira (09/09) – 08 às 12h Mini Terminal de Linhas Urbanas da Zona Leste (Próximo ao Bretas da Zona Leste) Sexta-feira (16/09) – 08h às 12h Estacionamento do Estádio Ronaldão – Zona Oeste Sábado (17/09) – 08h às11h30 Espaço de Eventos Tatersal – Zona Sul Sexta-feira (23/09) – 08h às 12h Parque José Afonso Junqueira (Atrás do Palace Hotel – Centro) MAIS INFORMAÇÕES Para mais informações ligue: \\xa03697-5987/ 3697-5977 ',\n",
       "   'Continua na próxima semana, a 35ª Campanha de Vacinação Antirrábica. Nesta segunda semana as\\xa0equipes da Vigilância Ambiental, setor da Secretaria Municipal de Saúde, percorrerão as\\xa0chácaras, sítios e fazendas\\xa0do município. As equipes visitam os locais de segunda a sexta, das 08h às 17h.\\xa0As equipes trabalham uniformizadas, com crachá e vão em carros identificados também. A Secretaria de Saúde solicita que a população fique atenta aos dias que as equipes farão as visitas. A partir do dia 10 de setembro a vacinação começa na Zona Urbana. VACINAÇÃO ZONA RURAL -29 a 02 de setembro – 08h às 17h VACINAÇÃO ZONA URBANA A Campanha na zona urbana será realizada com pontos itinerantes em todas as regiões da cidade, começando 10/09 e seguindo até 24/09. Confira a programação: REGIÃO LESTE (10/09) – Sábado Escola Dona Vicentina Massa -Av. João Romeu Tramonte, 82 – Chácara Poços de Caldas –\\xa08h\\xa0às 11h30 / 13h\\xa0às 16h30 PSF – Parque Pinheiros– Rua Victor Emanoel Imesi, s/ nº – Parque Pinheiros –\\xa08h\\xa0às 11h30 / 13h\\xa0às 16h30 UBS – Jardim Itamaraty– Av.: Maria Rita Lopes Pontes (Irmã Dulce), 360 – Itamaraty III –\\xa08h\\xa0às 11h30 / 13h\\xa0às 16h30 E.M. José Raphael dos Santos Netto- Rua Eugênio Bernardes Ferreira – Jardim Philadélphia –\\xa08h\\xa0às 11h30 / 13h\\xa0às 16h30 UBS Regional leste- Rua Cecília Fishela, s/nº – Chácara Alvorada-\\xa08h\\xa0às 11h30 / 13h\\xa0às 16h30 PSF Dom Bosco -Rua Francisco Cantos Davo, s/nº – Jardim Formosa –\\xa08h\\xa0às 11h30 / 13h\\xa0às 16h30 PSF Santo André II -Rua Vereador Eduardo de Paiva , 41 –Vila Menezes –8h\\xa0às 11h30 / 13h\\xa0às 16h30 Rua Rouxinol /Rua Canário- Morada dos Pássaros – 08h às 11h30 Praça ao lado da Quadra de Esportes – Campos Elíseos – 13h às 16h30 \\xa0 REGIÃO LESTE (11/09) – Domingo PSF Nova Aurora -Rua Benedita Lucas da Silva, 60 – Jardim Ipê –\\xa08h\\xa0às 11h30 / 13h\\xa0às 16h30 CEI Angelina Leandro Eiras- Rua Dr Nelson de Paiva – Nova Aparecida –\\xa08h\\xa0às 11h30 / 13h\\xa0às 16h30 PSF Jardim São Paulo -Rua Jaguari,15 – Jardim São Paulo –\\xa08h\\xa0às 11h30 / 13h\\xa0às 16h30 PSF Santa Rosália- Rua Dr. Antenor Damini, 233 – Santa Rosália –\\xa08h\\xa0às 11h30 / 13h\\xa0às 16h30 PSF Vila Nova- Praça em frente ao Parquinho –Vila Nova –\\xa08h\\xa0às 11h30 / 13h\\xa0às 16h30 PSF Caio Junqueira – Rua Mangueira, 262 – Caio Junqueira –\\xa08h\\xa0às 11h30 / 13h\\xa0às 16h30 Pátio da Paróquia São Judas Tadeu – A.: Justino Ribeiro, 13 – Jardim dos Estados – 8h às 11h30 CEI Municipal Manoel Alfaya – Rua Joaquim de Parolis, 250 – Parque Primavera – 13h às 16h30 Praça bairro Dom Bosco – Rua Dom Bosco, S/N, (Próximo ao Lar dos Velhinhos de São Vicente de Paula) – 8h às 11h30 PSF das Flores – Rua Nilton José Faccion, 332 – Jardim das Hortências – 13h às 16h30 \\xa0 REGIÃO SUL (17/09) – Sábado CEI Parque das Nações- Av.: Portugal, 970 –Parque das Nações –\\xa08h\\xa0às 11h30 / 13h\\xa0às 16h30 UBS Regional Sul- rua Antônio Marinoni, 125 – Bairro São Sebastião –\\xa08h\\xa0às 11h30 / 13h\\xa0às 16h30 CEI Santa Terezinha – AV. Yolanda Junqueira de Melo,800 – Conjunto Habitacional – 8h\\xa0às 11h30 / 13h\\xa0às 16h30 PSF Kennedy II- Rua Estanho, 151 – Jardim Kennedy II –\\xa08h\\xa0às 11h30 / 13h\\xa0às 16h30 UBS Kennedy I- Rua Pirita, 116– Jardim Kennedy I –\\xa08h\\xa0às 11h30 / 13h\\xa0às 16h30 PSF Esperança- Rua Lázaro de Lima, 280 –Parque Esperança II-\\xa08h\\xa0às 11h30 / 13h\\xa0às 16h30 Praça (pista de skate) localizada ao lado da agência da Caixa Econômica Federal – Cohab –\\xa08h\\xa0às 11h30 / 13h\\xa0às 16h30 PSF São Bento – Rua Benedicto Lopes Buono, 375 – Jardim São Bento –\\xa08h\\xa0às 11h30\\xa0Av. AV.\\xa0Dr. Rowilson Flora Filho, esquina com Av. Francisco Gilberto Blasi – Bairro Tiradentes. – 13h às 16h30 CEI Conceição Aparecida Miguel – Rua João Cioffi, 60 – Vila Matilde –\\xa08h\\xa0às 11h30 Rua Leonel Justiniano de Bem / Rua Ana Ferreira Berno – Jardim Contorno – 13h às 16h30 \\xa0 REGIÃO OESTE (18/09) – Domingo E.M. Sérgio de Freitas Pacheco- Praça Tupy, s/nº -Vila Togni –\\xa08h\\xa0às 11h30 / 13h\\xa0às 16h30 PSF Country Club- Rua José Mendonça, 131 – Jardim Country Club –\\xa08h\\xa0às 11h30 / 13h\\xa0às 16h30 E.M. João Pinheiro- Rua José Bernardo, 280 –Jardim Country Club –\\xa08h\\xa0às 11h30 / 13h\\xa0às 16h30 PSF Maria Imaculada- Av.: Mãe dos Homens, 782 –Maria Imaculada –\\xa08h\\xa0às 11h30 / 13h\\xa0às 16h30 CEI Aureliano Miranda de Carvalho- Rua José Mamud Assan, 185 –São Jorge –\\xa08h\\xa0às 11h30 / 13h\\xa0às 16h30 E. M. José Mamud Assan – Rua Vila Rica, 432 – Vila Rica –\\xa08h\\xa0às 11h30 / 13h\\xa0às 16h30 PSF Marco Divisório -Rua Vicente Miranda, 229 – Marco Divisório –\\xa08h\\xa0às 11h30 PSF Bortolan- Rua Salvador Flores / Caminho 4 -Bortolan –\\xa013h\\xa0às 16h30 PSF Vale das Antas- Fazenda Osório, 5 –Vale das Antas –\\xa08h\\xa0às 11h30 Avenida João Ferrari / Rua Henrique Benedetti – Véu das Noivas\\xa013h\\xa0às 16h30 Colégio Municipal Dr. José Vargas de Souza- Av.: Champagnat, 668 –Jardim Ginásio –\\xa08h\\xa0às 11h30 Rua 25 de Dezembro / Rua 20 de Janeiro – Jardim América –\\xa013h\\xa0às 16h30 Pracinha da Vila Cruz – Rua Nico Duarte, S/N – Vila Cruz – 08h às 11h30 E.M. Tarso de Coimbra – Rua Mário Xandó de Oliveira, 2 – São Geraldo – 13h às 16h30 REGIÃO CENTRO\\xa0(24/09) –\\xa0SÁBADO Praça Nino Trindade (Praçinha do Zumbi) – Jardim Cascatinha –\\xa0\\xa08h\\xa0às 11h30 / 13h\\xa0às 16h30 PSF Quisisana- Rua Geni Vilas Boas Tardeli, 50 –Bairro São José –\\xa08h\\xa0às 11h30 / 13h\\xa0às 16h30 PSF São José- Rua Profª Lourdes Mourão, s/nº -Jardim Centenário –\\xa08h\\xa0às 11h30 / 13h\\xa0às 16h30 PSF Santa Ângela- Rua Manuel Luís Zuanella, 30 – Santa Ângela – –\\xa08h\\xa0às 11h30 / 13h\\xa0às 16h30 Secretaria Municipal de Saúde – Rua Pará, 284 -Centro (entrada pela rua Rio Grande do Sul) – \\xa08h\\xa0às 11h30 / 13h\\xa0às 16h30 UBS Santa Augusta– Rua Professora Nicolina Bernardo, S/N – Santa Augusta –\\xa08h\\xa0às 11h30 / 13h\\xa0às 16h30 E.M. Alvino Hosken de Oliveira- Rua Humberto de Campos, 146 -Cascatinha –\\xa08h\\xa0às 11h30 / 13h\\xa0às 16h30 Praça das Américas – Jardim Quisisana (Rodelão) –\\xa08h\\xa0às 11h30 Rua Ítalo Zingoni / Rua Benedito Froes de Carvalho – Vitória I –\\xa013h\\xa0às 16h30 \\xa0 DRIVE THRU A modalidade vacinação em drive thru seguirá neste ano. A secretaria de Saúde faz a recomendações importantes para a vacinação nesta modalidade: transportar os animais observando as normas de segurança estabelecidas; levar outra pessoa para auxiliar no transporte e manejo dos animais na hora da vacinação; no caso de animais mais agressivos, colocar a focinheira para evitar acidentes. Além disso, nos drives, serão vacinados exclusivamente animais que estejam sendo transportados em veículos, como forma de organizar a ação. Sexta-feira (09/09) – 08 às 12h Mini Terminal de Linhas Urbanas da Zona Leste (Próximo ao Bretas da Zona Leste) Sexta-feira (16/09) – 08h às 12h Estacionamento do Estádio Ronaldão – Zona Oeste Sábado (17/09) – 08h às11h30 Espaço de Eventos Tatersal – Zona Sul Sexta-feira (23/09) – 08h às 12h Parque José Afonso Junqueira (Atrás do Palace Hotel – Centro) MAIS INFORMAÇÕES Para mais informações ligue: \\xa03697-5987/ 3697-5977 ',\n",
       "   'Começa na próxima segunda-feira (22) e vai até\\xa024 de\\xa0setembro a 35ª Campanha de Vacinação Antirrábica de Cães e Gatos em Poços. Animais a partir dos três meses de vida devem ser vacinados. Para este ano, a meta é vacinar 25.461\\xa0animais, sendo 20.656\\xa0cães e\\xa04.805\\xa0gatos. A Campanha é realizada pela Secretaria Municipal de Saúde, através das Vigilância Ambiental, Epidemiológica, Atenção Básica e conta com o apoio da Secretaria de Educação, Secretaria de Serviços Públicos, Demutran, Guarda Municipal, Auto Omnibus Floramar e Paróquia São Judas Tadeu. Vavinação Zona Rural\\xa0 A Campanha pela zona rural, acontecerá do dia 22/08 a 02/09, de segunda a sexta-feira, das 08h às 17h, com as equipes da Vigilância Ambiental, setor da Secretaria Municipal de Saúde, percorrendo chácaras, sítios e fazendas. As equipes trabalham uniformizadas, com crachá e vão em carros identificados também. A Secretaria de Saúde solicita que a população fique atenta aos dias que as equipes farão as visitas. Cronograma: –22 a 26 de agosto – 08h às 17h -29 a 02 de setembro – 08h às 17h Vacinação Zona Urbana  A Campanha na zona urbana será realizada com pontos itinerantes em todas as regiões da cidade, começando 10/09 e seguindo até 24/09. Confira a programação: Região Leste (10/09) – Sábado Escola Dona Vicentina Massa -Av. João Romeu Tramonte, 82 – Chácara Poços de Caldas –\\xa08h\\xa0às 11h30 / 13h\\xa0às 16h30 PSF – Parque Pinheiros– Rua Victor Emanoel Imesi, s/ nº – Parque Pinheiros –\\xa08h\\xa0às 11h30 / 13h\\xa0às 16h30 UBS – Jardim Itamaraty– Av.: Maria Rita Lopes Pontes (Irmã Dulce), 360 – Itamaraty III –\\xa08h\\xa0às 11h30 / 13h\\xa0às 16h30 E.M. José Raphael dos Santos Netto- Rua Eugênio Bernardes Ferreira – Jardim Philadélphia –\\xa08h\\xa0às 11h30 / 13h\\xa0às 16h30 UBS Regional leste- Rua Cecília Fishela, s/nº – Chácara Alvorada-\\xa08h\\xa0às 11h30 / 13h\\xa0às 16h30 PSF Dom Bosco -Rua Francisco Cantos Davo, s/nº – Jardim Formosa –\\xa08h\\xa0às 11h30 / 13h\\xa0às 16h30 PSF Santo André II -Rua Vereador Eduardo de Paiva , 41 –Vila Menezes –8h\\xa0às 11h30 / 13h\\xa0às 16h30 Rua Rouxinol /Rua Canário- Morada dos Pássaros – 08h às 11h30 Praça ao lado da Quadra de Esportes – Campos Elíseos – 13h às 16h30 Região Leste (11/09) – Domingo PSF Nova Aurora -Rua Benedita Lucas da Silva, 60 – Jardim Ipê –\\xa08h\\xa0às 11h30 / 13h\\xa0às 16h30 CEI Angelina Leandro Eiras- Rua Dr Nelson de Paiva – Nova Aparecida –\\xa08h\\xa0às 11h30 / 13h\\xa0às 16h30 PSF Jardim São Paulo -Rua Jaguari,15 – Jardim São Paulo –\\xa08h\\xa0às 11h30 / 13h\\xa0às 16h30 PSF Santa Rosália- Rua Dr. Antenor Damini, 233 – Santa Rosália –\\xa08h\\xa0às 11h30 / 13h\\xa0às 16h30 PSF Vila Nova- Praça em frente ao Parquinho –Vila Nova –\\xa08h\\xa0às 11h30 / 13h\\xa0às 16h30 PSF Caio Junqueira – Rua Mangueira, 262 – Caio Junqueira –\\xa08h\\xa0às 11h30 / 13h\\xa0às 16h30 Pátio da Paróquia São Judas Tadeu – A.: Justino Ribeiro, 13 – Jardim dos Estados – 8h às 11h30 CEI Municipal Manoel Alfaya – Rua Joaquim de Parolis, 250 – Parque Primavera – 13h às 16h30 Praça bairro Dom Bosco – Rua Dom Bosco, S/N, (Próximo ao Lar dos Velhinhos de São Vicente de Paula) – 8h às 11h30 PSF das Flores – Rua Nilton José Faccion, 332 – Jardim das Hortências – 13h às 16h30 Região Sul (17/09) – Sábado CEI Parque das Nações- Av.: Portugal, 970 –Parque das Nações –\\xa08h\\xa0às 11h30 / 13h\\xa0às 16h30 UBS Regional Sul- rua Antônio Marinoni, 125 – Bairro São Sebastião –\\xa08h\\xa0às 11h30 / 13h\\xa0às 16h30 CEI Santa Terezinha – AV. Yolanda Junqueira de Melo,800 – Conjunto Habitacional – 8h\\xa0às 11h30 / 13h\\xa0às 16h30 PSF Kennedy II- Rua Estanho, 151 – Jardim Kennedy II –\\xa08h\\xa0às 11h30 / 13h\\xa0às 16h30 UBS Kennedy I- Rua Pirita, 116– Jardim Kennedy I –\\xa08h\\xa0às 11h30 / 13h\\xa0às 16h30 PSF Esperança- Rua Lázaro de Lima, 280 –Parque Esperança II-\\xa08h\\xa0às 11h30 / 13h\\xa0às 16h30 Praça (pista de skate) localizada ao lado da agência da Caixa Econômica Federal – Cohab –\\xa08h\\xa0às 11h30 / 13h\\xa0às 16h30 PSF São Bento – Rua Benedicto Lopes Buono, 375 – Jardim São Bento –\\xa08h\\xa0às 11h30\\xa0Av. AV.\\xa0Dr. Rowilson Flora Filho, esquina com Av. Francisco Gilberto Blasi – Bairro Tiradentes. – 13h às 16h30 CEI Conceição Aparecida Miguel – Rua João Cioffi, 60 – Vila Matilde –\\xa08h\\xa0às 11h30 Rua Leonel Justiniano de Bem / Rua Ana Ferreira Berno – Jardim Contorno – 13h às 16h30 Região Oeste (18/09) – Domingo E.M. Sérgio de Freitas Pacheco- Praça Tupy, s/nº -Vila Togni –\\xa08h\\xa0às 11h30 / 13h\\xa0às 16h30 PSF Country Club- Rua José Mendonça, 131 – Jardim Country Club –\\xa08h\\xa0às 11h30 / 13h\\xa0às 16h30 E.M. João Pinheiro- Rua José Bernardo, 280 –Jardim Country Club –\\xa08h\\xa0às 11h30 / 13h\\xa0às 16h30 PSF Maria Imaculada- Av.: Mãe dos Homens, 782 –Maria Imaculada –\\xa08h\\xa0às 11h30 / 13h\\xa0às 16h30 CEI Aureliano Miranda de Carvalho- Rua José Mamud Assan, 185 –São Jorge –\\xa08h\\xa0às 11h30 / 13h\\xa0às 16h30 E. M. José Mamud Assan – Rua Vila Rica, 432 – Vila Rica –\\xa08h\\xa0às 11h30 / 13h\\xa0às 16h30 PSF Marco Divisório -Rua Vicente Miranda, 229 – Marco Divisório –\\xa08h\\xa0às 11h30 PSF Bortolan- Rua Salvador Flores / Caminho 4 -Bortolan –\\xa013h\\xa0às 16h30 PSF Vale das Antas- Fazenda Osório, 5 –Vale das Antas –\\xa08h\\xa0às 11h30 Avenida João Ferrari / Rua Henrique Benedetti – Véu das Noivas\\xa013h\\xa0às 16h30 Colégio Municipal Dr. José Vargas de Souza- Av.: Champagnat, 668 –Jardim Ginásio –\\xa08h\\xa0às 11h30 Rua 25 de Dezembro / Rua 20 de Janeiro – Jardim América –\\xa013h\\xa0às 16h30 Pracinha da Vila Cruz – Rua Nico Duarte, S/N – Vila Cruz – 08h às 11h30 E.M. Tarso de Coimbra – Rua Mário Xandó de Oliveira, 2 – São Geraldo – 13h às 16h30 Centro (24/09) – SÁBADO Praça Nino Trindade (Praçinha do Zumbi) – Jardim Cascatinha –\\xa0\\xa08h\\xa0às 11h30 / 13h\\xa0às 16h30 PSF Quisisana- Rua Geni Vilas Boas Tardeli, 50 –Bairro São José –\\xa08h\\xa0às 11h30 / 13h\\xa0às 16h30 PSF São José- Rua Profª Lourdes Mourão, s/nº -Jardim Centenário –\\xa08h\\xa0às 11h30 / 13h\\xa0às 16h30 PSF Santa Ângela- Rua Manuel Luís Zuanella, 30 – Santa Ângela – –\\xa08h\\xa0às 11h30 / 13h\\xa0às 16h30 Secretaria Municipal de Saúde – Rua Pará, 284 -Centro (entrada pela rua Rio Grande do Sul) – \\xa08h\\xa0às 11h30 / 13h\\xa0às 16h30 UBS Santa Augusta– Rua Professora Nicolina Bernardo, S/N – Santa Augusta –\\xa08h\\xa0às 11h30 / 13h\\xa0às 16h30 E.M. Alvino Hosken de Oliveira- Rua Humberto de Campos, 146 -Cascatinha –\\xa08h\\xa0às 11h30 / 13h\\xa0às 16h30 Praça das Américas – Jardim Quisisana (Rodelão) –\\xa08h\\xa0às 11h30 Rua Ítalo Zingoni / Rua Benedito Froes de Carvalho – Vitória I –\\xa013h\\xa0às 16h30 Drive Thru A modalidade vacinação em drive thru seguirá neste ano. A secretaria de Saúde faz a recomendações importantes para a vacinação nesta modalidade: transportar os animais observando as normas de segurança estabelecidas; levar outra pessoa para auxiliar no transporte e manejo dos animais na hora da vacinação; no caso de animais mais agressivos, colocar a focinheira para evitar acidentes. Além disso, nos drives, serão vacinados exclusivamente animais que estejam sendo transportados em veículos, como forma de organizar a ação. Sexta-feira (09/09) – 08 às 12h Mini Terminal de Linhas Urbanas da Zona Leste (Próximo ao Bretas da Zona Leste) Sexta-feira (16/09) – 08h às 12h Estacionamento do Estádio Ronaldão – Zona Oeste Sábado (17/09) – 08h às11h30 Espaço de Eventos Tatersal – Zona Sul Sexta-feira (23/09) – 08h às 12h Parque José Afonso Junqueira (Atrás do Palace Hotel – Centro) ',\n",
       "   'Começa no mês de agosto a 36ª Campanha de Vacinação Antirrábica de Cães e Gatos em Poços. Animais a partir dos três meses de vida devem ser vacinados. Para este ano, a meta é vacinar 24.789 animais, sendo 20.100 cães e 4.689 gatos. A Campanha é realizada pela Secretaria Municipal de Saúde, através das Vigilância Ambiental, Epidemiológica, Atenção Básica e conta com o apoio da Secretaria de Educação, Secretaria de Serviços Públicos, Demutran, Guarda Municipal, Auto Omnibus Floramar e Paróquia São Judas Tadeu. VACINAÇÃO ZONA RURAL A Campanha pela zona rural, começará no dia 07/08, de segunda a sexta-feira, das 08h às 17h, com as equipes da Vigilância Ambiental, setor da Secretaria Municipal de Saúde, percorrendo chácaras, sítios e fazendas. As equipes trabalham uniformizadas, com crachá e vão em carros identificados também. A Secretaria de Saúde destaca que a população deve ficar atenta aos dias que as equipes farão as visitas. VACINAÇÃO ZONA URBANA A Campanha na zona urbana será realizada com pontos itinerantes em todas as regiões da cidade, começando 19/08 e seguindo até 02/09. Confira a programação: REGIÃO LESTE (19/08) – Sábado Escola Dona Vicentina Massa -Av. João Romeu Tramonte, 82 – Chácara Poços de Caldas – 8h às 11h30 / 13h às 16h30 PSF – Parque Pinheiros– Rua Victor Emanoel Imesi, s/ nº – Parque Pinheiros – 8h às 11h30 / 13h às 16h30 UBS – Jardim Itamaraty– Av.: Maria Rita Lopes Pontes (Irmã Dulce), 360 – Itamaraty III – 8h às 11h30 / 13h às 16h30 E.M. José Raphael dos Santos Netto- Rua Eugênio Bernardes Ferreira – Jardim Philadélphia – 8h às 11h30 / 13h às 16h30 UBS Regional leste- Rua Cecília Fishela, s/nº – Chácara Alvorada- 8h às 11h30 / 13h às 16h30 PSF Dom Bosco -Rua Francisco Cantos Davo, s/nº – Jardim Formosa – 8h às 11h30 / 13h às 16h30 PSF Santo André II -Rua Vereador Eduardo de Paiva , 41 –Vila Menezes –8h às 11h30 / 13h às 16h30 Rua Rouxinol /Rua Canário- Morada dos Pássaros – 08h às 11h30 Praça ao lado da Quadra de Esportes – Campos Elíseos – 13h às 16h30 Rua Água Esplaiada / Campo do Meio, S/N – Cachoeirinha (ao lado da Associação Margarida Goulart) Rua Caminho Seis, 6 – Cachoeirinha (Ao lado da empresa Work Team Eletromecância) REGIÃO LESTE (20/08) – Domingo PSF Nova Aurora -Rua Benedita Lucas da Silva, 60 – Jardim Ipê – 8h às 11h30 / 13h às 16h30 PSF Santo André 1 – Avenida Sete de Setembro, 65 – Nova Aparecida – 8h às 11h30 / 13h às 16h30 PSF Jardim São Paulo -Rua Jaguari,15 – Jardim São Paulo – 8h às 11h30 / 13h às 16h30 PSF Santa Rosália- Rua Dr. Antenor Damini, 233 – Santa Rosália – 8h às 11h30 / 13h às 16h30 PSF Vila Nova- Praça em frente ao Parquinho –Vila Nova – 8h às 11h30 / 13h às 16h30 PSF Caio Junqueira – Rua Mangueira, 262 – Caio Junqueira – 8h às 11h30 / 13h às 16h30 Pátio da Paróquia São Judas Tadeu – A.: Justino Ribeiro, 13 – Jardim dos Estados – 8h às 11h30 CEI Municipal Manoel Alfaya – Rua Joaquim de Parolis, 250 – Parque Primavera – 13h às 16h30 Praça bairro Dom Bosco – Rua Dom Bosco, S/N, (Próximo ao Lar dos Velhinhos de São Vicente de Paula) – 8h às 11h30 PSF das Flores – Rua Nilton José Faccion, 332 – Jardim das Hortências – 13h às 16h30 REGIÃO SUL (26/08) – Sábado CEI Parque das Nações- Av.: Portugal, 970 –Parque das Nações – 8h às 11h30 / 13h às 16h30 UBS Regional Sul- rua Antônio Marinoni, 125 – Bairro São Sebastião – 8h às 11h30 / 13h às 16h30 CEI Santa Terezinha – AV. Yolanda Junqueira de Melo,800 – Conjunto Habitacional – 8h às 11h30 / 13h às 16h30 PSF Kennedy II- Rua Estanho, 151 – Jardim Kennedy II – 8h às 11h30 / 13h às 16h30 UBS Kennedy I- Rua Pirita, 116– Jardim Kennedy I – 8h às 11h30 / 13h às 16h30 PSF Esperança- Rua Lázaro de Lima, 280 –Parque Esperança II- 8h às 11h30 / 13h às 16h30 Praça (pista de skate) localizada ao lado da agência da Caixa Econômica Federal – Cohab – 8h às 11h30 / 13h às 16h30 PSF São Bento – Rua Benedicto Lopes Buono, 375 – Jardim São Bento – 8h às 11h30 Av. CEI Conceição Aparecida Miguel – Rua João Cioffi, 60 – Vila Matilde – 8h às 11h30 Rua Leonel Justiniano de Bem / Rua Ana Ferreira Berno – Jardim Contorno – 13h às 16h30 REGIÃO OESTE (27/08) – Domingo E.M. Sérgio de Freitas Pacheco- Praça Tupy, s/nº -Vila Togni – 8h às 11h30 / 13h às 16h30 PSF Country Club- Rua José Mendonça, 131 – Jardim Country Club – 8h às 11h30 / 13h às 16h30 E.M. João Pinheiro- Rua José Bernardo, 280 –Jardim Country Club – 8h às 11h30 / 13h às 16h30 PSF Maria Imaculada- Av.: Mãe dos Homens, 782 –Maria Imaculada – 8h às 11h30 / 13h às 16h30 UBS Vilas Unidas (prédio novo) – Av. Antônio Togni 1957 – Vila Cruz –\\xa0 8h às 11h30 / 13h às 16h30 PSF Marco Divisório -Rua Vicente Miranda, 229 – Marco Divisório – 8h às 11h30 PSF Bortolan- Rua Salvador Flores / Caminho 4 -Bortolan – 13h às 16h30 PSF Vale das Antas- Fazenda Osório, 5 –Vale das Antas – 8h às 11h30 Rua Paulo Oliveira – Véu das Noivas (Em frente ao Jardim Botânico) – 13h às 16h30 Colégio Municipal Dr. José Vargas de Souza- Av.: Champagnat, 668 –Jardim Ginásio – 8h às 11h30 Rua 25 de Dezembro / Rua 20 de Janeiro – Jardim América – 13h às 16h30 Avenida João Ferrari / Rua Henrique Benedetti – Véu das Noivas 13h às 16h30 Pracinha da Vila Cruz – Rua Nico Duarte, S/N – Vila Cruz – 08h às 11h30 E.M. Tarso de Coimbra – Rua Mário Xandó de Oliveira, 2 – São Geraldo – 13h às 16h30 REGIÃO CENTRO (02/09) – SÁBADO Avenida Santo Antônio (Praçinha atrás do Ginásio Moleque César)– Jardim Cascatinha –8h às 11h30 / 13h às 16h30 PSF Quisisana- Rua Geni Vilas Boas Tardeli, 50 –Bairro São José – 8h às 11h30 / 13h às 16h30 PSF São José- Rua Profª Lourdes Mourão, s/nº -Jardim Centenário – 8h às 11h30 / 13h às 16h30 PSF Santa Ângela- Rua Manuel Luís Zuanella, 30 – Santa Ângela – – 8h às 11h30 / 13h às 16h30 Secretaria Municipal de Saúde – Rua Pará, 284 -Centro (entrada pela rua Rio Grande do Sul) –\\xa0 8h às 11h30 / 13h às 16h30 UBS Santa Augusta– Rua Professora Nicolina Bernardo, S/N – Santa Augusta – 8h às 11h30 / 13h às 16h30 E.M. Alvino Hosken de Oliveira- Rua Humberto de Campos, 146 -Cascatinha – 8h às 11h30 / 13h às 16h30 Praça das Américas – Jardim Quisisana (Rodelão) – 8h às 11h30 Rua Ítalo Zingoni / Rua Benedito Froes de Carvalho – Vitória I – 13h às 16h30 \\xa0 DRIVE THRU A modalidade vacinação em drive thru seguirá neste ano. A secretaria de Saúde faz a recomendações importantes para a vacinação nesta modalidade: transportar os animais observando as normas de segurança estabelecidas; levar outra pessoa para auxiliar no transporte e manejo dos animais na hora da vacinação; no caso de animais mais agressivos, colocar a focinheira para evitar acidentes. Além disso, nos drives, serão vacinados exclusivamente animais que estejam sendo transportados em veículos, como forma de organizar a ação. Sexta-feira (18/08) – 08 às 12h Mini Terminal de Linhas Urbanas da Zona Leste (Próximo ao Bretas da Zona Leste) Sexta-feira (25/08) – 08h às 12h Estacionamento do Estádio Ronaldão – Zona Oeste Sábado (26/08) – 08h às11h30 Espaço de Eventos Tatersal – Zona Sul Sexta-feira (01/09) – 08h às 12h Parque José Afonso Junqueira (Atrás do Palace Hotel – Centro) MAIS INFORMAÇÕES Para mais informações ligue:\\xa0 3697-5987/ 3697-5977. \\xa0']],\n",
       " 'uris': None,\n",
       " 'data': None}"
      ]
     },
     "execution_count": 46,
     "metadata": {},
     "output_type": "execute_result"
    }
   ],
   "source": [
    "predict(\n",
    "    collection,\n",
    "    \"Assalto\",\n",
    "    n_results=10,\n",
    "    n_neighbors=1000,\n",
    "    # where={\"categories\": \"Policial\"},\n",
    "    where_document={\"$contains\":\"Jardim Formosa\"},\n",
    ")"
   ]
  },
  {
   "cell_type": "code",
   "execution_count": null,
   "id": "967d0447-8897-41dc-ac82-b45896bf60ae",
   "metadata": {},
   "outputs": [],
   "source": []
  },
  {
   "cell_type": "code",
   "execution_count": null,
   "id": "ce5b5395-152a-4883-a5a1-c273523a3dce",
   "metadata": {},
   "outputs": [],
   "source": []
  },
  {
   "cell_type": "code",
   "execution_count": null,
   "id": "0754a986-8a62-414c-b1f1-04c8d6868b95",
   "metadata": {},
   "outputs": [],
   "source": []
  },
  {
   "cell_type": "code",
   "execution_count": null,
   "id": "bbc22dc7-762e-4687-8a70-5d9e3c661eda",
   "metadata": {},
   "outputs": [],
   "source": []
  },
  {
   "cell_type": "code",
   "execution_count": null,
   "id": "448a4513-62da-4bbb-a344-68356373e828",
   "metadata": {},
   "outputs": [],
   "source": []
  },
  {
   "cell_type": "code",
   "execution_count": null,
   "id": "7cbd6dea-ddc5-403e-a990-61a95961432e",
   "metadata": {},
   "outputs": [],
   "source": []
  },
  {
   "cell_type": "code",
   "execution_count": null,
   "id": "bc3f576f-d16b-443c-9822-3529ceeab21e",
   "metadata": {},
   "outputs": [],
   "source": []
  },
  {
   "cell_type": "code",
   "execution_count": null,
   "id": "edd823a6-71d9-40e4-bb26-8e34b308c54b",
   "metadata": {},
   "outputs": [],
   "source": []
  },
  {
   "cell_type": "code",
   "execution_count": null,
   "id": "2225d0dd-c49b-4101-8d12-79d1748a45f4",
   "metadata": {},
   "outputs": [],
   "source": []
  },
  {
   "cell_type": "code",
   "execution_count": null,
   "id": "5f964c4e-4986-411a-bef2-c1dc6d08aea7",
   "metadata": {},
   "outputs": [],
   "source": []
  },
  {
   "cell_type": "code",
   "execution_count": null,
   "id": "ce3bcf33-61d6-474b-b623-1269748431c6",
   "metadata": {},
   "outputs": [],
   "source": []
  },
  {
   "cell_type": "markdown",
   "id": "08dcd459-848b-4af0-ba78-5dd2529477c4",
   "metadata": {},
   "source": [
    "# "
   ]
  }
 ],
 "metadata": {
  "kernelspec": {
   "display_name": "Python 3 (ipykernel)",
   "language": "python",
   "name": "python3"
  },
  "language_info": {
   "codemirror_mode": {
    "name": "ipython",
    "version": 3
   },
   "file_extension": ".py",
   "mimetype": "text/x-python",
   "name": "python",
   "nbconvert_exporter": "python",
   "pygments_lexer": "ipython3",
   "version": "3.11.6"
  }
 },
 "nbformat": 4,
 "nbformat_minor": 5
}
