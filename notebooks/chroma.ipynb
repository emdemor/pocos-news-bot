{
 "cells": [
  {
   "cell_type": "markdown",
   "id": "7f8731b4-9dbe-4aaf-a554-d097d4f339dc",
   "metadata": {},
   "source": [
    "# Titles"
   ]
  },
  {
   "cell_type": "code",
   "execution_count": 3,
   "id": "8f9c2e8a-2923-4b84-8a43-63ddc00155ce",
   "metadata": {},
   "outputs": [],
   "source": [
    "import os\n",
    "\n",
    "import chromadb\n",
    "from chromadb.config import Settings\n",
    "\n",
    "chroma_client = chromadb.HttpClient(host=\"chroma-server\", port = 8000, settings=Settings(allow_reset=True, anonymized_telemetry=False))\n"
   ]
  },
  {
   "cell_type": "code",
   "execution_count": 4,
   "id": "5bae1224-7e36-457b-b5a7-629bdf814873",
   "metadata": {},
   "outputs": [
    {
     "name": "stdout",
     "output_type": "stream",
     "text": [
      "The Hubble Space Telescope has provided us with breathtaking images of distant galaxies and nebulae.\n",
      "Mars, often called the 'Red Planet', has captured the imagination of scientists and space enthusiasts alike.\n",
      "The concept of a black hole, where gravity is so strong that nothing can escape it, was first theorized by Albert Einstein's theory of general relativity.\n"
     ]
    }
   ],
   "source": [
    "documents = [\n",
    "    \"Mars, often called the 'Red Planet', has captured the imagination of scientists and space enthusiasts alike.\",\n",
    "    \"The Hubble Space Telescope has provided us with breathtaking images of distant galaxies and nebulae.\",\n",
    "    \"The concept of a black hole, where gravity is so strong that nothing can escape it, was first theorized by Albert Einstein's theory of general relativity.\",\n",
    "    \"The Renaissance was a pivotal period in history that saw a flourishing of art, science, and culture in Europe.\",\n",
    "    \"The Industrial Revolution marked a significant shift in human society, leading to urbanization and technological advancements.\",\n",
    "    \"The ancient city of Rome was once the center of a powerful empire that spanned across three continents.\",\n",
    "    \"Dolphins are known for their high intelligence and social behavior, often displaying playful interactions with humans.\",\n",
    "    \"The chameleon is a remarkable creature that can change its skin color to blend into its surroundings or communicate with other chameleons.\",\n",
    "    \"The migration of monarch butterflies spans thousands of miles and involves multiple generations to complete.\",\n",
    "    \"Christopher Nolan's 'Inception' is a mind-bending movie that explores the boundaries of reality and dreams.\",\n",
    "    \"The 'Lord of the Rings' trilogy, directed by Peter Jackson, brought J.R.R. Tolkien's epic fantasy world to life on the big screen.\",\n",
    "    \"Pixar's 'Toy Story' was the first feature-length film entirely animated using computer-generated imagery (CGI).\",\n",
    "    \"Superman, known for his incredible strength and ability to fly, is one of the most iconic superheroes in comic book history.\",\n",
    "    \"Black Widow, portrayed by Scarlett Johansson, is a skilled spy and assassin in the Marvel Cinematic Universe.\",\n",
    "    \"The character of Iron Man, played by Robert Downey Jr., kickstarted the immensely successful Marvel movie franchise in 2008.\"\n",
    "]\n",
    "metadatas = [{'source': \"Space\"}, {'source': \"Space\"}, {'source': \"Space\"}, {'source': \"History\"}, {'source': \"History\"}, {'source': \"History\"}, {'source': \"Animals\"}, {'source': \"Animals\"}, {'source': \"Animals\"}, {'source': \"Movies\"}, {'source': \"Movies\"}, {'source': \"Movies\"}, {'source': \"Superheroes\"}, {'source': \"Superheroes\"}, {'source': \"Superheroes\"}]\n",
    "ids = [\"1\", \"2\", \"3\", \"4\", \"5\", \"6\", \"7\", \"8\", \"9\", \"10\", \"11\", \"12\", \"13\", \"14\", \"15\"]\n",
    "\n",
    "collection_status = False\n",
    "while collection_status != True:\n",
    "    try:\n",
    "        document_collection = chroma_client.get_or_create_collection(name=\"sample_collection\")\n",
    "        collection_status = True\n",
    "    except Exception as e:\n",
    "        pass\n",
    "\n",
    "document_collection.add(documents=documents, metadatas=metadatas, ids=ids)\n",
    "\n",
    "results = document_collection.query(query_texts=\"Give me some facts about space\", n_results=3)\n",
    "result_documents = results[\"documents\"][0]\n",
    "for doc in result_documents:\n",
    "    print(doc)"
   ]
  },
  {
   "cell_type": "code",
   "execution_count": 1,
   "id": "2b0945c2-e220-46ff-a190-1b180c424748",
   "metadata": {},
   "outputs": [
    {
     "data": {
      "text/plain": [
       "[]"
      ]
     },
     "execution_count": 1,
     "metadata": {},
     "output_type": "execute_result"
    }
   ],
   "source": [
    "import os\n",
    "import chromadb\n",
    "from chromadb.config import Settings\n",
    "\n",
    "chroma_client = chromadb.HttpClient(host=\"chroma-server\", port = 8000, settings=Settings(allow_reset=True, anonymized_telemetry=False))\n",
    "\n",
    "chroma_client.list_collections()"
   ]
  },
  {
   "cell_type": "code",
   "execution_count": 2,
   "id": "c4b2ffb1-39fc-469a-8077-e60dc5d6a0ec",
   "metadata": {},
   "outputs": [
    {
     "name": "stderr",
     "output_type": "stream",
     "text": [
      "/home/jovyan/.cache/chroma/onnx_models/all-MiniLM-L6-v2/onnx.tar.gz: 100%|██████████| 79.3M/79.3M [00:20<00:00, 4.04MiB/s]\n"
     ]
    },
    {
     "name": "stdout",
     "output_type": "stream",
     "text": [
      "The Hubble Space Telescope has provided us with breathtaking images of distant galaxies and nebulae.\n",
      "Mars, often called the 'Red Planet', has captured the imagination of scientists and space enthusiasts alike.\n",
      "The concept of a black hole, where gravity is so strong that nothing can escape it, was first theorized by Albert Einstein's theory of general relativity.\n"
     ]
    }
   ],
   "source": [
    "document_collection = chroma_client.get_or_create_collection(name=\"sample_collection\")\n",
    "\n",
    "results = document_collection.query(query_texts=\"Give me some facts about space\", n_results=3)\n",
    "result_documents = results[\"documents\"][0]\n",
    "for doc in result_documents:\n",
    "    print(doc)"
   ]
  },
  {
   "cell_type": "code",
   "execution_count": 1,
   "id": "10767de4-66a3-4260-b891-83735aabbedd",
   "metadata": {},
   "outputs": [],
   "source": [
    "!rm -rf chroma_db"
   ]
  },
  {
   "cell_type": "code",
   "execution_count": null,
   "id": "476e4d04-8bec-4819-82cf-5183bf7c548e",
   "metadata": {},
   "outputs": [],
   "source": []
  },
  {
   "cell_type": "code",
   "execution_count": null,
   "id": "b24bdf6c-00e4-4334-9ecb-d12750d065e1",
   "metadata": {},
   "outputs": [],
   "source": []
  }
 ],
 "metadata": {
  "kernelspec": {
   "display_name": "Python 3 (ipykernel)",
   "language": "python",
   "name": "python3"
  },
  "language_info": {
   "codemirror_mode": {
    "name": "ipython",
    "version": 3
   },
   "file_extension": ".py",
   "mimetype": "text/x-python",
   "name": "python",
   "nbconvert_exporter": "python",
   "pygments_lexer": "ipython3",
   "version": "3.11.6"
  }
 },
 "nbformat": 4,
 "nbformat_minor": 5
}
