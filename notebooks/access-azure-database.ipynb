{
 "cells": [
  {
   "cell_type": "code",
   "execution_count": 3,
   "id": "de3dd36c-4d90-403f-9cc3-b4e6e4b35555",
   "metadata": {},
   "outputs": [
    {
     "name": "stdout",
     "output_type": "stream",
     "text": [
      "Collecting pydantic-settings\n",
      "  Downloading pydantic_settings-2.1.0-py3-none-any.whl.metadata (2.9 kB)\n",
      "Requirement already satisfied: pydantic>=2.3.0 in /opt/conda/lib/python3.11/site-packages (from pydantic-settings) (2.5.2)\n",
      "Requirement already satisfied: python-dotenv>=0.21.0 in /opt/conda/lib/python3.11/site-packages (from pydantic-settings) (1.0.0)\n",
      "Requirement already satisfied: annotated-types>=0.4.0 in /opt/conda/lib/python3.11/site-packages (from pydantic>=2.3.0->pydantic-settings) (0.6.0)\n",
      "Requirement already satisfied: pydantic-core==2.14.5 in /opt/conda/lib/python3.11/site-packages (from pydantic>=2.3.0->pydantic-settings) (2.14.5)\n",
      "Requirement already satisfied: typing-extensions>=4.6.1 in /opt/conda/lib/python3.11/site-packages (from pydantic>=2.3.0->pydantic-settings) (4.8.0)\n",
      "Downloading pydantic_settings-2.1.0-py3-none-any.whl (11 kB)\n",
      "Installing collected packages: pydantic-settings\n",
      "Successfully installed pydantic-settings-2.1.0\n"
     ]
    }
   ],
   "source": [
    "!pip install pydantic-settings"
   ]
  },
  {
   "cell_type": "code",
   "execution_count": 2,
   "id": "f2e3f64e-2531-464b-9de7-7a4aee8abd0f",
   "metadata": {},
   "outputs": [],
   "source": [
    "# from sentence_transformers import SentenceTransformer;\n",
    "\n",
    "\n",
    "# SentenceTransformer('unicamp-dl/ptt5-base-portuguese-vocab');\n",
    "# SentenceTransformer('facebook/m2m100_418M');\n",
    "# SentenceTransformer('facebook/mbart-large-50');\n",
    "# SentenceTransformer('pierreguillou/t5-base-qa-squad-v1.1-portuguese');"
   ]
  },
  {
   "cell_type": "code",
   "execution_count": 1,
   "id": "4fe6c3ea-7277-4b19-a514-a77481b15c78",
   "metadata": {},
   "outputs": [],
   "source": [
    "import os\n",
    "import traceback\n",
    "import pyodbc\n",
    "\n",
    "from loguru import logger"
   ]
  },
  {
   "cell_type": "code",
   "execution_count": 6,
   "id": "852e895d-fb1b-4636-b280-6d87f5e073b4",
   "metadata": {},
   "outputs": [],
   "source": [
    "timeout = 60\n",
    "\n",
    "table_name = f'{os.environ[\"RAW_DATA_SCHEMA\"]}.{os.environ[\"RAW_DATA_TABLE\"]}'\n",
    "\n",
    "connection_string = 'DRIVER={driver};SERVER={server};DATABASE={database};UID={username};PWD={password}'.format(\n",
    "    server = os.environ[\"AZURE_SQL_SERVER\"],\n",
    "    database = os.environ[\"AZURE_SQL_DATABASE\"],\n",
    "    driver = os.environ[\"AZURE_SQL_DRIVER\"],\n",
    "    username = os.environ[\"AZURE_SQL_USERNAME\"],\n",
    "    password = os.environ[\"AZURE_SQL_PASSWORD\"],\n",
    ")\n",
    "\n",
    "\n",
    "try:\n",
    "    conn = pyodbc.connect(connection_string, timeout=timeout)\n",
    "except Exception as err:\n",
    "    traceback_str = traceback.format_exc()\n",
    "    logger.error(traceback_str)\n",
    "    logger.info(f\"Exception: {err}\")\n",
    "    logger.info(f\"Exception type: {type(err)}\")"
   ]
  },
  {
   "cell_type": "code",
   "execution_count": 7,
   "id": "18baaf12-6383-42c1-824b-d853e7cf0a28",
   "metadata": {},
   "outputs": [
    {
     "name": "stderr",
     "output_type": "stream",
     "text": [
      "/tmp/ipykernel_107/1047778581.py:7: UserWarning: pandas only supports SQLAlchemy connectable (engine/connection) or database string URI or sqlite3 DBAPI2 connection. Other DBAPI2 objects are not tested. Please consider using SQLAlchemy.\n",
      "  df = pd.read_sql(sql_query, conn)\n"
     ]
    },
    {
     "data": {
      "text/html": [
       "<div>\n",
       "<style scoped>\n",
       "    .dataframe tbody tr th:only-of-type {\n",
       "        vertical-align: middle;\n",
       "    }\n",
       "\n",
       "    .dataframe tbody tr th {\n",
       "        vertical-align: top;\n",
       "    }\n",
       "\n",
       "    .dataframe thead th {\n",
       "        text-align: right;\n",
       "    }\n",
       "</style>\n",
       "<table border=\"1\" class=\"dataframe\">\n",
       "  <thead>\n",
       "    <tr style=\"text-align: right;\">\n",
       "      <th></th>\n",
       "      <th>id</th>\n",
       "      <th>title</th>\n",
       "      <th>author</th>\n",
       "      <th>date</th>\n",
       "      <th>snippet</th>\n",
       "      <th>link</th>\n",
       "      <th>content</th>\n",
       "      <th>thumbnail_link</th>\n",
       "      <th>thumbnail_alt</th>\n",
       "      <th>categories</th>\n",
       "    </tr>\n",
       "  </thead>\n",
       "  <tbody>\n",
       "    <tr>\n",
       "      <th>0</th>\n",
       "      <td>000b577c-3fc6-5889-b0c4-96f88ca370e0</td>\n",
       "      <td>OLIMPÍADAS | Brasil fica em melhor posição da ...</td>\n",
       "      <td>ondapocos</td>\n",
       "      <td>2021-08-08</td>\n",
       "      <td>O Brasil fez história nos Jogos Olímpicos de T...</td>\n",
       "      <td>https://ondapocos.com.br/olimpiadas-brasil-fic...</td>\n",
       "      <td>O Brasil fez história nos Jogos Olímpicos de T...</td>\n",
       "      <td>https://i2.wp.com/ondapocos.com.br/wp-content/...</td>\n",
       "      <td>OLIMPÍADAS | Brasil fica em melhor posição da ...</td>\n",
       "      <td>Destaques|Esporte|Notícias</td>\n",
       "    </tr>\n",
       "    <tr>\n",
       "      <th>1</th>\n",
       "      <td>001d0341-89df-5a74-a225-4f2c7b6bcb8e</td>\n",
       "      <td>Sistema para incentivar participação de mulher...</td>\n",
       "      <td>Aline Rodrigues</td>\n",
       "      <td>2022-09-21</td>\n",
       "      <td>Foi aprovada em Poços de Caldas, a Lei nº 9.63...</td>\n",
       "      <td>https://ondapocos.com.br/sistema-para-incentiv...</td>\n",
       "      <td>Foi aprovada em Poços de Caldas, a Lei nº 9.63...</td>\n",
       "      <td>https://i1.wp.com/ondapocos.com.br/wp-content/...</td>\n",
       "      <td>Sistema para incentivar participação de mulher...</td>\n",
       "      <td>Destaques|Geral|Notícias</td>\n",
       "    </tr>\n",
       "    <tr>\n",
       "      <th>2</th>\n",
       "      <td>001d0360-d034-5959-9db5-84a3da76cd8a</td>\n",
       "      <td>VARGEM GRANDE DO SUL | Estelionatário é preso ...</td>\n",
       "      <td>ondapocos</td>\n",
       "      <td>2021-06-02</td>\n",
       "      <td>Após uma minuciosa investigação, a Polícia Civ...</td>\n",
       "      <td>https://ondapocos.com.br/vargem-grande-do-sul-...</td>\n",
       "      <td>Após uma minuciosa investigação, a Polícia Civ...</td>\n",
       "      <td>https://i0.wp.com/ondapocos.com.br/wp-content/...</td>\n",
       "      <td></td>\n",
       "      <td>Notícias|Policial</td>\n",
       "    </tr>\n",
       "    <tr>\n",
       "      <th>3</th>\n",
       "      <td>001e56d1-77b5-5b8f-ab05-7858abb40730</td>\n",
       "      <td>Em aglomeração no Cristo, jovem é preso por de...</td>\n",
       "      <td>ondapocos</td>\n",
       "      <td>2021-04-12</td>\n",
       "      <td>Durante a fiscalização realizada pela Prefeitu...</td>\n",
       "      <td>https://ondapocos.com.br/em-aglomeracao-no-cri...</td>\n",
       "      <td>Durante a fiscalização realizada pela Prefeitu...</td>\n",
       "      <td>https://i1.wp.com/ondapocos.com.br/wp-content/...</td>\n",
       "      <td>Em aglomeração no Cristo, jovem é preso por de...</td>\n",
       "      <td>Notícias|Policial</td>\n",
       "    </tr>\n",
       "    <tr>\n",
       "      <th>4</th>\n",
       "      <td>00271e31-76c3-575a-86a2-f89b59f5f805</td>\n",
       "      <td>Vídeo: forte chuva de granizo deixa parte de f...</td>\n",
       "      <td>Matheus Luis</td>\n",
       "      <td>2022-11-26</td>\n",
       "      <td>Uma forte chuva de granizo atingiu uma fazenda...</td>\n",
       "      <td>https://ondapocos.com.br/video-forte-chuva-de-...</td>\n",
       "      <td>Uma forte chuva de granizo atingiu uma fazenda...</td>\n",
       "      <td>https://i0.wp.com/ondapocos.com.br/wp-content/...</td>\n",
       "      <td>Vídeo: forte chuva de granizo deixa parte de f...</td>\n",
       "      <td>Destaques|Notícias</td>\n",
       "    </tr>\n",
       "    <tr>\n",
       "      <th>...</th>\n",
       "      <td>...</td>\n",
       "      <td>...</td>\n",
       "      <td>...</td>\n",
       "      <td>...</td>\n",
       "      <td>...</td>\n",
       "      <td>...</td>\n",
       "      <td>...</td>\n",
       "      <td>...</td>\n",
       "      <td>...</td>\n",
       "      <td>...</td>\n",
       "    </tr>\n",
       "    <tr>\n",
       "      <th>12537</th>\n",
       "      <td>ffee6b0d-235d-503b-8484-0b5121db29e4</td>\n",
       "      <td>Mulher de 43 anos é presa por maus tratos aos ...</td>\n",
       "      <td>andrevince</td>\n",
       "      <td>2022-02-05</td>\n",
       "      <td>Uma mulher foi presa na sexta-feira, 04 de fev...</td>\n",
       "      <td>https://ondapocos.com.br/mulher-de-43-anos-e-p...</td>\n",
       "      <td>Uma mulher foi presa na sexta-feira, 04 de fev...</td>\n",
       "      <td>https://i2.wp.com/ondapocos.com.br/wp-content/...</td>\n",
       "      <td>Mulher de 43 anos é presa por maus tratos aos ...</td>\n",
       "      <td>Destaques|Policial</td>\n",
       "    </tr>\n",
       "    <tr>\n",
       "      <th>12538</th>\n",
       "      <td>ffeecff3-cca6-5f7b-90da-524deb811dcb</td>\n",
       "      <td>AGUAÍ | Homem é acusado de tentar estuprar cri...</td>\n",
       "      <td>ondapocos</td>\n",
       "      <td>2021-05-05</td>\n",
       "      <td>A mãe de uma garotinha de 6 anos de idade proc...</td>\n",
       "      <td>https://ondapocos.com.br/aguai-homem-e-acusado...</td>\n",
       "      <td>A mãe de uma garotinha de 6 anos de idade proc...</td>\n",
       "      <td>https://i0.wp.com/ondapocos.com.br/wp-content/...</td>\n",
       "      <td>Motociclista morre em acidente na rodovia Cont...</td>\n",
       "      <td>Geral|Notícias</td>\n",
       "    </tr>\n",
       "    <tr>\n",
       "      <th>12539</th>\n",
       "      <td>fff17d63-c914-580b-b508-a9f18a6d3743</td>\n",
       "      <td>Aterro sanitário de Poços de Caldas será desat...</td>\n",
       "      <td>ondapocos</td>\n",
       "      <td>2021-02-10</td>\n",
       "      <td>O aterro sanitário de Poços de Caldas será des...</td>\n",
       "      <td>https://ondapocos.com.br/aterro-sanitario-de-p...</td>\n",
       "      <td>O aterro sanitário de Poços de Caldas será des...</td>\n",
       "      <td>https://i2.wp.com/ondapocos.com.br/wp-content/...</td>\n",
       "      <td>Aterro sanitário de Poços de Caldas será desat...</td>\n",
       "      <td>Geral|Notícias</td>\n",
       "    </tr>\n",
       "    <tr>\n",
       "      <th>12540</th>\n",
       "      <td>fffc38d6-a126-57f3-9d04-ccf779bb8820</td>\n",
       "      <td>GUAXUPÉ | Brasília pega fogo e assusta moradores</td>\n",
       "      <td>ondapocos</td>\n",
       "      <td>2021-05-14</td>\n",
       "      <td>De acordo com o corpo de bombeiros uma Brasíli...</td>\n",
       "      <td>https://ondapocos.com.br/guaxupe-brasilia-pega...</td>\n",
       "      <td>De acordo com o corpo de bombeiros uma Brasíli...</td>\n",
       "      <td>https://i1.wp.com/ondapocos.com.br/wp-content/...</td>\n",
       "      <td>GUAXUPÉ | Brasília pega fogo e assusta moradores</td>\n",
       "      <td>Notícias|Policial</td>\n",
       "    </tr>\n",
       "    <tr>\n",
       "      <th>12541</th>\n",
       "      <td>fffcf7d8-1f79-528c-bbe5-4c7a06baa47a</td>\n",
       "      <td>Andradas investiga três casos suspeitos de var...</td>\n",
       "      <td>Aline Rodrigues</td>\n",
       "      <td>2022-08-04</td>\n",
       "      <td>A Prefeitura de Andradas informou nesta quarta...</td>\n",
       "      <td>https://ondapocos.com.br/andradas-investiga-tr...</td>\n",
       "      <td>A Prefeitura de Andradas informou nesta quarta...</td>\n",
       "      <td>https://i0.wp.com/ondapocos.com.br/wp-content/...</td>\n",
       "      <td>Minas Gerais confirma 1º caso de varíola dos m...</td>\n",
       "      <td>Destaques|Geral|Notícias</td>\n",
       "    </tr>\n",
       "  </tbody>\n",
       "</table>\n",
       "<p>12542 rows × 10 columns</p>\n",
       "</div>"
      ],
      "text/plain": [
       "                                         id  \\\n",
       "0      000b577c-3fc6-5889-b0c4-96f88ca370e0   \n",
       "1      001d0341-89df-5a74-a225-4f2c7b6bcb8e   \n",
       "2      001d0360-d034-5959-9db5-84a3da76cd8a   \n",
       "3      001e56d1-77b5-5b8f-ab05-7858abb40730   \n",
       "4      00271e31-76c3-575a-86a2-f89b59f5f805   \n",
       "...                                     ...   \n",
       "12537  ffee6b0d-235d-503b-8484-0b5121db29e4   \n",
       "12538  ffeecff3-cca6-5f7b-90da-524deb811dcb   \n",
       "12539  fff17d63-c914-580b-b508-a9f18a6d3743   \n",
       "12540  fffc38d6-a126-57f3-9d04-ccf779bb8820   \n",
       "12541  fffcf7d8-1f79-528c-bbe5-4c7a06baa47a   \n",
       "\n",
       "                                                   title           author  \\\n",
       "0      OLIMPÍADAS | Brasil fica em melhor posição da ...        ondapocos   \n",
       "1      Sistema para incentivar participação de mulher...  Aline Rodrigues   \n",
       "2      VARGEM GRANDE DO SUL | Estelionatário é preso ...        ondapocos   \n",
       "3      Em aglomeração no Cristo, jovem é preso por de...        ondapocos   \n",
       "4      Vídeo: forte chuva de granizo deixa parte de f...     Matheus Luis   \n",
       "...                                                  ...              ...   \n",
       "12537  Mulher de 43 anos é presa por maus tratos aos ...       andrevince   \n",
       "12538  AGUAÍ | Homem é acusado de tentar estuprar cri...        ondapocos   \n",
       "12539  Aterro sanitário de Poços de Caldas será desat...        ondapocos   \n",
       "12540   GUAXUPÉ | Brasília pega fogo e assusta moradores        ondapocos   \n",
       "12541  Andradas investiga três casos suspeitos de var...  Aline Rodrigues   \n",
       "\n",
       "            date                                            snippet  \\\n",
       "0     2021-08-08  O Brasil fez história nos Jogos Olímpicos de T...   \n",
       "1     2022-09-21  Foi aprovada em Poços de Caldas, a Lei nº 9.63...   \n",
       "2     2021-06-02  Após uma minuciosa investigação, a Polícia Civ...   \n",
       "3     2021-04-12  Durante a fiscalização realizada pela Prefeitu...   \n",
       "4     2022-11-26  Uma forte chuva de granizo atingiu uma fazenda...   \n",
       "...          ...                                                ...   \n",
       "12537 2022-02-05  Uma mulher foi presa na sexta-feira, 04 de fev...   \n",
       "12538 2021-05-05  A mãe de uma garotinha de 6 anos de idade proc...   \n",
       "12539 2021-02-10  O aterro sanitário de Poços de Caldas será des...   \n",
       "12540 2021-05-14  De acordo com o corpo de bombeiros uma Brasíli...   \n",
       "12541 2022-08-04  A Prefeitura de Andradas informou nesta quarta...   \n",
       "\n",
       "                                                    link  \\\n",
       "0      https://ondapocos.com.br/olimpiadas-brasil-fic...   \n",
       "1      https://ondapocos.com.br/sistema-para-incentiv...   \n",
       "2      https://ondapocos.com.br/vargem-grande-do-sul-...   \n",
       "3      https://ondapocos.com.br/em-aglomeracao-no-cri...   \n",
       "4      https://ondapocos.com.br/video-forte-chuva-de-...   \n",
       "...                                                  ...   \n",
       "12537  https://ondapocos.com.br/mulher-de-43-anos-e-p...   \n",
       "12538  https://ondapocos.com.br/aguai-homem-e-acusado...   \n",
       "12539  https://ondapocos.com.br/aterro-sanitario-de-p...   \n",
       "12540  https://ondapocos.com.br/guaxupe-brasilia-pega...   \n",
       "12541  https://ondapocos.com.br/andradas-investiga-tr...   \n",
       "\n",
       "                                                 content  \\\n",
       "0      O Brasil fez história nos Jogos Olímpicos de T...   \n",
       "1      Foi aprovada em Poços de Caldas, a Lei nº 9.63...   \n",
       "2      Após uma minuciosa investigação, a Polícia Civ...   \n",
       "3      Durante a fiscalização realizada pela Prefeitu...   \n",
       "4      Uma forte chuva de granizo atingiu uma fazenda...   \n",
       "...                                                  ...   \n",
       "12537  Uma mulher foi presa na sexta-feira, 04 de fev...   \n",
       "12538  A mãe de uma garotinha de 6 anos de idade proc...   \n",
       "12539  O aterro sanitário de Poços de Caldas será des...   \n",
       "12540  De acordo com o corpo de bombeiros uma Brasíli...   \n",
       "12541  A Prefeitura de Andradas informou nesta quarta...   \n",
       "\n",
       "                                          thumbnail_link  \\\n",
       "0      https://i2.wp.com/ondapocos.com.br/wp-content/...   \n",
       "1      https://i1.wp.com/ondapocos.com.br/wp-content/...   \n",
       "2      https://i0.wp.com/ondapocos.com.br/wp-content/...   \n",
       "3      https://i1.wp.com/ondapocos.com.br/wp-content/...   \n",
       "4      https://i0.wp.com/ondapocos.com.br/wp-content/...   \n",
       "...                                                  ...   \n",
       "12537  https://i2.wp.com/ondapocos.com.br/wp-content/...   \n",
       "12538  https://i0.wp.com/ondapocos.com.br/wp-content/...   \n",
       "12539  https://i2.wp.com/ondapocos.com.br/wp-content/...   \n",
       "12540  https://i1.wp.com/ondapocos.com.br/wp-content/...   \n",
       "12541  https://i0.wp.com/ondapocos.com.br/wp-content/...   \n",
       "\n",
       "                                           thumbnail_alt  \\\n",
       "0      OLIMPÍADAS | Brasil fica em melhor posição da ...   \n",
       "1      Sistema para incentivar participação de mulher...   \n",
       "2                                                          \n",
       "3      Em aglomeração no Cristo, jovem é preso por de...   \n",
       "4      Vídeo: forte chuva de granizo deixa parte de f...   \n",
       "...                                                  ...   \n",
       "12537  Mulher de 43 anos é presa por maus tratos aos ...   \n",
       "12538  Motociclista morre em acidente na rodovia Cont...   \n",
       "12539  Aterro sanitário de Poços de Caldas será desat...   \n",
       "12540   GUAXUPÉ | Brasília pega fogo e assusta moradores   \n",
       "12541  Minas Gerais confirma 1º caso de varíola dos m...   \n",
       "\n",
       "                       categories  \n",
       "0      Destaques|Esporte|Notícias  \n",
       "1        Destaques|Geral|Notícias  \n",
       "2               Notícias|Policial  \n",
       "3               Notícias|Policial  \n",
       "4              Destaques|Notícias  \n",
       "...                           ...  \n",
       "12537          Destaques|Policial  \n",
       "12538              Geral|Notícias  \n",
       "12539              Geral|Notícias  \n",
       "12540           Notícias|Policial  \n",
       "12541    Destaques|Geral|Notícias  \n",
       "\n",
       "[12542 rows x 10 columns]"
      ]
     },
     "execution_count": 7,
     "metadata": {},
     "output_type": "execute_result"
    }
   ],
   "source": [
    "import pandas as pd\n",
    "\n",
    "# Substitua a consulta SQL apropriada\n",
    "sql_query = f'SELECT * FROM {table_name}'\n",
    "\n",
    "# Executar a consulta SQL e ler os resultados em um DataFrame\n",
    "df = pd.read_sql(sql_query, conn)\n",
    "\n",
    "# Fechar a conexão com o banco de dados\n",
    "conn.close()\n",
    "\n",
    "df"
   ]
  },
  {
   "cell_type": "markdown",
   "id": "ed7c2ebf-0d17-4ce7-81f1-450545fe58da",
   "metadata": {},
   "source": [
    "# Criar vecstore"
   ]
  },
  {
   "cell_type": "code",
   "execution_count": 8,
   "id": "4ef2303e-511d-4aca-9051-60db136d0af8",
   "metadata": {},
   "outputs": [],
   "source": [
    "import pandas as pd\n",
    "\n",
    "import sqlite3\n",
    "import pandas as pd\n",
    "\n",
    "\n",
    "from langchain.document_loaders import TextLoader\n",
    "from langchain.embeddings.openai import OpenAIEmbeddings\n",
    "from langchain.text_splitter import RecursiveCharacterTextSplitter\n",
    "from langchain.vectorstores import FAISS\n",
    "from langchain.schema import Document"
   ]
  },
  {
   "cell_type": "code",
   "execution_count": 44,
   "id": "298214b8-4937-436b-af84-8e5dcb9b6ddc",
   "metadata": {},
   "outputs": [],
   "source": [
    "df = df.sort_values(\"date\", ascending=False)\n",
    "df['content'] = df['content'].str.split('Receba as notícias através').str[0]\n",
    "\n",
    "df = df[df['content'].apply(len)>=250].copy()\n",
    "df['date'] = df['date'].astype(str)"
   ]
  },
  {
   "cell_type": "code",
   "execution_count": 45,
   "id": "be0e63b6-cc36-42e7-9cc6-435c0b10beaf",
   "metadata": {},
   "outputs": [
    {
     "name": "stdout",
     "output_type": "stream",
     "text": [
      "CPU times: user 153 ms, sys: 10.1 ms, total: 163 ms\n",
      "Wall time: 162 ms\n"
     ]
    }
   ],
   "source": [
    "%%time\n",
    "\n",
    "metadata = df.drop(columns=[\"id\", \"content\"]).to_dict(orient=\"records\")\n",
    "ids = df['id'].to_list()\n",
    "content = df['content'].to_list()\n",
    "documents = [Document(page_content=c, metadata=m) for c, m in zip(content, metadata)]"
   ]
  },
  {
   "cell_type": "code",
   "execution_count": 11,
   "id": "12eff7af-a8a1-4f86-85be-eb8edce00f6f",
   "metadata": {},
   "outputs": [],
   "source": [
    "# RUN python -c \"from langchain.embeddings import HuggingFaceEmbeddings; embeddings = HuggingFaceEmbeddings(model_name='unicamp-dl/ptt5-base-portuguese-vocab')\"\n",
    "# RUN python -c \"from langchain.embeddings import HuggingFaceEmbeddings; embeddings = HuggingFaceEmbeddings(model_name='facebook/m2m100_418M')\"\n",
    "# RUN python -c \"from langchain.embeddings import HuggingFaceEmbeddings; embeddings = HuggingFaceEmbeddings(model_name='facebook/mbart-large-50')\"\n",
    "# RUN python -c \"from langchain.embeddings import HuggingFaceEmbeddings; embeddings = HuggingFaceEmbeddings(model_name='pierreguillou/t5-base-qa-squad-v1.1-portuguese')\""
   ]
  },
  {
   "cell_type": "code",
   "execution_count": 46,
   "id": "5b3b4fcc-ccac-40b5-9f8f-6725b6e993aa",
   "metadata": {},
   "outputs": [
    {
     "data": {
      "text/plain": [
       "[Collection(name=embeddings-unicamp-dl-ptt5-base-portuguese-vocab)]"
      ]
     },
     "execution_count": 46,
     "metadata": {},
     "output_type": "execute_result"
    }
   ],
   "source": [
    "import os\n",
    "import chromadb\n",
    "from chromadb.config import Settings\n",
    "from tqdm import tqdm\n",
    "\n",
    "chroma_client = chromadb.HttpClient(host=\"chroma-server\", port = 8000, settings=Settings(allow_reset=True, anonymized_telemetry=False))\n",
    "\n",
    "chroma_client.list_collections()"
   ]
  },
  {
   "cell_type": "code",
   "execution_count": 53,
   "id": "b1023fbc-b6ca-4aa3-95ba-5301cfe1608a",
   "metadata": {},
   "outputs": [
    {
     "name": "stderr",
     "output_type": "stream",
     "text": [
      "100%|██████████| 12407/12407 [55:37<00:00,  3.72it/s] \n"
     ]
    }
   ],
   "source": [
    "from langchain.embeddings import HuggingFaceEmbeddings\n",
    "\n",
    "model_name = \"unicamp-dl/ptt5-base-portuguese-vocab\"\n",
    "\n",
    "embeddings = HuggingFaceEmbeddings(model_name=model_name)\n",
    "\n",
    "document_collection = chroma_client.get_or_create_collection(name=model_name.replace(\"/\",\"-\")\n",
    "\n",
    "for i, c, m in tqdm(zip(ids, content, metadata), total=len(df)):\n",
    "    try:\n",
    "        e = embeddings.embed_query(c)\n",
    "        document_collection.add(documents=[c], metadatas=[m], ids=[i], embeddings=[e])\n",
    "    except:\n",
    "        pass"
   ]
  },
  {
   "cell_type": "code",
   "execution_count": 51,
   "id": "d6a91841-39c2-4827-b4f7-ca3b8336c58b",
   "metadata": {},
   "outputs": [
    {
     "data": {
      "text/plain": [
       "1"
      ]
     },
     "execution_count": 51,
     "metadata": {},
     "output_type": "execute_result"
    }
   ],
   "source": [
    "document_collection.count()"
   ]
  },
  {
   "cell_type": "code",
   "execution_count": 55,
   "id": "ac85847e-8995-42f3-b189-264529cd734a",
   "metadata": {},
   "outputs": [
    {
     "name": "stderr",
     "output_type": "stream",
     "text": [
      ".gitattributes: 100%|██████████| 690/690 [00:00<00:00, 327kB/s]\n",
      "README.md: 100%|██████████| 4.60k/4.60k [00:00<00:00, 10.5MB/s]\n",
      "config.json: 100%|██████████| 908/908 [00:00<00:00, 1.62MB/s]\n",
      "generation_config.json: 100%|██████████| 233/233 [00:00<00:00, 1.68MB/s]\n",
      "pytorch_model.bin: 100%|██████████| 1.94G/1.94G [03:51<00:00, 8.37MB/s]\n",
      "sentencepiece.bpe.model: 100%|██████████| 2.42M/2.42M [00:00<00:00, 8.37MB/s]\n",
      "special_tokens_map.json: 100%|██████████| 1.14k/1.14k [00:00<00:00, 2.84MB/s]\n",
      "tokenizer_config.json: 100%|██████████| 272/272 [00:00<00:00, 288kB/s]\n",
      "vocab.json: 100%|██████████| 3.71M/3.71M [00:00<00:00, 4.79MB/s]\n",
      "No sentence-transformers model found with name /home/jovyan/.cache/torch/sentence_transformers/facebook_m2m100_418M. Creating a new one with MEAN pooling.\n",
      "100%|██████████| 12407/12407 [1:31:26<00:00,  2.26it/s] \n",
      ".gitattributes: 100%|██████████| 690/690 [00:00<00:00, 807kB/s]\n",
      "README.md: 100%|██████████| 4.60k/4.60k [00:00<00:00, 7.02MB/s]\n",
      "config.json: 100%|██████████| 1.42k/1.42k [00:00<00:00, 9.83MB/s]\n",
      "generation_config.json: 100%|██████████| 261/261 [00:00<00:00, 273kB/s]\n",
      "pytorch_model.bin: 100%|██████████| 2.44G/2.44G [04:11<00:00, 9.73MB/s]\n",
      "sentencepiece.bpe.model: 100%|██████████| 5.07M/5.07M [00:00<00:00, 17.6MB/s]\n",
      "special_tokens_map.json: 100%|██████████| 649/649 [00:00<00:00, 2.64MB/s]\n",
      "tokenizer_config.json: 100%|██████████| 531/531 [00:00<00:00, 1.14MB/s]\n",
      "No sentence-transformers model found with name /home/jovyan/.cache/torch/sentence_transformers/facebook_mbart-large-50. Creating a new one with MEAN pooling.\n",
      "100%|██████████| 12407/12407 [3:30:34<00:00,  1.02s/it]  \n",
      ".gitattributes: 100%|██████████| 1.18k/1.18k [00:00<00:00, 5.64MB/s]\n",
      "README.md: 100%|██████████| 8.05k/8.05k [00:00<00:00, 42.7MB/s]\n",
      "config.json: 100%|██████████| 723/723 [00:00<00:00, 5.23MB/s]\n",
      "pytorch_model.bin: 100%|██████████| 892M/892M [01:55<00:00, 7.71MB/s] \n",
      "special_tokens_map.json: 100%|██████████| 1.79k/1.79k [00:00<00:00, 8.96MB/s]\n",
      "spiece.model: 100%|██████████| 756k/756k [00:00<00:00, 4.93MB/s]\n",
      "tokenizer.json: 100%|██████████| 1.35M/1.35M [00:00<00:00, 3.49MB/s]\n",
      "tokenizer_config.json: 100%|██████████| 2.00k/2.00k [00:00<00:00, 13.7MB/s]\n",
      "training_args.bin: 100%|██████████| 3.12k/3.12k [00:00<00:00, 24.5MB/s]\n",
      "No sentence-transformers model found with name /home/jovyan/.cache/torch/sentence_transformers/pierreguillou_t5-base-qa-squad-v1.1-portuguese. Creating a new one with MEAN pooling.\n",
      "  0%|          | 0/12407 [00:00<?, ?it/s]Asking to truncate to max_length but no maximum length is provided and the model has no predefined maximum length. Default to no truncation.\n",
      "100%|██████████| 12407/12407 [55:59<00:00,  3.69it/s] "
     ]
    },
    {
     "name": "stdout",
     "output_type": "stream",
     "text": [
      "CPU times: user 1d 17h 7min 37s, sys: 5min 18s, total: 1d 17h 12min 56s\n",
      "Wall time: 6h 8min 23s\n"
     ]
    },
    {
     "name": "stderr",
     "output_type": "stream",
     "text": [
      "\n"
     ]
    }
   ],
   "source": [
    "%%time\n",
    "models = ['facebook/m2m100_418M', 'facebook/mbart-large-50', 'pierreguillou/t5-base-qa-squad-v1.1-portuguese']\n",
    "\n",
    "for model_name in models:\n",
    "    try:\n",
    "        embeddings = HuggingFaceEmbeddings(model_name=model_name)\n",
    "        document_collection = chroma_client.get_or_create_collection(name=model_name.replace(\"/\",\"-\"))\n",
    "        for i, c, m in tqdm(zip(ids, content, metadata), total=len(df)):\n",
    "            try:\n",
    "                e = embeddings.embed_query(c)\n",
    "                document_collection.add(documents=[c], metadatas=[m], ids=[i], embeddings=[e])\n",
    "            except:\n",
    "                pass\n",
    "    except Exception as err:\n",
    "        print(err)\n",
    "        "
   ]
  },
  {
   "cell_type": "code",
   "execution_count": null,
   "id": "b827e150-5863-4a16-89d6-ef4b100a797a",
   "metadata": {},
   "outputs": [],
   "source": []
  },
  {
   "cell_type": "code",
   "execution_count": null,
   "id": "1e95bb7f-6147-4c6b-91c3-e5dd7fde0640",
   "metadata": {},
   "outputs": [],
   "source": []
  },
  {
   "cell_type": "code",
   "execution_count": 16,
   "id": "721077c5-c4f0-421a-8788-36113e400199",
   "metadata": {},
   "outputs": [],
   "source": [
    "document_collection = chroma_client.get_or_create_collection(name=\"embeddings-unicamp-dl-ptt5-base-portuguese-vocab\")\n",
    "\n",
    "# results = document_collection.query(query_texts=\"Give me some facts about space\", n_results=3)\n",
    "\n",
    "# result_documents = results[\"documents\"][0]\n",
    "# for doc in result_documents:\n",
    "#     print(doc)"
   ]
  },
  {
   "cell_type": "code",
   "execution_count": null,
   "id": "111e7ba0-9ed5-4678-b746-e55d7e30195d",
   "metadata": {},
   "outputs": [],
   "source": [
    "document_collection.add("
   ]
  },
  {
   "cell_type": "code",
   "execution_count": null,
   "id": "76edf8dc-9097-487e-94c1-2263f19898d6",
   "metadata": {},
   "outputs": [],
   "source": []
  },
  {
   "cell_type": "code",
   "execution_count": null,
   "id": "dbe8b94f-f64a-4315-aba2-e669edb35753",
   "metadata": {},
   "outputs": [],
   "source": []
  },
  {
   "cell_type": "code",
   "execution_count": null,
   "id": "6415f194-8822-48d7-9563-00fb95ed04d8",
   "metadata": {},
   "outputs": [],
   "source": []
  },
  {
   "cell_type": "code",
   "execution_count": 32,
   "id": "25d764dd-50a9-4b5b-a68f-1704153c6dbc",
   "metadata": {},
   "outputs": [
    {
     "data": {
      "image/png": "[encoded data removed]",
      "text/plain": [
       "<Figure size 640x480 with 1 Axes>"
      ]
     },
     "metadata": {},
     "output_type": "display_data"
    }
   ],
   "source": [
    "import matplotlib.pyplot as plt\n",
    "\n",
    "df['content'].apply(len).clip(0,4000).hist(bins=400)\n",
    "\n",
    "plt.xlim([0,400])\n",
    "\n",
    "plt.show()"
   ]
  },
  {
   "cell_type": "code",
   "execution_count": null,
   "id": "945193f8-3046-4d8c-bc8a-1ebbe070c0eb",
   "metadata": {},
   "outputs": [],
   "source": []
  },
  {
   "cell_type": "code",
   "execution_count": null,
   "id": "4c25e0da-4aea-4592-b0e8-d04e9812fa41",
   "metadata": {},
   "outputs": [],
   "source": []
  },
  {
   "cell_type": "code",
   "execution_count": null,
   "id": "f1dfd64b-8a57-463d-bf0a-a8989a19fa27",
   "metadata": {},
   "outputs": [],
   "source": []
  },
  {
   "cell_type": "code",
   "execution_count": null,
   "id": "5a9dc952-aae5-4dbf-8e6b-ebc959b273ed",
   "metadata": {},
   "outputs": [],
   "source": []
  },
  {
   "cell_type": "code",
   "execution_count": null,
   "id": "0aaf869a-54ff-480b-ad6e-1c9c0a7c4828",
   "metadata": {},
   "outputs": [],
   "source": []
  },
  {
   "cell_type": "code",
   "execution_count": null,
   "id": "775f983f-a63e-4532-8054-a4ad701ea464",
   "metadata": {},
   "outputs": [],
   "source": []
  },
  {
   "cell_type": "code",
   "execution_count": null,
   "id": "a81cc530-0801-41b2-88e1-fffdc7ab709d",
   "metadata": {},
   "outputs": [],
   "source": []
  }
 ],
 "metadata": {
  "kernelspec": {
   "display_name": "Python 3 (ipykernel)",
   "language": "python",
   "name": "python3"
  },
  "language_info": {
   "codemirror_mode": {
    "name": "ipython",
    "version": 3
   },
   "file_extension": ".py",
   "mimetype": "text/x-python",
   "name": "python",
   "nbconvert_exporter": "python",
   "pygments_lexer": "ipython3",
   "version": "3.11.6"
  }
 },
 "nbformat": 4,
 "nbformat_minor": 5
}
