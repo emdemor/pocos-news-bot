{
 "cells": [
  {
   "cell_type": "code",
   "execution_count": 1,
   "id": "b4a6b4af-1c00-4c20-a7ee-d78941ddb4f5",
   "metadata": {},
   "outputs": [],
   "source": [
    "%config Completer.use_jedi = False"
   ]
  },
  {
   "cell_type": "code",
   "execution_count": 5,
   "id": "26417e11-ecd4-4d2f-a928-14eeb4819609",
   "metadata": {},
   "outputs": [],
   "source": [
    "from bot import NewsBot\n",
    "\n",
    "news_bot = NewsBot(verbose=False)"
   ]
  },
  {
   "cell_type": "code",
   "execution_count": 6,
   "id": "11eec071-d839-4dfd-a7b5-2d2adec29e1f",
   "metadata": {},
   "outputs": [
    {
     "name": "stderr",
     "output_type": "stream",
     "text": [
      "\u001b[32m2024-01-09 02:21:47.554\u001b[0m | \u001b[34m\u001b[1mDEBUG   \u001b[0m | \u001b[36mbot.newsbot\u001b[0m:\u001b[36mask\u001b[0m:\u001b[36m61\u001b[0m - \u001b[34m\u001b[1mPergunta original: Acidentes de moto\u001b[0m\n",
      "\u001b[32m2024-01-09 02:21:47.556\u001b[0m | \u001b[34m\u001b[1mDEBUG   \u001b[0m | \u001b[36mbot.newsbot\u001b[0m:\u001b[36mask\u001b[0m:\u001b[36m62\u001b[0m - \u001b[34m\u001b[1mPergunta melhorada: Quais são as notícias recentes sobre acidentes de moto em Poços de Caldas e região?\u001b[0m\n",
      "\u001b[32m2024-01-09 02:21:48.198\u001b[0m | \u001b[34m\u001b[1mDEBUG   \u001b[0m | \u001b[36mbot.newsbot\u001b[0m:\u001b[36mask\u001b[0m:\u001b[36m65\u001b[0m - \u001b[34m\u001b[1mIntenção: Consulta de conteúdo\u001b[0m\n"
     ]
    },
    {
     "data": {
      "text/plain": [
       "{'response': '{\\n    \"resposta\": \"Foram registrados dois acidentes de moto recentemente em Poços de Caldas. Um deles ocorreu na Avenida Alcoa, na região sul da cidade, onde um motociclista ficou ferido após colidir com uma carreta. O outro acidente foi registrado na Avenida Vereador Edmundo Cardillo, no trevo de acesso ao bairro Bianucci, onde uma moto colidiu com um carro que avançou o sinal de pare. Ambos os acidentes resultaram em ferimentos leves nos motociclistas.\",\\n    \"link\": \"https://ondapocos.com.br/motociclista-fica-ferido-em-acidente-na-regiao-sul-de-pocos-de-caldas/\",\\n    \"data\": \"2022-05-27\",\\n    \"titulo\": \"Motociclista fica ferido em acidente na região sul de Poços de Caldas\",\\n    \"autor\": \"Aline Rodrigues\"\\n}',\n",
       " 'execution_id': 'a258583e76be4b2aaf5677a411adbb2c'}"
      ]
     },
     "execution_count": 6,
     "metadata": {},
     "output_type": "execute_result"
    }
   ],
   "source": [
    "news_bot.ask(\"Acidentes de moto\")"
   ]
  },
  {
   "cell_type": "code",
   "execution_count": null,
   "id": "6a34e2fb-e2f5-457b-93d4-8668dcde8d20",
   "metadata": {},
   "outputs": [],
   "source": []
  },
  {
   "cell_type": "code",
   "execution_count": null,
   "id": "f5cc2833-38d9-44c9-8ffd-7da608223fe6",
   "metadata": {},
   "outputs": [],
   "source": []
  },
  {
   "cell_type": "code",
   "execution_count": null,
   "id": "5d4fcfac-cae0-4c49-b89e-16e3c52118d4",
   "metadata": {},
   "outputs": [],
   "source": []
  },
  {
   "cell_type": "code",
   "execution_count": null,
   "id": "09b436e3-317d-489c-b509-5d7abc91b69a",
   "metadata": {},
   "outputs": [],
   "source": []
  }
 ],
 "metadata": {
  "kernelspec": {
   "display_name": "Python 3 (ipykernel)",
   "language": "python",
   "name": "python3"
  },
  "language_info": {
   "codemirror_mode": {
    "name": "ipython",
    "version": 3
   },
   "file_extension": ".py",
   "mimetype": "text/x-python",
   "name": "python",
   "nbconvert_exporter": "python",
   "pygments_lexer": "ipython3",
   "version": "3.11.6"
  }
 },
 "nbformat": 4,
 "nbformat_minor": 5
}
