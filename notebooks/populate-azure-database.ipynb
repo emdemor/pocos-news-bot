{
 "cells": [
  {
   "cell_type": "code",
   "execution_count": 1,
   "id": "7d23a403-cdfb-43c3-8116-5962e98bce3b",
   "metadata": {},
   "outputs": [],
   "source": [
    "import os\n",
    "import pyodbc, struct\n",
    "from azure import identity\n",
    "\n",
    "from typing import Union\n",
    "from fastapi import FastAPI\n",
    "from pydantic import BaseModel\n",
    "\n",
    "import sqlite3\n",
    "import pandas as pd\n",
    "\n",
    "from loguru import logger\n",
    "from tqdm import tqdm"
   ]
  },
  {
   "cell_type": "code",
   "execution_count": 2,
   "id": "9f80b1af",
   "metadata": {},
   "outputs": [],
   "source": [
    "def get_dataset_from_sqlite(path: str) -> pd.DataFrame:\n",
    "\n",
    "    with sqlite3.connect(path) as conn:\n",
    "        df = pd.read_sql_query(\n",
    "            \"SELECT * FROM ondapocos;\",\n",
    "            conn,\n",
    "            parse_dates=[\"date\"]\n",
    "        )\n",
    "\n",
    "\n",
    "    df = df.sort_values(\"date\", ascending=False)\n",
    "\n",
    "    df['content'] = df['content'].str.split('Receba as notícias através').str[0]\n",
    "\n",
    "    string_columns = [\n",
    "        \"id\",\n",
    "        \"title\",\n",
    "        \"author\",\n",
    "        \"snippet\",\n",
    "        \"link\",\n",
    "        \"content\",\n",
    "        \"thumbnail_link\",\n",
    "        \"thumbnail_alt\",\n",
    "        \"categories\",\n",
    "    ]\n",
    "\n",
    "    for col in string_columns:\n",
    "        df[col] = df[col].astype(\"string\")\n",
    "    \n",
    "    return df"
   ]
  },
  {
   "cell_type": "code",
   "execution_count": 3,
   "id": "e1b6318e-acb0-4106-95a8-9b45b9e45066",
   "metadata": {},
   "outputs": [],
   "source": [
    "def populate_azure_database(df: pd.DataFrame, timeout: int = 60) -> None:\n",
    "    table_name = f'{os.environ[\"RAW_DATA_SCHEMA\"]}.{os.environ[\"RAW_DATA_TABLE\"]}'\n",
    "    connection_string = 'DRIVER={driver};SERVER={server};DATABASE={database};UID={username};PWD={password}'.format(\n",
    "        server = os.environ[\"AZURE_SQL_SERVER\"],\n",
    "        database = os.environ[\"AZURE_SQL_DATABASE\"],\n",
    "        driver = os.environ[\"AZURE_SQL_DRIVER\"],\n",
    "        username = os.environ[\"AZURE_SQL_USERNAME\"],\n",
    "        password = os.environ[\"AZURE_SQL_PASSWORD\"],\n",
    "    )\n",
    "    conn = pyodbc.connect(connection_string, timeout=timeout)\n",
    "    cursor = conn.cursor()\n",
    "    for index, row in tqdm(df.iterrows(), total=len(df)):\n",
    "        try:\n",
    "            cursor.execute(f\"\"\"\n",
    "                INSERT INTO {table_name} \n",
    "                (id, title, author, date, snippet, link, content, thumbnail_link, thumbnail_alt, categories)\n",
    "                VALUES (?, ?, ?, ?, ?, ?, ?, ?, ?, ?)\n",
    "            \"\"\", (\n",
    "                row['id'],\n",
    "                row['title'],\n",
    "                row['author'],\n",
    "                row['date'],\n",
    "                row['snippet'],\n",
    "                row['link'],\n",
    "                row['content'],\n",
    "                row['thumbnail_link'],\n",
    "                row['thumbnail_alt'],\n",
    "                row['categories']\n",
    "            ))\n",
    "    \n",
    "        except pyodbc.IntegrityError as err:\n",
    "            logger.error(f\"ID {row['id']} is already in database {table_name}.\")\n",
    "    conn.commit()\n",
    "    conn.close()"
   ]
  },
  {
   "cell_type": "code",
   "execution_count": 14,
   "id": "9e8c17f0-97c7-4f6e-b055-a07946556547",
   "metadata": {
    "scrolled": true
   },
   "outputs": [],
   "source": [
    "df = get_dataset_from_sqlite(\"pocos-news.db\")\n",
    "\n",
    "populate_azure_database(df)"
   ]
  }
 ],
 "metadata": {
  "kernelspec": {
   "display_name": "Python 3 (ipykernel)",
   "language": "python",
   "name": "python3"
  },
  "language_info": {
   "codemirror_mode": {
    "name": "ipython",
    "version": 3
   },
   "file_extension": ".py",
   "mimetype": "text/x-python",
   "name": "python",
   "nbconvert_exporter": "python",
   "pygments_lexer": "ipython3",
   "version": "3.11.6"
  }
 },
 "nbformat": 4,
 "nbformat_minor": 5
}
